{
 "cells": [
  {
   "cell_type": "markdown",
   "id": "768a3bf0",
   "metadata": {},
   "source": [
    "### Cleaning "
   ]
  },
  {
   "cell_type": "markdown",
   "id": "de941633",
   "metadata": {},
   "source": [
    "#### What to clean:\n",
    "a) missing values (NaN)\n",
    "b) Convert date to date-time\n",
    "c) check for outliers (any non realistic data)\n",
    "d) numeric should be int or float"
   ]
  },
  {
   "cell_type": "code",
   "execution_count": 51,
   "id": "a591129a",
   "metadata": {},
   "outputs": [],
   "source": [
    "import pandas as pd\n",
    "import numpy as np\n",
    "import matplotlib as plt\n",
    "import seaborn as sb"
   ]
  },
  {
   "cell_type": "code",
   "execution_count": 52,
   "id": "3b5ba6fd",
   "metadata": {},
   "outputs": [
    {
     "name": "stdout",
     "output_type": "stream",
     "text": [
      "<class 'pandas.core.frame.DataFrame'>\n",
      "RangeIndex: 500 entries, 0 to 499\n",
      "Data columns (total 9 columns):\n",
      " #   Column          Non-Null Count  Dtype  \n",
      "---  ------          --------------  -----  \n",
      " 0   Date            500 non-null    object \n",
      " 1   Month           500 non-null    object \n",
      " 2   Weekday         500 non-null    object \n",
      " 3   Steps           500 non-null    int64  \n",
      " 4   Calories        500 non-null    int64  \n",
      " 5   WorkoutMinutes  500 non-null    int64  \n",
      " 6   SleepHours      500 non-null    float64\n",
      " 7   WaterIntake(L)  500 non-null    float64\n",
      " 8   HeartRate       500 non-null    int64  \n",
      "dtypes: float64(2), int64(4), object(3)\n",
      "memory usage: 35.3+ KB\n"
     ]
    }
   ],
   "source": [
    "df = pd.read_csv('fitness_dashboard_data.csv')\n",
    "df.info()"
   ]
  },
  {
   "cell_type": "code",
   "execution_count": 53,
   "id": "bee30880",
   "metadata": {},
   "outputs": [
    {
     "data": {
      "text/html": [
       "<div>\n",
       "<style scoped>\n",
       "    .dataframe tbody tr th:only-of-type {\n",
       "        vertical-align: middle;\n",
       "    }\n",
       "\n",
       "    .dataframe tbody tr th {\n",
       "        vertical-align: top;\n",
       "    }\n",
       "\n",
       "    .dataframe thead th {\n",
       "        text-align: right;\n",
       "    }\n",
       "</style>\n",
       "<table border=\"1\" class=\"dataframe\">\n",
       "  <thead>\n",
       "    <tr style=\"text-align: right;\">\n",
       "      <th></th>\n",
       "      <th>Date</th>\n",
       "      <th>Month</th>\n",
       "      <th>Weekday</th>\n",
       "      <th>Steps</th>\n",
       "      <th>Calories</th>\n",
       "      <th>WorkoutMinutes</th>\n",
       "      <th>SleepHours</th>\n",
       "      <th>WaterIntake(L)</th>\n",
       "      <th>HeartRate</th>\n",
       "    </tr>\n",
       "  </thead>\n",
       "  <tbody>\n",
       "    <tr>\n",
       "      <th>0</th>\n",
       "      <td>2023-01-01</td>\n",
       "      <td>January</td>\n",
       "      <td>Sunday</td>\n",
       "      <td>18122</td>\n",
       "      <td>2877</td>\n",
       "      <td>66</td>\n",
       "      <td>10.0</td>\n",
       "      <td>1.59</td>\n",
       "      <td>76</td>\n",
       "    </tr>\n",
       "    <tr>\n",
       "      <th>1</th>\n",
       "      <td>2023-01-02</td>\n",
       "      <td>January</td>\n",
       "      <td>Monday</td>\n",
       "      <td>12538</td>\n",
       "      <td>3989</td>\n",
       "      <td>103</td>\n",
       "      <td>5.6</td>\n",
       "      <td>2.49</td>\n",
       "      <td>69</td>\n",
       "    </tr>\n",
       "    <tr>\n",
       "      <th>2</th>\n",
       "      <td>2023-01-03</td>\n",
       "      <td>January</td>\n",
       "      <td>Tuesday</td>\n",
       "      <td>10994</td>\n",
       "      <td>3877</td>\n",
       "      <td>117</td>\n",
       "      <td>6.1</td>\n",
       "      <td>2.19</td>\n",
       "      <td>64</td>\n",
       "    </tr>\n",
       "    <tr>\n",
       "      <th>3</th>\n",
       "      <td>2023-01-04</td>\n",
       "      <td>January</td>\n",
       "      <td>Wednesday</td>\n",
       "      <td>19074</td>\n",
       "      <td>2926</td>\n",
       "      <td>0</td>\n",
       "      <td>6.0</td>\n",
       "      <td>1.63</td>\n",
       "      <td>104</td>\n",
       "    </tr>\n",
       "    <tr>\n",
       "      <th>4</th>\n",
       "      <td>2023-01-05</td>\n",
       "      <td>January</td>\n",
       "      <td>Thursday</td>\n",
       "      <td>18948</td>\n",
       "      <td>2004</td>\n",
       "      <td>11</td>\n",
       "      <td>8.2</td>\n",
       "      <td>2.82</td>\n",
       "      <td>95</td>\n",
       "    </tr>\n",
       "  </tbody>\n",
       "</table>\n",
       "</div>"
      ],
      "text/plain": [
       "         Date    Month    Weekday  Steps  Calories  WorkoutMinutes  \\\n",
       "0  2023-01-01  January     Sunday  18122      2877              66   \n",
       "1  2023-01-02  January     Monday  12538      3989             103   \n",
       "2  2023-01-03  January    Tuesday  10994      3877             117   \n",
       "3  2023-01-04  January  Wednesday  19074      2926               0   \n",
       "4  2023-01-05  January   Thursday  18948      2004              11   \n",
       "\n",
       "   SleepHours  WaterIntake(L)  HeartRate  \n",
       "0        10.0            1.59         76  \n",
       "1         5.6            2.49         69  \n",
       "2         6.1            2.19         64  \n",
       "3         6.0            1.63        104  \n",
       "4         8.2            2.82         95  "
      ]
     },
     "execution_count": 53,
     "metadata": {},
     "output_type": "execute_result"
    }
   ],
   "source": [
    "df.head()"
   ]
  },
  {
   "cell_type": "code",
   "execution_count": 54,
   "id": "4dbf0c1a",
   "metadata": {},
   "outputs": [
    {
     "name": "stdout",
     "output_type": "stream",
     "text": [
      "<class 'pandas.core.frame.DataFrame'>\n",
      "RangeIndex: 500 entries, 0 to 499\n",
      "Data columns (total 9 columns):\n",
      " #   Column          Non-Null Count  Dtype         \n",
      "---  ------          --------------  -----         \n",
      " 0   Date            500 non-null    datetime64[ns]\n",
      " 1   Month           500 non-null    object        \n",
      " 2   Weekday         500 non-null    object        \n",
      " 3   Steps           500 non-null    int64         \n",
      " 4   Calories        500 non-null    int64         \n",
      " 5   WorkoutMinutes  500 non-null    int64         \n",
      " 6   SleepHours      500 non-null    float64       \n",
      " 7   WaterIntake(L)  500 non-null    float64       \n",
      " 8   HeartRate       500 non-null    int64         \n",
      "dtypes: datetime64[ns](1), float64(2), int64(4), object(2)\n",
      "memory usage: 35.3+ KB\n"
     ]
    }
   ],
   "source": [
    "df['Date'] = pd.to_datetime(df['Date'])\n",
    "df.info()"
   ]
  },
  {
   "cell_type": "code",
   "execution_count": 55,
   "id": "1c32adb5",
   "metadata": {},
   "outputs": [],
   "source": [
    "# checking for any outlier or impossible values \n",
    "if df['HeartRate'].any() > 200  or df['SleepHours'].any() > 12 or df['Steps'].any() > 25000 or (df['HeartRate']< 40).any():\n",
    "    print(\"NO\")"
   ]
  },
  {
   "cell_type": "code",
   "execution_count": 56,
   "id": "5caa9a6c",
   "metadata": {},
   "outputs": [
    {
     "data": {
      "text/plain": [
       "Date              False\n",
       "Month             False\n",
       "Weekday           False\n",
       "Steps             False\n",
       "Calories          False\n",
       "WorkoutMinutes    False\n",
       "SleepHours        False\n",
       "WaterIntake(L)    False\n",
       "HeartRate         False\n",
       "dtype: bool"
      ]
     },
     "execution_count": 56,
     "metadata": {},
     "output_type": "execute_result"
    }
   ],
   "source": [
    "# checking for Nan values \n",
    "df.isna().any()"
   ]
  },
  {
   "cell_type": "code",
   "execution_count": 63,
   "id": "f2c7c474",
   "metadata": {},
   "outputs": [],
   "source": [
    "# df.loc[df[\"WorkoutMinutes\"] == 0, \"WorkoutMinutes\"] = df[\"WorkoutMinutes\"].mean()\n",
    "mn = df[\"WorkoutMinutes\"].mean()\n",
    "df[df[\"WorkoutMinutes\"] == 0] = mn"
   ]
  },
  {
   "cell_type": "code",
   "execution_count": 66,
   "id": "e74452fd",
   "metadata": {},
   "outputs": [
    {
     "name": "stdout",
     "output_type": "stream",
     "text": [
      "<class 'pandas.core.frame.DataFrame'>\n",
      "RangeIndex: 500 entries, 0 to 499\n",
      "Data columns (total 9 columns):\n",
      " #   Column          Non-Null Count  Dtype         \n",
      "---  ------          --------------  -----         \n",
      " 0   Date            500 non-null    datetime64[ns]\n",
      " 1   Month           500 non-null    object        \n",
      " 2   Weekday         500 non-null    object        \n",
      " 3   Steps           500 non-null    int64         \n",
      " 4   Calories        500 non-null    int64         \n",
      " 5   WorkoutMinutes  500 non-null    float64       \n",
      " 6   SleepHours      500 non-null    float64       \n",
      " 7   WaterIntake(L)  500 non-null    float64       \n",
      " 8   HeartRate       500 non-null    int64         \n",
      "dtypes: datetime64[ns](1), float64(3), int64(3), object(2)\n",
      "memory usage: 35.3+ KB\n"
     ]
    }
   ],
   "source": [
    "df.to_csv('fitness_dashboard_data.csv',index=False)\n",
    "df.info()"
   ]
  }
 ],
 "metadata": {
  "kernelspec": {
   "display_name": ".venv",
   "language": "python",
   "name": "python3"
  },
  "language_info": {
   "codemirror_mode": {
    "name": "ipython",
    "version": 3
   },
   "file_extension": ".py",
   "mimetype": "text/x-python",
   "name": "python",
   "nbconvert_exporter": "python",
   "pygments_lexer": "ipython3",
   "version": "3.13.5"
  }
 },
 "nbformat": 4,
 "nbformat_minor": 5
}
