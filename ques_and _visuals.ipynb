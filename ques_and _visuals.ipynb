{
 "cells": [
  {
   "cell_type": "markdown",
   "id": "40a226e9",
   "metadata": {},
   "source": [
    "### Questions"
   ]
  },
  {
   "cell_type": "markdown",
   "id": "e53bc2e0",
   "metadata": {},
   "source": [
    "{} What is the average daily steps, calories, workout minutes, and sleep hours?\n",
    "\n",
    "{} Which weekday has the highest average steps?\n",
    "\n",
    "{} Which month do you burn the most calories?\n",
    "\n",
    "{} How many days did you meet the 10,000 steps goal?\n",
    "\n",
    "{} Are your steps increasing/decreasing over months?\n",
    "\n",
    "{} Does your average sleep change across weekdays (e.g., less sleep on weekends)?\n",
    "\n",
    "{} On which month did you work out the most?\n",
    "\n",
    "{} Do more steps = more calories burned? (Check correlation).\n",
    "\n",
    "{} Does longer workout time → better sleep?\n",
    "\n",
    "{} Does less sleep → higher heart rate the next day?\n",
    "\n",
    "{} Does higher water intake → lower heart rate (hydration effect)?\n",
    "\n",
    "{} “You are most active on Saturdays, averaging X steps.”\n",
    "\n",
    "{} “Your sleep is lowest on Mondays, only Y hours on average.”\n",
    "\n",
    "{} “Your average steps this month increased by Z% compared to last month.”\n",
    "\n",
    "{} “When you work out for more than 60 mins, your average heart rate decreases by N bpm.”"
   ]
  },
  {
   "cell_type": "code",
   "execution_count": 50,
   "id": "d22e0717",
   "metadata": {},
   "outputs": [],
   "source": [
    "import pandas as pd\n",
    "import numpy as np\n",
    "import matplotlib.pyplot as plt\n",
    "import seaborn as sns\n",
    "import plotly.express as px\n",
    "import plotly.graph_objects as go"
   ]
  },
  {
   "cell_type": "code",
   "execution_count": 51,
   "id": "9075914c",
   "metadata": {},
   "outputs": [
    {
     "name": "stdout",
     "output_type": "stream",
     "text": [
      "<class 'pandas.core.frame.DataFrame'>\n",
      "RangeIndex: 500 entries, 0 to 499\n",
      "Data columns (total 9 columns):\n",
      " #   Column          Non-Null Count  Dtype         \n",
      "---  ------          --------------  -----         \n",
      " 0   Date            500 non-null    datetime64[ns]\n",
      " 1   Month           500 non-null    object        \n",
      " 2   Weekday         500 non-null    object        \n",
      " 3   Steps           500 non-null    int64         \n",
      " 4   Calories        500 non-null    int64         \n",
      " 5   WorkoutMinutes  500 non-null    float64       \n",
      " 6   SleepHours      500 non-null    float64       \n",
      " 7   WaterIntake(L)  500 non-null    float64       \n",
      " 8   HeartRate       500 non-null    int64         \n",
      "dtypes: datetime64[ns](1), float64(3), int64(3), object(2)\n",
      "memory usage: 35.3+ KB\n"
     ]
    }
   ],
   "source": [
    "df = pd.read_csv(\"fitness_dashboard_data.csv\", parse_dates=[\"Date\"])\n",
    "df.info()"
   ]
  },
  {
   "cell_type": "code",
   "execution_count": 52,
   "id": "9f7b239b",
   "metadata": {},
   "outputs": [
    {
     "data": {
      "text/html": [
       "<div>\n",
       "<style scoped>\n",
       "    .dataframe tbody tr th:only-of-type {\n",
       "        vertical-align: middle;\n",
       "    }\n",
       "\n",
       "    .dataframe tbody tr th {\n",
       "        vertical-align: top;\n",
       "    }\n",
       "\n",
       "    .dataframe thead th {\n",
       "        text-align: right;\n",
       "    }\n",
       "</style>\n",
       "<table border=\"1\" class=\"dataframe\">\n",
       "  <thead>\n",
       "    <tr style=\"text-align: right;\">\n",
       "      <th></th>\n",
       "      <th>Date</th>\n",
       "      <th>Month</th>\n",
       "      <th>Weekday</th>\n",
       "      <th>Steps</th>\n",
       "      <th>Calories</th>\n",
       "      <th>WorkoutMinutes</th>\n",
       "      <th>SleepHours</th>\n",
       "      <th>WaterIntake(L)</th>\n",
       "      <th>HeartRate</th>\n",
       "    </tr>\n",
       "  </thead>\n",
       "  <tbody>\n",
       "    <tr>\n",
       "      <th>0</th>\n",
       "      <td>2023-01-01</td>\n",
       "      <td>January</td>\n",
       "      <td>Sunday</td>\n",
       "      <td>18122</td>\n",
       "      <td>2877</td>\n",
       "      <td>66.000</td>\n",
       "      <td>10.0</td>\n",
       "      <td>1.59</td>\n",
       "      <td>76</td>\n",
       "    </tr>\n",
       "    <tr>\n",
       "      <th>1</th>\n",
       "      <td>2023-01-02</td>\n",
       "      <td>January</td>\n",
       "      <td>Monday</td>\n",
       "      <td>12538</td>\n",
       "      <td>3989</td>\n",
       "      <td>103.000</td>\n",
       "      <td>5.6</td>\n",
       "      <td>2.49</td>\n",
       "      <td>69</td>\n",
       "    </tr>\n",
       "    <tr>\n",
       "      <th>2</th>\n",
       "      <td>2023-01-03</td>\n",
       "      <td>January</td>\n",
       "      <td>Tuesday</td>\n",
       "      <td>10994</td>\n",
       "      <td>3877</td>\n",
       "      <td>117.000</td>\n",
       "      <td>6.1</td>\n",
       "      <td>2.19</td>\n",
       "      <td>64</td>\n",
       "    </tr>\n",
       "    <tr>\n",
       "      <th>3</th>\n",
       "      <td>2023-01-04</td>\n",
       "      <td>January</td>\n",
       "      <td>Wednesday</td>\n",
       "      <td>19074</td>\n",
       "      <td>2926</td>\n",
       "      <td>60.662</td>\n",
       "      <td>6.0</td>\n",
       "      <td>1.63</td>\n",
       "      <td>104</td>\n",
       "    </tr>\n",
       "    <tr>\n",
       "      <th>4</th>\n",
       "      <td>2023-01-05</td>\n",
       "      <td>January</td>\n",
       "      <td>Thursday</td>\n",
       "      <td>18948</td>\n",
       "      <td>2004</td>\n",
       "      <td>11.000</td>\n",
       "      <td>8.2</td>\n",
       "      <td>2.82</td>\n",
       "      <td>95</td>\n",
       "    </tr>\n",
       "  </tbody>\n",
       "</table>\n",
       "</div>"
      ],
      "text/plain": [
       "        Date    Month    Weekday  Steps  Calories  WorkoutMinutes  SleepHours  \\\n",
       "0 2023-01-01  January     Sunday  18122      2877          66.000        10.0   \n",
       "1 2023-01-02  January     Monday  12538      3989         103.000         5.6   \n",
       "2 2023-01-03  January    Tuesday  10994      3877         117.000         6.1   \n",
       "3 2023-01-04  January  Wednesday  19074      2926          60.662         6.0   \n",
       "4 2023-01-05  January   Thursday  18948      2004          11.000         8.2   \n",
       "\n",
       "   WaterIntake(L)  HeartRate  \n",
       "0            1.59         76  \n",
       "1            2.49         69  \n",
       "2            2.19         64  \n",
       "3            1.63        104  \n",
       "4            2.82         95  "
      ]
     },
     "execution_count": 52,
     "metadata": {},
     "output_type": "execute_result"
    }
   ],
   "source": [
    "df.head()"
   ]
  },
  {
   "cell_type": "code",
   "execution_count": 53,
   "id": "b3a45218",
   "metadata": {},
   "outputs": [],
   "source": [
    "avg_steps = int(df['Steps'].mean())\n",
    "avg_cal = int(df['Calories'].mean())\n",
    "avg_min = int(df['WorkoutMinutes'].mean())\n",
    "avg_sleep = int(df['SleepHours'].mean())"
   ]
  },
  {
   "cell_type": "markdown",
   "id": "5ce75dd6",
   "metadata": {},
   "source": [
    "#### Ques --> What's related to what ?"
   ]
  },
  {
   "cell_type": "code",
   "execution_count": 54,
   "id": "889014ec",
   "metadata": {},
   "outputs": [
    {
     "data": {
      "image/png": "[encoded data removed]",
      "text/plain": [
       "<Figure size 800x600 with 2 Axes>"
      ]
     },
     "metadata": {},
     "output_type": "display_data"
    }
   ],
   "source": [
    "# Which factors are most connected in my life?\n",
    "numeric_df = df.select_dtypes(include=[\"int64\", \"float64\"])\n",
    "corr = numeric_df.corr()\n",
    "\n",
    "plt.figure(figsize=(8,6))\n",
    "sns.heatmap(corr,annot=True, cmap=\"coolwarm\",center=0,square=True, fmt=\".2f\")\n",
    "plt.title(\"Correlation heatmap of fitness matrics\",fontsize=14,pad=15)\n",
    "plt.tight_layout()\n",
    "plt.show()"
   ]
  },
  {
   "cell_type": "markdown",
   "id": "0df9b16e",
   "metadata": {},
   "source": [
    "#### Ques -> How do activity pattern evolve across time?"
   ]
  },
  {
   "cell_type": "code",
   "execution_count": 55,
   "id": "28076c92",
   "metadata": {},
   "outputs": [
    {
     "data": {
      "application/vnd.plotly.v1+json": {
       "config": {
        "plotlyServerURL": "https://plot.ly"
       },
       "data": [
        {
         "fillpattern": {
          "shape": ""
         },
         "hovertemplate": "variable=Steps<br>Week=%{x}<br>Total Activity=%{y}<extra></extra>",
         "legendgroup": "Steps",
         "line": {
          "color": "#636efa"
         },
         "marker": {
          "symbol": "circle"
         },
         "mode": "lines",
         "name": "Steps",
         "orientation": "v",
         "showlegend": true,
         "stackgroup": "1",
         "type": "scatter",
         "x": [
          "2023-01-01T00:00:00.000000000",
          "2023-01-08T00:00:00.000000000",
          "2023-01-15T00:00:00.000000000",
          "2023-01-22T00:00:00.000000000",
          "2023-01-29T00:00:00.000000000",
          "2023-02-05T00:00:00.000000000",
          "2023-02-12T00:00:00.000000000",
          "2023-02-19T00:00:00.000000000",
          "2023-02-26T00:00:00.000000000",
          "2023-03-05T00:00:00.000000000",
          "2023-03-12T00:00:00.000000000",
          "2023-03-19T00:00:00.000000000",
          "2023-03-26T00:00:00.000000000",
          "2023-04-02T00:00:00.000000000",
          "2023-04-09T00:00:00.000000000",
          "2023-04-16T00:00:00.000000000",
          "2023-04-23T00:00:00.000000000",
          "2023-04-30T00:00:00.000000000",
          "2023-05-07T00:00:00.000000000",
          "2023-05-14T00:00:00.000000000",
          "2023-05-21T00:00:00.000000000",
          "2023-05-28T00:00:00.000000000",
          "2023-06-04T00:00:00.000000000",
          "2023-06-11T00:00:00.000000000",
          "2023-06-18T00:00:00.000000000",
          "2023-06-25T00:00:00.000000000",
          "2023-07-02T00:00:00.000000000",
          "2023-07-09T00:00:00.000000000",
          "2023-07-16T00:00:00.000000000",
          "2023-07-23T00:00:00.000000000",
          "2023-07-30T00:00:00.000000000",
          "2023-08-06T00:00:00.000000000",
          "2023-08-13T00:00:00.000000000",
          "2023-08-20T00:00:00.000000000",
          "2023-08-27T00:00:00.000000000",
          "2023-09-03T00:00:00.000000000",
          "2023-09-10T00:00:00.000000000",
          "2023-09-17T00:00:00.000000000",
          "2023-09-24T00:00:00.000000000",
          "2023-10-01T00:00:00.000000000",
          "2023-10-08T00:00:00.000000000",
          "2023-10-15T00:00:00.000000000",
          "2023-10-22T00:00:00.000000000",
          "2023-10-29T00:00:00.000000000",
          "2023-11-05T00:00:00.000000000",
          "2023-11-12T00:00:00.000000000",
          "2023-11-19T00:00:00.000000000",
          "2023-11-26T00:00:00.000000000",
          "2023-12-03T00:00:00.000000000",
          "2023-12-10T00:00:00.000000000",
          "2023-12-17T00:00:00.000000000",
          "2023-12-24T00:00:00.000000000",
          "2023-12-31T00:00:00.000000000",
          "2024-01-07T00:00:00.000000000",
          "2024-01-14T00:00:00.000000000",
          "2024-01-21T00:00:00.000000000",
          "2024-01-28T00:00:00.000000000",
          "2024-02-04T00:00:00.000000000",
          "2024-02-11T00:00:00.000000000",
          "2024-02-18T00:00:00.000000000",
          "2024-02-25T00:00:00.000000000",
          "2024-03-03T00:00:00.000000000",
          "2024-03-10T00:00:00.000000000",
          "2024-03-17T00:00:00.000000000",
          "2024-03-24T00:00:00.000000000",
          "2024-03-31T00:00:00.000000000",
          "2024-04-07T00:00:00.000000000",
          "2024-04-14T00:00:00.000000000",
          "2024-04-21T00:00:00.000000000",
          "2024-04-28T00:00:00.000000000",
          "2024-05-05T00:00:00.000000000",
          "2024-05-12T00:00:00.000000000",
          "2024-05-19T00:00:00.000000000"
         ],
         "xaxis": "x",
         "y": {
          "bdata": "AAAAAICy0UAAAAAA4Fn1QAAAAADQUfhAAAAAAEA/90AAAAAAsCT2QAAAAADQzvJAAAAAAJBh9EAAAAAAYODwQAAAAAAgp+lAAAAAANB28UAAAAAAEJXwQAAAAAAAwPVAAAAAAEDA9UAAAAAAwJ7xQAAAAAAAG/BAAAAAAJBk9EAAAAAAUBb0QAAAAADw6/ZAAAAAAKDq6UAAAAAA0OzzQAAAAAAggfVAAAAAAGDc9kAAAAAA8Nz1QAAAAABAOvhAAAAAAGAK+EAAAAAAAKH3QAAAAABgx+5AAAAAAMA89EAAAAAAMAv2QAAAAABQmvRAAAAAAOB3+UAAAAAAEB7xQAAAAABQw/RAAAAAAKBW+EAAAAAAABrmQAAAAABAevhAAAAAADAO8kAAAAAAEOz3QAAAAADQY/JAAAAAAEDy70AAAAAAYHfuQAAAAABwoPNAAAAAANCY90AAAAAA4OfrQAAAAABQ8PBAAAAAACAx80AAAAAA0L/yQAAAAADwwPBAAAAAAEAH9UAAAAAAwJT1QAAAAADga+xAAAAAAMCQ70AAAAAAwDfzQAAAAACApvRAAAAAAJCr8kAAAAAAUGj2QAAAAACAYetAAAAAAMCG9EAAAAAAoIP1QAAAAACg7upAAAAAAAC09UAAAAAAALPzQAAAAABQC/BAAAAAADDT9EAAAAAAoIT0QAAAAABgq+9AAAAAAOD4+EAAAAAA8MP3QAAAAACQS/BAAAAAAMAm9UAAAAAAEIrxQAAAAACADPNAAAAAAIAYxEA=",
          "dtype": "f8"
         },
         "yaxis": "y"
        },
        {
         "fillpattern": {
          "shape": ""
         },
         "hovertemplate": "variable=Calories<br>Week=%{x}<br>Total Activity=%{y}<extra></extra>",
         "legendgroup": "Calories",
         "line": {
          "color": "#EF553B"
         },
         "marker": {
          "symbol": "circle"
         },
         "mode": "lines",
         "name": "Calories",
         "orientation": "v",
         "showlegend": true,
         "stackgroup": "1",
         "type": "scatter",
         "x": [
          "2023-01-01T00:00:00.000000000",
          "2023-01-08T00:00:00.000000000",
          "2023-01-15T00:00:00.000000000",
          "2023-01-22T00:00:00.000000000",
          "2023-01-29T00:00:00.000000000",
          "2023-02-05T00:00:00.000000000",
          "2023-02-12T00:00:00.000000000",
          "2023-02-19T00:00:00.000000000",
          "2023-02-26T00:00:00.000000000",
          "2023-03-05T00:00:00.000000000",
          "2023-03-12T00:00:00.000000000",
          "2023-03-19T00:00:00.000000000",
          "2023-03-26T00:00:00.000000000",
          "2023-04-02T00:00:00.000000000",
          "2023-04-09T00:00:00.000000000",
          "2023-04-16T00:00:00.000000000",
          "2023-04-23T00:00:00.000000000",
          "2023-04-30T00:00:00.000000000",
          "2023-05-07T00:00:00.000000000",
          "2023-05-14T00:00:00.000000000",
          "2023-05-21T00:00:00.000000000",
          "2023-05-28T00:00:00.000000000",
          "2023-06-04T00:00:00.000000000",
          "2023-06-11T00:00:00.000000000",
          "2023-06-18T00:00:00.000000000",
          "2023-06-25T00:00:00.000000000",
          "2023-07-02T00:00:00.000000000",
          "2023-07-09T00:00:00.000000000",
          "2023-07-16T00:00:00.000000000",
          "2023-07-23T00:00:00.000000000",
          "2023-07-30T00:00:00.000000000",
          "2023-08-06T00:00:00.000000000",
          "2023-08-13T00:00:00.000000000",
          "2023-08-20T00:00:00.000000000",
          "2023-08-27T00:00:00.000000000",
          "2023-09-03T00:00:00.000000000",
          "2023-09-10T00:00:00.000000000",
          "2023-09-17T00:00:00.000000000",
          "2023-09-24T00:00:00.000000000",
          "2023-10-01T00:00:00.000000000",
          "2023-10-08T00:00:00.000000000",
          "2023-10-15T00:00:00.000000000",
          "2023-10-22T00:00:00.000000000",
          "2023-10-29T00:00:00.000000000",
          "2023-11-05T00:00:00.000000000",
          "2023-11-12T00:00:00.000000000",
          "2023-11-19T00:00:00.000000000",
          "2023-11-26T00:00:00.000000000",
          "2023-12-03T00:00:00.000000000",
          "2023-12-10T00:00:00.000000000",
          "2023-12-17T00:00:00.000000000",
          "2023-12-24T00:00:00.000000000",
          "2023-12-31T00:00:00.000000000",
          "2024-01-07T00:00:00.000000000",
          "2024-01-14T00:00:00.000000000",
          "2024-01-21T00:00:00.000000000",
          "2024-01-28T00:00:00.000000000",
          "2024-02-04T00:00:00.000000000",
          "2024-02-11T00:00:00.000000000",
          "2024-02-18T00:00:00.000000000",
          "2024-02-25T00:00:00.000000000",
          "2024-03-03T00:00:00.000000000",
          "2024-03-10T00:00:00.000000000",
          "2024-03-17T00:00:00.000000000",
          "2024-03-24T00:00:00.000000000",
          "2024-03-31T00:00:00.000000000",
          "2024-04-07T00:00:00.000000000",
          "2024-04-14T00:00:00.000000000",
          "2024-04-21T00:00:00.000000000",
          "2024-04-28T00:00:00.000000000",
          "2024-05-05T00:00:00.000000000",
          "2024-05-12T00:00:00.000000000",
          "2024-05-19T00:00:00.000000000"
         ],
         "xaxis": "x",
         "y": {
          "bdata": "AAAAAAB6pkAAAAAAwN/VQAAAAACAgNRAAAAAAMAR0UAAAAAAQDzRQAAAAABAaNRAAAAAAMAF0UAAAAAAQN/SQAAAAAAAENZAAAAAAADN00AAAAAAwL/QQAAAAABA9dBAAAAAAICS0kAAAAAAgGvRQAAAAADAgNFAAAAAAIBS0UAAAAAAAJfTQAAAAACAgNJAAAAAAEBL0kAAAAAAQO/RQAAAAAAAb9BAAAAAAMBd1EAAAAAAwA3SQAAAAAAATdRAAAAAAICL0EAAAAAAgJjVQAAAAADAFdVAAAAAAEDt1UAAAAAAwHnTQAAAAADAzNJAAAAAAMDi00AAAAAAAEXVQAAAAACAd9BAAAAAAICP00AAAAAAQGfUQAAAAAAAX9NAAAAAAEAO00AAAAAAwALSQAAAAACAD9JAAAAAAACU00AAAAAAAJfPQAAAAABAYdJAAAAAAACk1EAAAAAAwKXQQAAAAADAX9FAAAAAAMDw0UAAAAAAAHvTQAAAAAAAJ9RAAAAAAEBq00AAAAAAQG7SQAAAAACArNJAAAAAAICY0UAAAAAAALfPQAAAAABAPNFAAAAAAAD61EAAAAAAQIPRQAAAAAAAPdVAAAAAAICf1UAAAAAAwEjTQAAAAACATc1AAAAAAMA31UAAAAAAQJPRQAAAAAAAm9FAAAAAAMA40kAAAAAAQDfTQAAAAABAFtdAAAAAAMDm1EAAAAAAwDbSQAAAAABAS9JAAAAAAEBo1UAAAAAAgMbSQAAAAAAAbNRAAAAAAAD9skA=",
          "dtype": "f8"
         },
         "yaxis": "y"
        },
        {
         "fillpattern": {
          "shape": ""
         },
         "hovertemplate": "variable=WorkoutMinutes<br>Week=%{x}<br>Total Activity=%{y}<extra></extra>",
         "legendgroup": "WorkoutMinutes",
         "line": {
          "color": "#00cc96"
         },
         "marker": {
          "symbol": "circle"
         },
         "mode": "lines",
         "name": "WorkoutMinutes",
         "orientation": "v",
         "showlegend": true,
         "stackgroup": "1",
         "type": "scatter",
         "x": [
          "2023-01-01T00:00:00.000000000",
          "2023-01-08T00:00:00.000000000",
          "2023-01-15T00:00:00.000000000",
          "2023-01-22T00:00:00.000000000",
          "2023-01-29T00:00:00.000000000",
          "2023-02-05T00:00:00.000000000",
          "2023-02-12T00:00:00.000000000",
          "2023-02-19T00:00:00.000000000",
          "2023-02-26T00:00:00.000000000",
          "2023-03-05T00:00:00.000000000",
          "2023-03-12T00:00:00.000000000",
          "2023-03-19T00:00:00.000000000",
          "2023-03-26T00:00:00.000000000",
          "2023-04-02T00:00:00.000000000",
          "2023-04-09T00:00:00.000000000",
          "2023-04-16T00:00:00.000000000",
          "2023-04-23T00:00:00.000000000",
          "2023-04-30T00:00:00.000000000",
          "2023-05-07T00:00:00.000000000",
          "2023-05-14T00:00:00.000000000",
          "2023-05-21T00:00:00.000000000",
          "2023-05-28T00:00:00.000000000",
          "2023-06-04T00:00:00.000000000",
          "2023-06-11T00:00:00.000000000",
          "2023-06-18T00:00:00.000000000",
          "2023-06-25T00:00:00.000000000",
          "2023-07-02T00:00:00.000000000",
          "2023-07-09T00:00:00.000000000",
          "2023-07-16T00:00:00.000000000",
          "2023-07-23T00:00:00.000000000",
          "2023-07-30T00:00:00.000000000",
          "2023-08-06T00:00:00.000000000",
          "2023-08-13T00:00:00.000000000",
          "2023-08-20T00:00:00.000000000",
          "2023-08-27T00:00:00.000000000",
          "2023-09-03T00:00:00.000000000",
          "2023-09-10T00:00:00.000000000",
          "2023-09-17T00:00:00.000000000",
          "2023-09-24T00:00:00.000000000",
          "2023-10-01T00:00:00.000000000",
          "2023-10-08T00:00:00.000000000",
          "2023-10-15T00:00:00.000000000",
          "2023-10-22T00:00:00.000000000",
          "2023-10-29T00:00:00.000000000",
          "2023-11-05T00:00:00.000000000",
          "2023-11-12T00:00:00.000000000",
          "2023-11-19T00:00:00.000000000",
          "2023-11-26T00:00:00.000000000",
          "2023-12-03T00:00:00.000000000",
          "2023-12-10T00:00:00.000000000",
          "2023-12-17T00:00:00.000000000",
          "2023-12-24T00:00:00.000000000",
          "2023-12-31T00:00:00.000000000",
          "2024-01-07T00:00:00.000000000",
          "2024-01-14T00:00:00.000000000",
          "2024-01-21T00:00:00.000000000",
          "2024-01-28T00:00:00.000000000",
          "2024-02-04T00:00:00.000000000",
          "2024-02-11T00:00:00.000000000",
          "2024-02-18T00:00:00.000000000",
          "2024-02-25T00:00:00.000000000",
          "2024-03-03T00:00:00.000000000",
          "2024-03-10T00:00:00.000000000",
          "2024-03-17T00:00:00.000000000",
          "2024-03-24T00:00:00.000000000",
          "2024-03-31T00:00:00.000000000",
          "2024-04-07T00:00:00.000000000",
          "2024-04-14T00:00:00.000000000",
          "2024-04-21T00:00:00.000000000",
          "2024-04-28T00:00:00.000000000",
          "2024-05-05T00:00:00.000000000",
          "2024-05-12T00:00:00.000000000",
          "2024-05-19T00:00:00.000000000"
         ],
         "xaxis": "x",
         "y": {
          "bdata": "AAAAAACAUEA830+Nlwp/QAAAAAAAWIBAPN9PjZfKe0AAAAAAANB3QAAAAAAAkHNAO99PjZcKckAAAAAAAJB5QAAAAAAAYHhAAAAAAAAgdUAAAAAAANB5QAAAAAAAMHxAAAAAAABgfUAAAAAAAJB6QAAAAAAAkHVAAAAAAACwfEAAAAAAADB9QAAAAAAAIH9AO99PjZcafkAAAAAAAHB2QAAAAAAAcH9AAAAAAACQfUAAAAAAAHB2QAAAAAAA0HVAAAAAAABogUAAAAAAAGBwQAAAAAAAYIBAAAAAAADgfEAAAAAAAOB8QAAAAAAAwHVAAAAAAACwekAAAAAAAIB/QAAAAAAAgHdAAAAAAAAge0AAAAAAADB6QAAAAAAAsIFAAAAAAACggEAAAAAAALB2QAAAAAAA8H9AAAAAAABggEAAAAAAABB5QDzfT42X+ndAAAAAAADwd0AAAAAAAOB/QAAAAAAAWIFAAAAAAADwe0AAAAAAADCAQAAAAAAAgHxAAAAAAABQe0AAAAAAACBsQAAAAAAA4HlAAAAAAADIgUAAAAAAALB5QAAAAAAAUHZAAAAAAAAAa0AAAAAAAOB6QAAAAAAAwHdAAAAAAADQeEA830+Nl9p7QAAAAAAAUIFAAAAAAADweUAAAAAAAHB5QAAAAAAAsH1AAAAAAADAdEAAAAAAAHB/QAAAAAAA8H5AAAAAAACwckAAAAAAAMB/QAAAAAAAsHVAAAAAAACgdUAAAAAAACCCQAAAAAAAsHhAAAAAAABAYEA=",
          "dtype": "f8"
         },
         "yaxis": "y"
        },
        {
         "fillpattern": {
          "shape": ""
         },
         "hovertemplate": "variable=WaterIntake(L)<br>Week=%{x}<br>Total Activity=%{y}<extra></extra>",
         "legendgroup": "WaterIntake(L)",
         "line": {
          "color": "#ab63fa"
         },
         "marker": {
          "symbol": "circle"
         },
         "mode": "lines",
         "name": "WaterIntake(L)",
         "orientation": "v",
         "showlegend": true,
         "stackgroup": "1",
         "type": "scatter",
         "x": [
          "2023-01-01T00:00:00.000000000",
          "2023-01-08T00:00:00.000000000",
          "2023-01-15T00:00:00.000000000",
          "2023-01-22T00:00:00.000000000",
          "2023-01-29T00:00:00.000000000",
          "2023-02-05T00:00:00.000000000",
          "2023-02-12T00:00:00.000000000",
          "2023-02-19T00:00:00.000000000",
          "2023-02-26T00:00:00.000000000",
          "2023-03-05T00:00:00.000000000",
          "2023-03-12T00:00:00.000000000",
          "2023-03-19T00:00:00.000000000",
          "2023-03-26T00:00:00.000000000",
          "2023-04-02T00:00:00.000000000",
          "2023-04-09T00:00:00.000000000",
          "2023-04-16T00:00:00.000000000",
          "2023-04-23T00:00:00.000000000",
          "2023-04-30T00:00:00.000000000",
          "2023-05-07T00:00:00.000000000",
          "2023-05-14T00:00:00.000000000",
          "2023-05-21T00:00:00.000000000",
          "2023-05-28T00:00:00.000000000",
          "2023-06-04T00:00:00.000000000",
          "2023-06-11T00:00:00.000000000",
          "2023-06-18T00:00:00.000000000",
          "2023-06-25T00:00:00.000000000",
          "2023-07-02T00:00:00.000000000",
          "2023-07-09T00:00:00.000000000",
          "2023-07-16T00:00:00.000000000",
          "2023-07-23T00:00:00.000000000",
          "2023-07-30T00:00:00.000000000",
          "2023-08-06T00:00:00.000000000",
          "2023-08-13T00:00:00.000000000",
          "2023-08-20T00:00:00.000000000",
          "2023-08-27T00:00:00.000000000",
          "2023-09-03T00:00:00.000000000",
          "2023-09-10T00:00:00.000000000",
          "2023-09-17T00:00:00.000000000",
          "2023-09-24T00:00:00.000000000",
          "2023-10-01T00:00:00.000000000",
          "2023-10-08T00:00:00.000000000",
          "2023-10-15T00:00:00.000000000",
          "2023-10-22T00:00:00.000000000",
          "2023-10-29T00:00:00.000000000",
          "2023-11-05T00:00:00.000000000",
          "2023-11-12T00:00:00.000000000",
          "2023-11-19T00:00:00.000000000",
          "2023-11-26T00:00:00.000000000",
          "2023-12-03T00:00:00.000000000",
          "2023-12-10T00:00:00.000000000",
          "2023-12-17T00:00:00.000000000",
          "2023-12-24T00:00:00.000000000",
          "2023-12-31T00:00:00.000000000",
          "2024-01-07T00:00:00.000000000",
          "2024-01-14T00:00:00.000000000",
          "2024-01-21T00:00:00.000000000",
          "2024-01-28T00:00:00.000000000",
          "2024-02-04T00:00:00.000000000",
          "2024-02-11T00:00:00.000000000",
          "2024-02-18T00:00:00.000000000",
          "2024-02-25T00:00:00.000000000",
          "2024-03-03T00:00:00.000000000",
          "2024-03-10T00:00:00.000000000",
          "2024-03-17T00:00:00.000000000",
          "2024-03-24T00:00:00.000000000",
          "2024-03-31T00:00:00.000000000",
          "2024-04-07T00:00:00.000000000",
          "2024-04-14T00:00:00.000000000",
          "2024-04-21T00:00:00.000000000",
          "2024-04-28T00:00:00.000000000",
          "2024-05-05T00:00:00.000000000",
          "2024-05-12T00:00:00.000000000",
          "2024-05-19T00:00:00.000000000"
         ],
         "xaxis": "x",
         "y": {
          "bdata": "cT0K16Nw+T/Xo3A9CtcyQJqZmZmZmTVACtejcD2KNUDC9ShcjwI2QHsUrkfhujNAcT0K16NwLEB7FK5H4TozQAAAAAAAACxAXI/C9ShcLEBxPQrXo7AxQMP1KFyPQjVAwvUoXI9CM0C4HoXrUTgwQAAAAAAAADVAuB6F61E4L0BxPQrXo3AwQK5H4XoU7jFA16NwPQpXOEAK16NwPcoyQFyPwvUoHDNAuB6F61G4MkCF61G4HsUwQFK4HoXrkTJAAAAAAABANED2KFyPwjUzQLgehetRuDBAzczMzMyMMkAzMzMzMzMpQK5H4XoU7jBAcD0K16PwLkAUrkfhehQrQM3MzMzMTDFAMzMzMzPzMEBI4XoUrscuQHE9CtejcDFAUrgehevRNECamZmZmRkwQHE9CtejMDNA7FG4HoVrMkD2KFyPwvUtQDMzMzMzMy1AMzMzMzOzMkDNzMzMzIw0QFK4HoXrkTNA16NwPQpXMEB7FK5H4XozQOxRuB6FaytAAAAAAAAAMEDNzMzMzEw1QHsUrkfh+jNAzczMzMwMMEAfhetRuJ41QM3MzMzMjDFA9ihcj8J1M0DsUbgehes0QBSuR+F6VDJArkfhehSuLEAUrkfhelQ0QGdmZmZmZi9AcT0K16PwMkAK16NwPYoxQBSuR+F6FDNAMzMzMzMzNUC4HoXrUTgxQClcj8L1qDJAKVyPwvXoMUBxPQrXo/AwQEjhehSuxy1AmZmZmZkZLEDXo3A9ClcvQPYoXI/CNTFArkfhehSuEEA=",
          "dtype": "f8"
         },
         "yaxis": "y"
        }
       ],
       "layout": {
        "legend": {
         "title": {
          "text": "Metric"
         },
         "tracegroupgap": 0
        },
        "template": {
         "data": {
          "bar": [
           {
            "error_x": {
             "color": "#2a3f5f"
            },
            "error_y": {
             "color": "#2a3f5f"
            },
            "marker": {
             "line": {
              "color": "white",
              "width": 0.5
             },
             "pattern": {
              "fillmode": "overlay",
              "size": 10,
              "solidity": 0.2
             }
            },
            "type": "bar"
           }
          ],
          "barpolar": [
           {
            "marker": {
             "line": {
              "color": "white",
              "width": 0.5
             },
             "pattern": {
              "fillmode": "overlay",
              "size": 10,
              "solidity": 0.2
             }
            },
            "type": "barpolar"
           }
          ],
          "carpet": [
           {
            "aaxis": {
             "endlinecolor": "#2a3f5f",
             "gridcolor": "#C8D4E3",
             "linecolor": "#C8D4E3",
             "minorgridcolor": "#C8D4E3",
             "startlinecolor": "#2a3f5f"
            },
            "baxis": {
             "endlinecolor": "#2a3f5f",
             "gridcolor": "#C8D4E3",
             "linecolor": "#C8D4E3",
             "minorgridcolor": "#C8D4E3",
             "startlinecolor": "#2a3f5f"
            },
            "type": "carpet"
           }
          ],
          "choropleth": [
           {
            "colorbar": {
             "outlinewidth": 0,
             "ticks": ""
            },
            "type": "choropleth"
           }
          ],
          "contour": [
           {
            "colorbar": {
             "outlinewidth": 0,
             "ticks": ""
            },
            "colorscale": [
             [
              0,
              "#0d0887"
             ],
             [
              0.1111111111111111,
              "#46039f"
             ],
             [
              0.2222222222222222,
              "#7201a8"
             ],
             [
              0.3333333333333333,
              "#9c179e"
             ],
             [
              0.4444444444444444,
              "#bd3786"
             ],
             [
              0.5555555555555556,
              "#d8576b"
             ],
             [
              0.6666666666666666,
              "#ed7953"
             ],
             [
              0.7777777777777778,
              "#fb9f3a"
             ],
             [
              0.8888888888888888,
              "#fdca26"
             ],
             [
              1,
              "#f0f921"
             ]
            ],
            "type": "contour"
           }
          ],
          "contourcarpet": [
           {
            "colorbar": {
             "outlinewidth": 0,
             "ticks": ""
            },
            "type": "contourcarpet"
           }
          ],
          "heatmap": [
           {
            "colorbar": {
             "outlinewidth": 0,
             "ticks": ""
            },
            "colorscale": [
             [
              0,
              "#0d0887"
             ],
             [
              0.1111111111111111,
              "#46039f"
             ],
             [
              0.2222222222222222,
              "#7201a8"
             ],
             [
              0.3333333333333333,
              "#9c179e"
             ],
             [
              0.4444444444444444,
              "#bd3786"
             ],
             [
              0.5555555555555556,
              "#d8576b"
             ],
             [
              0.6666666666666666,
              "#ed7953"
             ],
             [
              0.7777777777777778,
              "#fb9f3a"
             ],
             [
              0.8888888888888888,
              "#fdca26"
             ],
             [
              1,
              "#f0f921"
             ]
            ],
            "type": "heatmap"
           }
          ],
          "histogram": [
           {
            "marker": {
             "pattern": {
              "fillmode": "overlay",
              "size": 10,
              "solidity": 0.2
             }
            },
            "type": "histogram"
           }
          ],
          "histogram2d": [
           {
            "colorbar": {
             "outlinewidth": 0,
             "ticks": ""
            },
            "colorscale": [
             [
              0,
              "#0d0887"
             ],
             [
              0.1111111111111111,
              "#46039f"
             ],
             [
              0.2222222222222222,
              "#7201a8"
             ],
             [
              0.3333333333333333,
              "#9c179e"
             ],
             [
              0.4444444444444444,
              "#bd3786"
             ],
             [
              0.5555555555555556,
              "#d8576b"
             ],
             [
              0.6666666666666666,
              "#ed7953"
             ],
             [
              0.7777777777777778,
              "#fb9f3a"
             ],
             [
              0.8888888888888888,
              "#fdca26"
             ],
             [
              1,
              "#f0f921"
             ]
            ],
            "type": "histogram2d"
           }
          ],
          "histogram2dcontour": [
           {
            "colorbar": {
             "outlinewidth": 0,
             "ticks": ""
            },
            "colorscale": [
             [
              0,
              "#0d0887"
             ],
             [
              0.1111111111111111,
              "#46039f"
             ],
             [
              0.2222222222222222,
              "#7201a8"
             ],
             [
              0.3333333333333333,
              "#9c179e"
             ],
             [
              0.4444444444444444,
              "#bd3786"
             ],
             [
              0.5555555555555556,
              "#d8576b"
             ],
             [
              0.6666666666666666,
              "#ed7953"
             ],
             [
              0.7777777777777778,
              "#fb9f3a"
             ],
             [
              0.8888888888888888,
              "#fdca26"
             ],
             [
              1,
              "#f0f921"
             ]
            ],
            "type": "histogram2dcontour"
           }
          ],
          "mesh3d": [
           {
            "colorbar": {
             "outlinewidth": 0,
             "ticks": ""
            },
            "type": "mesh3d"
           }
          ],
          "parcoords": [
           {
            "line": {
             "colorbar": {
              "outlinewidth": 0,
              "ticks": ""
             }
            },
            "type": "parcoords"
           }
          ],
          "pie": [
           {
            "automargin": true,
            "type": "pie"
           }
          ],
          "scatter": [
           {
            "fillpattern": {
             "fillmode": "overlay",
             "size": 10,
             "solidity": 0.2
            },
            "type": "scatter"
           }
          ],
          "scatter3d": [
           {
            "line": {
             "colorbar": {
              "outlinewidth": 0,
              "ticks": ""
             }
            },
            "marker": {
             "colorbar": {
              "outlinewidth": 0,
              "ticks": ""
             }
            },
            "type": "scatter3d"
           }
          ],
          "scattercarpet": [
           {
            "marker": {
             "colorbar": {
              "outlinewidth": 0,
              "ticks": ""
             }
            },
            "type": "scattercarpet"
           }
          ],
          "scattergeo": [
           {
            "marker": {
             "colorbar": {
              "outlinewidth": 0,
              "ticks": ""
             }
            },
            "type": "scattergeo"
           }
          ],
          "scattergl": [
           {
            "marker": {
             "colorbar": {
              "outlinewidth": 0,
              "ticks": ""
             }
            },
            "type": "scattergl"
           }
          ],
          "scattermap": [
           {
            "marker": {
             "colorbar": {
              "outlinewidth": 0,
              "ticks": ""
             }
            },
            "type": "scattermap"
           }
          ],
          "scattermapbox": [
           {
            "marker": {
             "colorbar": {
              "outlinewidth": 0,
              "ticks": ""
             }
            },
            "type": "scattermapbox"
           }
          ],
          "scatterpolar": [
           {
            "marker": {
             "colorbar": {
              "outlinewidth": 0,
              "ticks": ""
             }
            },
            "type": "scatterpolar"
           }
          ],
          "scatterpolargl": [
           {
            "marker": {
             "colorbar": {
              "outlinewidth": 0,
              "ticks": ""
             }
            },
            "type": "scatterpolargl"
           }
          ],
          "scatterternary": [
           {
            "marker": {
             "colorbar": {
              "outlinewidth": 0,
              "ticks": ""
             }
            },
            "type": "scatterternary"
           }
          ],
          "surface": [
           {
            "colorbar": {
             "outlinewidth": 0,
             "ticks": ""
            },
            "colorscale": [
             [
              0,
              "#0d0887"
             ],
             [
              0.1111111111111111,
              "#46039f"
             ],
             [
              0.2222222222222222,
              "#7201a8"
             ],
             [
              0.3333333333333333,
              "#9c179e"
             ],
             [
              0.4444444444444444,
              "#bd3786"
             ],
             [
              0.5555555555555556,
              "#d8576b"
             ],
             [
              0.6666666666666666,
              "#ed7953"
             ],
             [
              0.7777777777777778,
              "#fb9f3a"
             ],
             [
              0.8888888888888888,
              "#fdca26"
             ],
             [
              1,
              "#f0f921"
             ]
            ],
            "type": "surface"
           }
          ],
          "table": [
           {
            "cells": {
             "fill": {
              "color": "#EBF0F8"
             },
             "line": {
              "color": "white"
             }
            },
            "header": {
             "fill": {
              "color": "#C8D4E3"
             },
             "line": {
              "color": "white"
             }
            },
            "type": "table"
           }
          ]
         },
         "layout": {
          "annotationdefaults": {
           "arrowcolor": "#2a3f5f",
           "arrowhead": 0,
           "arrowwidth": 1
          },
          "autotypenumbers": "strict",
          "coloraxis": {
           "colorbar": {
            "outlinewidth": 0,
            "ticks": ""
           }
          },
          "colorscale": {
           "diverging": [
            [
             0,
             "#8e0152"
            ],
            [
             0.1,
             "#c51b7d"
            ],
            [
             0.2,
             "#de77ae"
            ],
            [
             0.3,
             "#f1b6da"
            ],
            [
             0.4,
             "#fde0ef"
            ],
            [
             0.5,
             "#f7f7f7"
            ],
            [
             0.6,
             "#e6f5d0"
            ],
            [
             0.7,
             "#b8e186"
            ],
            [
             0.8,
             "#7fbc41"
            ],
            [
             0.9,
             "#4d9221"
            ],
            [
             1,
             "#276419"
            ]
           ],
           "sequential": [
            [
             0,
             "#0d0887"
            ],
            [
             0.1111111111111111,
             "#46039f"
            ],
            [
             0.2222222222222222,
             "#7201a8"
            ],
            [
             0.3333333333333333,
             "#9c179e"
            ],
            [
             0.4444444444444444,
             "#bd3786"
            ],
            [
             0.5555555555555556,
             "#d8576b"
            ],
            [
             0.6666666666666666,
             "#ed7953"
            ],
            [
             0.7777777777777778,
             "#fb9f3a"
            ],
            [
             0.8888888888888888,
             "#fdca26"
            ],
            [
             1,
             "#f0f921"
            ]
           ],
           "sequentialminus": [
            [
             0,
             "#0d0887"
            ],
            [
             0.1111111111111111,
             "#46039f"
            ],
            [
             0.2222222222222222,
             "#7201a8"
            ],
            [
             0.3333333333333333,
             "#9c179e"
            ],
            [
             0.4444444444444444,
             "#bd3786"
            ],
            [
             0.5555555555555556,
             "#d8576b"
            ],
            [
             0.6666666666666666,
             "#ed7953"
            ],
            [
             0.7777777777777778,
             "#fb9f3a"
            ],
            [
             0.8888888888888888,
             "#fdca26"
            ],
            [
             1,
             "#f0f921"
            ]
           ]
          },
          "colorway": [
           "#636efa",
           "#EF553B",
           "#00cc96",
           "#ab63fa",
           "#FFA15A",
           "#19d3f3",
           "#FF6692",
           "#B6E880",
           "#FF97FF",
           "#FECB52"
          ],
          "font": {
           "color": "#2a3f5f"
          },
          "geo": {
           "bgcolor": "white",
           "lakecolor": "white",
           "landcolor": "white",
           "showlakes": true,
           "showland": true,
           "subunitcolor": "#C8D4E3"
          },
          "hoverlabel": {
           "align": "left"
          },
          "hovermode": "closest",
          "mapbox": {
           "style": "light"
          },
          "paper_bgcolor": "white",
          "plot_bgcolor": "white",
          "polar": {
           "angularaxis": {
            "gridcolor": "#EBF0F8",
            "linecolor": "#EBF0F8",
            "ticks": ""
           },
           "bgcolor": "white",
           "radialaxis": {
            "gridcolor": "#EBF0F8",
            "linecolor": "#EBF0F8",
            "ticks": ""
           }
          },
          "scene": {
           "xaxis": {
            "backgroundcolor": "white",
            "gridcolor": "#DFE8F3",
            "gridwidth": 2,
            "linecolor": "#EBF0F8",
            "showbackground": true,
            "ticks": "",
            "zerolinecolor": "#EBF0F8"
           },
           "yaxis": {
            "backgroundcolor": "white",
            "gridcolor": "#DFE8F3",
            "gridwidth": 2,
            "linecolor": "#EBF0F8",
            "showbackground": true,
            "ticks": "",
            "zerolinecolor": "#EBF0F8"
           },
           "zaxis": {
            "backgroundcolor": "white",
            "gridcolor": "#DFE8F3",
            "gridwidth": 2,
            "linecolor": "#EBF0F8",
            "showbackground": true,
            "ticks": "",
            "zerolinecolor": "#EBF0F8"
           }
          },
          "shapedefaults": {
           "line": {
            "color": "#2a3f5f"
           }
          },
          "ternary": {
           "aaxis": {
            "gridcolor": "#DFE8F3",
            "linecolor": "#A2B1C6",
            "ticks": ""
           },
           "baxis": {
            "gridcolor": "#DFE8F3",
            "linecolor": "#A2B1C6",
            "ticks": ""
           },
           "bgcolor": "white",
           "caxis": {
            "gridcolor": "#DFE8F3",
            "linecolor": "#A2B1C6",
            "ticks": ""
           }
          },
          "title": {
           "x": 0.05
          },
          "xaxis": {
           "automargin": true,
           "gridcolor": "#EBF0F8",
           "linecolor": "#EBF0F8",
           "ticks": "",
           "title": {
            "standoff": 15
           },
           "zerolinecolor": "#EBF0F8",
           "zerolinewidth": 2
          },
          "yaxis": {
           "automargin": true,
           "gridcolor": "#EBF0F8",
           "linecolor": "#EBF0F8",
           "ticks": "",
           "title": {
            "standoff": 15
           },
           "zerolinecolor": "#EBF0F8",
           "zerolinewidth": 2
          }
         }
        },
        "title": {
         "text": "Weekly Activity Breakdown"
        },
        "xaxis": {
         "anchor": "y",
         "domain": [
          0,
          1
         ],
         "title": {
          "text": "Date"
         }
        },
        "yaxis": {
         "anchor": "x",
         "domain": [
          0,
          1
         ],
         "title": {
          "text": "Total Activity"
         }
        }
       }
      }
     },
     "metadata": {},
     "output_type": "display_data"
    }
   ],
   "source": [
    "weekly = df.set_index(\"Date\").resample(\"W\").sum().reset_index()\n",
    "metrics = [\"Steps\",\"Calories\",\"WorkoutMinutes\",\"WaterIntake(L)\"]\n",
    "\n",
    "fig = px.area(\n",
    "    weekly,\n",
    "    x=\"Date\",\n",
    "    y = metrics,\n",
    "    title= \"Weekly Activity Breakdown\",\n",
    "    labels={\"value\":\"Total Activity\",\"Date\":\"Week\"},\n",
    ")\n",
    "fig.update_layout(\n",
    "    xaxis_title=\"Date\",\n",
    "    yaxis_title=\"Total Activity\",\n",
    "    legend_title=\"Metric\",\n",
    "    template=\"plotly_white\"\n",
    ")\n",
    "fig.show()"
   ]
  },
  {
   "cell_type": "markdown",
   "id": "dbeda79d",
   "metadata": {},
   "source": [
    "### Ques --> Am i balanced acorss different matrics ?"
   ]
  },
  {
   "cell_type": "code",
   "execution_count": 56,
   "id": "a92fbe43",
   "metadata": {},
   "outputs": [
    {
     "data": {
      "application/vnd.plotly.v1+json": {
       "config": {
        "plotlyServerURL": "https://plot.ly"
       },
       "data": [
        {
         "fill": "toself",
         "hovertemplate": "Month=Apr<br>Value=%{r}<br>Metric=%{theta}<extra></extra>",
         "legendgroup": "Apr",
         "line": {
          "color": "#636efa",
          "dash": "solid"
         },
         "marker": {
          "symbol": "circle"
         },
         "mode": "lines",
         "name": "Apr",
         "opacity": 0.6,
         "r": {
          "bdata": "wgBsAXXY4D8fqMTvgUrgP3WCqR5+nN8/6wXuoiRz3j/CAGwBddjgPw==",
          "dtype": "f8"
         },
         "showlegend": true,
         "subplot": "polar",
         "theta": [
          "Steps",
          "Calories",
          "WorkoutMinutes",
          "WaterIntake(L)",
          "Steps"
         ],
         "type": "scatterpolar"
        },
        {
         "fill": "toself",
         "hovertemplate": "Month=Aug<br>Value=%{r}<br>Metric=%{theta}<extra></extra>",
         "legendgroup": "Aug",
         "line": {
          "color": "#EF553B",
          "dash": "solid"
         },
         "marker": {
          "symbol": "circle"
         },
         "mode": "lines",
         "name": "Aug",
         "opacity": 0.6,
         "r": {
          "bdata": "eMcecM723j+4qHsP3gThP44HgjNQx+A/tlxey+W13D94xx5wzvbePw==",
          "dtype": "f8"
         },
         "showlegend": true,
         "subplot": "polar",
         "theta": [
          "Steps",
          "Calories",
          "WorkoutMinutes",
          "WaterIntake(L)",
          "Steps"
         ],
         "type": "scatterpolar"
        },
        {
         "fill": "toself",
         "hovertemplate": "Month=Dec<br>Value=%{r}<br>Metric=%{theta}<extra></extra>",
         "legendgroup": "Dec",
         "line": {
          "color": "#00cc96",
          "dash": "solid"
         },
         "marker": {
          "symbol": "circle"
         },
         "mode": "lines",
         "name": "Dec",
         "opacity": 0.6,
         "r": {
          "bdata": "XPiK3nlA3T+Nko7navHZP/oOsSOtD+A/XDq2pWNb4j9c+IreeUDdPw==",
          "dtype": "f8"
         },
         "showlegend": true,
         "subplot": "polar",
         "theta": [
          "Steps",
          "Calories",
          "WorkoutMinutes",
          "WaterIntake(L)",
          "Steps"
         ],
         "type": "scatterpolar"
        },
        {
         "fill": "toself",
         "hovertemplate": "Month=Feb<br>Value=%{r}<br>Metric=%{theta}<extra></extra>",
         "legendgroup": "Feb",
         "line": {
          "color": "#ab63fa",
          "dash": "solid"
         },
         "marker": {
          "symbol": "circle"
         },
         "mode": "lines",
         "name": "Feb",
         "opacity": 0.6,
         "r": {
          "bdata": "0qDlAldS3T/V9qYGDyzhP9DssjsXb90/f3wbd1ku3j/SoOUCV1LdPw==",
          "dtype": "f8"
         },
         "showlegend": true,
         "subplot": "polar",
         "theta": [
          "Steps",
          "Calories",
          "WorkoutMinutes",
          "WaterIntake(L)",
          "Steps"
         ],
         "type": "scatterpolar"
        },
        {
         "fill": "toself",
         "hovertemplate": "Month=Jan<br>Value=%{r}<br>Metric=%{theta}<extra></extra>",
         "legendgroup": "Jan",
         "line": {
          "color": "#FFA15A",
          "dash": "solid"
         },
         "marker": {
          "symbol": "circle"
         },
         "mode": "lines",
         "name": "Jan",
         "opacity": 0.6,
         "r": {
          "bdata": "el6dPrYl4T8pnOO+Z87gP/31DYzK6N4/QacNdNpA4z96Xp0+tiXhPw==",
          "dtype": "f8"
         },
         "showlegend": true,
         "subplot": "polar",
         "theta": [
          "Steps",
          "Calories",
          "WorkoutMinutes",
          "WaterIntake(L)",
          "Steps"
         ],
         "type": "scatterpolar"
        },
        {
         "fill": "toself",
         "hovertemplate": "Month=Jul<br>Value=%{r}<br>Metric=%{theta}<extra></extra>",
         "legendgroup": "Jul",
         "line": {
          "color": "#19d3f3",
          "dash": "solid"
         },
         "marker": {
          "symbol": "circle"
         },
         "mode": "lines",
         "name": "Jul",
         "opacity": 0.6,
         "r": {
          "bdata": "Wl9CXlLJ4T/cCMYwOxbjP3I9VXMos+A/OduVs1052z9aX0JeUsnhPw==",
          "dtype": "f8"
         },
         "showlegend": true,
         "subplot": "polar",
         "theta": [
          "Steps",
          "Calories",
          "WorkoutMinutes",
          "WaterIntake(L)",
          "Steps"
         ],
         "type": "scatterpolar"
        },
        {
         "fill": "toself",
         "hovertemplate": "Month=Jun<br>Value=%{r}<br>Metric=%{theta}<extra></extra>",
         "legendgroup": "Jun",
         "line": {
          "color": "#FF6692",
          "dash": "solid"
         },
         "marker": {
          "symbol": "circle"
         },
         "mode": "lines",
         "name": "Jun",
         "opacity": 0.6,
         "r": {
          "bdata": "XlL1CHCe4j9EJxtAdLLhP1MacXWCqd4/oyRzjnYr4T9eUvUIcJ7iPw==",
          "dtype": "f8"
         },
         "showlegend": true,
         "subplot": "polar",
         "theta": [
          "Steps",
          "Calories",
          "WorkoutMinutes",
          "WaterIntake(L)",
          "Steps"
         ],
         "type": "scatterpolar"
        },
        {
         "fill": "toself",
         "hovertemplate": "Month=Mar<br>Value=%{r}<br>Metric=%{theta}<extra></extra>",
         "legendgroup": "Mar",
         "line": {
          "color": "#B6E880",
          "dash": "solid"
         },
         "marker": {
          "symbol": "circle"
         },
         "mode": "lines",
         "name": "Mar",
         "opacity": 0.6,
         "r": {
          "bdata": "PY7/C7wq3j/ic6VoRnjeP1SIyiWKAeE/oE0D2jSg4T89jv8LvCrePw==",
          "dtype": "f8"
         },
         "showlegend": true,
         "subplot": "polar",
         "theta": [
          "Steps",
          "Calories",
          "WorkoutMinutes",
          "WaterIntake(L)",
          "Steps"
         ],
         "type": "scatterpolar"
        },
        {
         "fill": "toself",
         "hovertemplate": "Month=May<br>Value=%{r}<br>Metric=%{theta}<extra></extra>",
         "legendgroup": "May",
         "line": {
          "color": "#FF97FF",
          "dash": "solid"
         },
         "marker": {
          "symbol": "circle"
         },
         "mode": "lines",
         "name": "May",
         "opacity": 0.6,
         "r": {
          "bdata": "hPcvW43A3j8fuY9Q51DeP8Nq9DdXUeE/6FI1j2Cp4T+E9y9bjcDePw==",
          "dtype": "f8"
         },
         "showlegend": true,
         "subplot": "polar",
         "theta": [
          "Steps",
          "Calories",
          "WorkoutMinutes",
          "WaterIntake(L)",
          "Steps"
         ],
         "type": "scatterpolar"
        },
        {
         "fill": "toself",
         "hovertemplate": "Month=Nov<br>Value=%{r}<br>Metric=%{theta}<extra></extra>",
         "legendgroup": "Nov",
         "line": {
          "color": "#FECB52",
          "dash": "solid"
         },
         "marker": {
          "symbol": "circle"
         },
         "mode": "lines",
         "name": "Nov",
         "opacity": 0.6,
         "r": {
          "bdata": "LKtrshMi3D9JnBWFxFnhPzxNgR3yb+E/GSo7TF1u3z8sq2uyEyLcPw==",
          "dtype": "f8"
         },
         "showlegend": true,
         "subplot": "polar",
         "theta": [
          "Steps",
          "Calories",
          "WorkoutMinutes",
          "WaterIntake(L)",
          "Steps"
         ],
         "type": "scatterpolar"
        },
        {
         "fill": "toself",
         "hovertemplate": "Month=Oct<br>Value=%{r}<br>Metric=%{theta}<extra></extra>",
         "legendgroup": "Oct",
         "line": {
          "color": "#636efa",
          "dash": "solid"
         },
         "marker": {
          "symbol": "circle"
         },
         "mode": "lines",
         "name": "Oct",
         "opacity": 0.6,
         "r": {
          "bdata": "CUj7ViSJ3D85T0UeJRvdP2KAAub6C+E/P8D2A2w/4D8JSPtWJIncPw==",
          "dtype": "f8"
         },
         "showlegend": true,
         "subplot": "polar",
         "theta": [
          "Steps",
          "Calories",
          "WorkoutMinutes",
          "WaterIntake(L)",
          "Steps"
         ],
         "type": "scatterpolar"
        },
        {
         "fill": "toself",
         "hovertemplate": "Month=Sep<br>Value=%{r}<br>Metric=%{theta}<extra></extra>",
         "legendgroup": "Sep",
         "line": {
          "color": "#EF553B",
          "dash": "solid"
         },
         "marker": {
          "symbol": "circle"
         },
         "mode": "lines",
         "name": "Sep",
         "opacity": 0.6,
         "r": {
          "bdata": "kj1Z5/cd4D/NcO7SDOfePyqwQ/4tveI//Yiubca44D+SPVnn9x3gPw==",
          "dtype": "f8"
         },
         "showlegend": true,
         "subplot": "polar",
         "theta": [
          "Steps",
          "Calories",
          "WorkoutMinutes",
          "WaterIntake(L)",
          "Steps"
         ],
         "type": "scatterpolar"
        }
       ],
       "layout": {
        "legend": {
         "title": {
          "text": "Month"
         },
         "tracegroupgap": 0
        },
        "polar": {
         "angularaxis": {
          "direction": "clockwise",
          "rotation": 90
         },
         "domain": {
          "x": [
           0,
           1
          ],
          "y": [
           0,
           1
          ]
         },
         "radialaxis": {
          "range": [
           0,
           1
          ],
          "visible": true
         }
        },
        "template": {
         "data": {
          "bar": [
           {
            "error_x": {
             "color": "#2a3f5f"
            },
            "error_y": {
             "color": "#2a3f5f"
            },
            "marker": {
             "line": {
              "color": "#E5ECF6",
              "width": 0.5
             },
             "pattern": {
              "fillmode": "overlay",
              "size": 10,
              "solidity": 0.2
             }
            },
            "type": "bar"
           }
          ],
          "barpolar": [
           {
            "marker": {
             "line": {
              "color": "#E5ECF6",
              "width": 0.5
             },
             "pattern": {
              "fillmode": "overlay",
              "size": 10,
              "solidity": 0.2
             }
            },
            "type": "barpolar"
           }
          ],
          "carpet": [
           {
            "aaxis": {
             "endlinecolor": "#2a3f5f",
             "gridcolor": "white",
             "linecolor": "white",
             "minorgridcolor": "white",
             "startlinecolor": "#2a3f5f"
            },
            "baxis": {
             "endlinecolor": "#2a3f5f",
             "gridcolor": "white",
             "linecolor": "white",
             "minorgridcolor": "white",
             "startlinecolor": "#2a3f5f"
            },
            "type": "carpet"
           }
          ],
          "choropleth": [
           {
            "colorbar": {
             "outlinewidth": 0,
             "ticks": ""
            },
            "type": "choropleth"
           }
          ],
          "contour": [
           {
            "colorbar": {
             "outlinewidth": 0,
             "ticks": ""
            },
            "colorscale": [
             [
              0,
              "#0d0887"
             ],
             [
              0.1111111111111111,
              "#46039f"
             ],
             [
              0.2222222222222222,
              "#7201a8"
             ],
             [
              0.3333333333333333,
              "#9c179e"
             ],
             [
              0.4444444444444444,
              "#bd3786"
             ],
             [
              0.5555555555555556,
              "#d8576b"
             ],
             [
              0.6666666666666666,
              "#ed7953"
             ],
             [
              0.7777777777777778,
              "#fb9f3a"
             ],
             [
              0.8888888888888888,
              "#fdca26"
             ],
             [
              1,
              "#f0f921"
             ]
            ],
            "type": "contour"
           }
          ],
          "contourcarpet": [
           {
            "colorbar": {
             "outlinewidth": 0,
             "ticks": ""
            },
            "type": "contourcarpet"
           }
          ],
          "heatmap": [
           {
            "colorbar": {
             "outlinewidth": 0,
             "ticks": ""
            },
            "colorscale": [
             [
              0,
              "#0d0887"
             ],
             [
              0.1111111111111111,
              "#46039f"
             ],
             [
              0.2222222222222222,
              "#7201a8"
             ],
             [
              0.3333333333333333,
              "#9c179e"
             ],
             [
              0.4444444444444444,
              "#bd3786"
             ],
             [
              0.5555555555555556,
              "#d8576b"
             ],
             [
              0.6666666666666666,
              "#ed7953"
             ],
             [
              0.7777777777777778,
              "#fb9f3a"
             ],
             [
              0.8888888888888888,
              "#fdca26"
             ],
             [
              1,
              "#f0f921"
             ]
            ],
            "type": "heatmap"
           }
          ],
          "histogram": [
           {
            "marker": {
             "pattern": {
              "fillmode": "overlay",
              "size": 10,
              "solidity": 0.2
             }
            },
            "type": "histogram"
           }
          ],
          "histogram2d": [
           {
            "colorbar": {
             "outlinewidth": 0,
             "ticks": ""
            },
            "colorscale": [
             [
              0,
              "#0d0887"
             ],
             [
              0.1111111111111111,
              "#46039f"
             ],
             [
              0.2222222222222222,
              "#7201a8"
             ],
             [
              0.3333333333333333,
              "#9c179e"
             ],
             [
              0.4444444444444444,
              "#bd3786"
             ],
             [
              0.5555555555555556,
              "#d8576b"
             ],
             [
              0.6666666666666666,
              "#ed7953"
             ],
             [
              0.7777777777777778,
              "#fb9f3a"
             ],
             [
              0.8888888888888888,
              "#fdca26"
             ],
             [
              1,
              "#f0f921"
             ]
            ],
            "type": "histogram2d"
           }
          ],
          "histogram2dcontour": [
           {
            "colorbar": {
             "outlinewidth": 0,
             "ticks": ""
            },
            "colorscale": [
             [
              0,
              "#0d0887"
             ],
             [
              0.1111111111111111,
              "#46039f"
             ],
             [
              0.2222222222222222,
              "#7201a8"
             ],
             [
              0.3333333333333333,
              "#9c179e"
             ],
             [
              0.4444444444444444,
              "#bd3786"
             ],
             [
              0.5555555555555556,
              "#d8576b"
             ],
             [
              0.6666666666666666,
              "#ed7953"
             ],
             [
              0.7777777777777778,
              "#fb9f3a"
             ],
             [
              0.8888888888888888,
              "#fdca26"
             ],
             [
              1,
              "#f0f921"
             ]
            ],
            "type": "histogram2dcontour"
           }
          ],
          "mesh3d": [
           {
            "colorbar": {
             "outlinewidth": 0,
             "ticks": ""
            },
            "type": "mesh3d"
           }
          ],
          "parcoords": [
           {
            "line": {
             "colorbar": {
              "outlinewidth": 0,
              "ticks": ""
             }
            },
            "type": "parcoords"
           }
          ],
          "pie": [
           {
            "automargin": true,
            "type": "pie"
           }
          ],
          "scatter": [
           {
            "fillpattern": {
             "fillmode": "overlay",
             "size": 10,
             "solidity": 0.2
            },
            "type": "scatter"
           }
          ],
          "scatter3d": [
           {
            "line": {
             "colorbar": {
              "outlinewidth": 0,
              "ticks": ""
             }
            },
            "marker": {
             "colorbar": {
              "outlinewidth": 0,
              "ticks": ""
             }
            },
            "type": "scatter3d"
           }
          ],
          "scattercarpet": [
           {
            "marker": {
             "colorbar": {
              "outlinewidth": 0,
              "ticks": ""
             }
            },
            "type": "scattercarpet"
           }
          ],
          "scattergeo": [
           {
            "marker": {
             "colorbar": {
              "outlinewidth": 0,
              "ticks": ""
             }
            },
            "type": "scattergeo"
           }
          ],
          "scattergl": [
           {
            "marker": {
             "colorbar": {
              "outlinewidth": 0,
              "ticks": ""
             }
            },
            "type": "scattergl"
           }
          ],
          "scattermap": [
           {
            "marker": {
             "colorbar": {
              "outlinewidth": 0,
              "ticks": ""
             }
            },
            "type": "scattermap"
           }
          ],
          "scattermapbox": [
           {
            "marker": {
             "colorbar": {
              "outlinewidth": 0,
              "ticks": ""
             }
            },
            "type": "scattermapbox"
           }
          ],
          "scatterpolar": [
           {
            "marker": {
             "colorbar": {
              "outlinewidth": 0,
              "ticks": ""
             }
            },
            "type": "scatterpolar"
           }
          ],
          "scatterpolargl": [
           {
            "marker": {
             "colorbar": {
              "outlinewidth": 0,
              "ticks": ""
             }
            },
            "type": "scatterpolargl"
           }
          ],
          "scatterternary": [
           {
            "marker": {
             "colorbar": {
              "outlinewidth": 0,
              "ticks": ""
             }
            },
            "type": "scatterternary"
           }
          ],
          "surface": [
           {
            "colorbar": {
             "outlinewidth": 0,
             "ticks": ""
            },
            "colorscale": [
             [
              0,
              "#0d0887"
             ],
             [
              0.1111111111111111,
              "#46039f"
             ],
             [
              0.2222222222222222,
              "#7201a8"
             ],
             [
              0.3333333333333333,
              "#9c179e"
             ],
             [
              0.4444444444444444,
              "#bd3786"
             ],
             [
              0.5555555555555556,
              "#d8576b"
             ],
             [
              0.6666666666666666,
              "#ed7953"
             ],
             [
              0.7777777777777778,
              "#fb9f3a"
             ],
             [
              0.8888888888888888,
              "#fdca26"
             ],
             [
              1,
              "#f0f921"
             ]
            ],
            "type": "surface"
           }
          ],
          "table": [
           {
            "cells": {
             "fill": {
              "color": "#EBF0F8"
             },
             "line": {
              "color": "white"
             }
            },
            "header": {
             "fill": {
              "color": "#C8D4E3"
             },
             "line": {
              "color": "white"
             }
            },
            "type": "table"
           }
          ]
         },
         "layout": {
          "annotationdefaults": {
           "arrowcolor": "#2a3f5f",
           "arrowhead": 0,
           "arrowwidth": 1
          },
          "autotypenumbers": "strict",
          "coloraxis": {
           "colorbar": {
            "outlinewidth": 0,
            "ticks": ""
           }
          },
          "colorscale": {
           "diverging": [
            [
             0,
             "#8e0152"
            ],
            [
             0.1,
             "#c51b7d"
            ],
            [
             0.2,
             "#de77ae"
            ],
            [
             0.3,
             "#f1b6da"
            ],
            [
             0.4,
             "#fde0ef"
            ],
            [
             0.5,
             "#f7f7f7"
            ],
            [
             0.6,
             "#e6f5d0"
            ],
            [
             0.7,
             "#b8e186"
            ],
            [
             0.8,
             "#7fbc41"
            ],
            [
             0.9,
             "#4d9221"
            ],
            [
             1,
             "#276419"
            ]
           ],
           "sequential": [
            [
             0,
             "#0d0887"
            ],
            [
             0.1111111111111111,
             "#46039f"
            ],
            [
             0.2222222222222222,
             "#7201a8"
            ],
            [
             0.3333333333333333,
             "#9c179e"
            ],
            [
             0.4444444444444444,
             "#bd3786"
            ],
            [
             0.5555555555555556,
             "#d8576b"
            ],
            [
             0.6666666666666666,
             "#ed7953"
            ],
            [
             0.7777777777777778,
             "#fb9f3a"
            ],
            [
             0.8888888888888888,
             "#fdca26"
            ],
            [
             1,
             "#f0f921"
            ]
           ],
           "sequentialminus": [
            [
             0,
             "#0d0887"
            ],
            [
             0.1111111111111111,
             "#46039f"
            ],
            [
             0.2222222222222222,
             "#7201a8"
            ],
            [
             0.3333333333333333,
             "#9c179e"
            ],
            [
             0.4444444444444444,
             "#bd3786"
            ],
            [
             0.5555555555555556,
             "#d8576b"
            ],
            [
             0.6666666666666666,
             "#ed7953"
            ],
            [
             0.7777777777777778,
             "#fb9f3a"
            ],
            [
             0.8888888888888888,
             "#fdca26"
            ],
            [
             1,
             "#f0f921"
            ]
           ]
          },
          "colorway": [
           "#636efa",
           "#EF553B",
           "#00cc96",
           "#ab63fa",
           "#FFA15A",
           "#19d3f3",
           "#FF6692",
           "#B6E880",
           "#FF97FF",
           "#FECB52"
          ],
          "font": {
           "color": "#2a3f5f"
          },
          "geo": {
           "bgcolor": "white",
           "lakecolor": "white",
           "landcolor": "#E5ECF6",
           "showlakes": true,
           "showland": true,
           "subunitcolor": "white"
          },
          "hoverlabel": {
           "align": "left"
          },
          "hovermode": "closest",
          "mapbox": {
           "style": "light"
          },
          "paper_bgcolor": "white",
          "plot_bgcolor": "#E5ECF6",
          "polar": {
           "angularaxis": {
            "gridcolor": "white",
            "linecolor": "white",
            "ticks": ""
           },
           "bgcolor": "#E5ECF6",
           "radialaxis": {
            "gridcolor": "white",
            "linecolor": "white",
            "ticks": ""
           }
          },
          "scene": {
           "xaxis": {
            "backgroundcolor": "#E5ECF6",
            "gridcolor": "white",
            "gridwidth": 2,
            "linecolor": "white",
            "showbackground": true,
            "ticks": "",
            "zerolinecolor": "white"
           },
           "yaxis": {
            "backgroundcolor": "#E5ECF6",
            "gridcolor": "white",
            "gridwidth": 2,
            "linecolor": "white",
            "showbackground": true,
            "ticks": "",
            "zerolinecolor": "white"
           },
           "zaxis": {
            "backgroundcolor": "#E5ECF6",
            "gridcolor": "white",
            "gridwidth": 2,
            "linecolor": "white",
            "showbackground": true,
            "ticks": "",
            "zerolinecolor": "white"
           }
          },
          "shapedefaults": {
           "line": {
            "color": "#2a3f5f"
           }
          },
          "ternary": {
           "aaxis": {
            "gridcolor": "white",
            "linecolor": "white",
            "ticks": ""
           },
           "baxis": {
            "gridcolor": "white",
            "linecolor": "white",
            "ticks": ""
           },
           "bgcolor": "#E5ECF6",
           "caxis": {
            "gridcolor": "white",
            "linecolor": "white",
            "ticks": ""
           }
          },
          "title": {
           "x": 0.05
          },
          "xaxis": {
           "automargin": true,
           "gridcolor": "white",
           "linecolor": "white",
           "ticks": "",
           "title": {
            "standoff": 15
           },
           "zerolinecolor": "white",
           "zerolinewidth": 2
          },
          "yaxis": {
           "automargin": true,
           "gridcolor": "white",
           "linecolor": "white",
           "ticks": "",
           "title": {
            "standoff": 15
           },
           "zerolinecolor": "white",
           "zerolinewidth": 2
          }
         }
        },
        "title": {
         "text": "Monthly Lifestyle Balance"
        }
       }
      }
     },
     "metadata": {},
     "output_type": "display_data"
    }
   ],
   "source": [
    "metrics1 = [\"Steps\",\"Calories\",\"WaterIntake(L)\",\"WorkoutMinutes\",\"SleepHours\"]\n",
    "\n",
    "df_norm = df.copy()\n",
    "for col in metrics:\n",
    "    df_norm[col] = (df[col] - df[col].min()) / (df[col].max() - df[col].min())\n",
    "\n",
    "# Extract month name\n",
    "df_norm[\"Month\"] = pd.to_datetime(df_norm[\"Date\"]).dt.strftime(\"%b\")\n",
    "\n",
    "# Average normalized values per month\n",
    "monthly_avg = df_norm.groupby(\"Month\")[metrics].mean().reset_index()\n",
    "\n",
    "# Convert to long format for radar plot\n",
    "radar = monthly_avg.melt(id_vars=\"Month\", var_name=\"Metric\", value_name=\"Value\")\n",
    "\n",
    "# Radar chart with multiple polygons (one per month)\n",
    "fig = px.line_polar(\n",
    "    radar,\n",
    "    r=\"Value\",\n",
    "    theta=\"Metric\",\n",
    "    color=\"Month\",\n",
    "    line_close=True,\n",
    "    title=\"Monthly Lifestyle Balance\",\n",
    ")\n",
    "\n",
    "fig.update_traces(fill=\"toself\", opacity=0.6)\n",
    "fig.update_layout(polar=dict(radialaxis=dict(visible=True, range=[0,1])))\n",
    "\n",
    "fig.show()\n",
    "\n",
    "# i will try to make a dropdown menu later"
   ]
  },
  {
   "cell_type": "code",
   "execution_count": 57,
   "id": "d92fe91a",
   "metadata": {},
   "outputs": [
    {
     "data": {
      "application/vnd.plotly.v1+json": {
       "config": {
        "plotlyServerURL": "https://plot.ly"
       },
       "data": [
        {
         "fill": "toself",
         "name": "Apr",
         "r": [
          0.5264229800959799,
          0.5090951617214649,
          0.49392655367231636,
          0.4757777777777778
         ],
         "theta": [
          "Steps",
          "Calories",
          "WorkoutMinutes",
          "WaterIntake(L)"
         ],
         "type": "scatterpolar",
         "visible": true
        },
        {
         "fill": "toself",
         "name": "Aug",
         "r": [
          0.48381386708489726,
          0.5318441679385364,
          0.5243302351011481,
          0.4486021505376344
         ],
         "theta": [
          "Steps",
          "Calories",
          "WorkoutMinutes",
          "WaterIntake(L)"
         ],
         "type": "scatterpolar",
         "visible": false
        },
        {
         "fill": "toself",
         "name": "Dec",
         "r": [
          0.45706030590725333,
          0.4053599606798251,
          0.5019136139967195,
          0.5736559139784947
         ],
         "theta": [
          "Steps",
          "Calories",
          "WorkoutMinutes",
          "WaterIntake(L)"
         ],
         "type": "scatterpolar",
         "visible": false
        },
        {
         "fill": "toself",
         "name": "Feb",
         "r": [
          0.4581506279269095,
          0.5366282586980683,
          0.4599054415700268,
          0.47157894736842104
         ],
         "theta": [
          "Steps",
          "Calories",
          "WorkoutMinutes",
          "WaterIntake(L)"
         ],
         "type": "scatterpolar",
         "visible": false
        },
        {
         "fill": "toself",
         "name": "Jan",
         "r": [
          0.5358535025543028,
          0.525195954160954,
          0.4829584472389284,
          0.6016666666666667
         ],
         "theta": [
          "Steps",
          "Calories",
          "WorkoutMinutes",
          "WaterIntake(L)"
         ],
         "type": "scatterpolar",
         "visible": false
        },
        {
         "fill": "toself",
         "name": "Jul",
         "r": [
          0.5558254090310399,
          0.5964637711151926,
          0.5218698742482231,
          0.4253763440860215
         ],
         "theta": [
          "Steps",
          "Calories",
          "WorkoutMinutes",
          "WaterIntake(L)"
         ],
         "type": "scatterpolar",
         "visible": false
        },
        {
         "fill": "toself",
         "name": "Jun",
         "r": [
          0.5818405318228306,
          0.553033948142208,
          0.47909604519774013,
          0.5365555555555556
         ],
         "theta": [
          "Steps",
          "Calories",
          "WorkoutMinutes",
          "WaterIntake(L)"
         ],
         "type": "scatterpolar",
         "visible": false
        },
        {
         "fill": "toself",
         "name": "Mar",
         "r": [
          0.47135831042962534,
          0.47609100550999817,
          0.5314379442318207,
          0.5508064516129032
         ],
         "theta": [
          "Steps",
          "Calories",
          "WorkoutMinutes",
          "WaterIntake(L)"
         ],
         "type": "scatterpolar",
         "visible": false
        },
        {
         "fill": "toself",
         "name": "May",
         "r": [
          0.48050245194451,
          0.47368796222044013,
          0.5411792843691149,
          0.5519259259259259
         ],
         "theta": [
          "Steps",
          "Calories",
          "WorkoutMinutes",
          "WaterIntake(L)"
         ],
         "type": "scatterpolar",
         "visible": false
        },
        {
         "fill": "toself",
         "name": "Nov",
         "r": [
          0.43957989143261744,
          0.5422079657845497,
          0.5449152542372881,
          0.4911111111111111
         ],
         "theta": [
          "Steps",
          "Calories",
          "WorkoutMinutes",
          "WaterIntake(L)"
         ],
         "type": "scatterpolar",
         "visible": false
        },
        {
         "fill": "toself",
         "name": "Oct",
         "r": [
          0.44587048048299543,
          0.45478179889800036,
          0.5327124111536359,
          0.5077419354838709
         ],
         "theta": [
          "Steps",
          "Calories",
          "WorkoutMinutes",
          "WaterIntake(L)"
         ],
         "type": "scatterpolar",
         "visible": false
        },
        {
         "fill": "toself",
         "name": "Sep",
         "r": [
          0.5036582487609158,
          0.48285217856188184,
          0.5855932203389831,
          0.5225555555555556
         ],
         "theta": [
          "Steps",
          "Calories",
          "WorkoutMinutes",
          "WaterIntake(L)"
         ],
         "type": "scatterpolar",
         "visible": false
        }
       ],
       "layout": {
        "polar": {
         "radialaxis": {
          "range": [
           0,
           1
          ],
          "visible": true
         }
        },
        "template": {
         "data": {
          "bar": [
           {
            "error_x": {
             "color": "#2a3f5f"
            },
            "error_y": {
             "color": "#2a3f5f"
            },
            "marker": {
             "line": {
              "color": "#E5ECF6",
              "width": 0.5
             },
             "pattern": {
              "fillmode": "overlay",
              "size": 10,
              "solidity": 0.2
             }
            },
            "type": "bar"
           }
          ],
          "barpolar": [
           {
            "marker": {
             "line": {
              "color": "#E5ECF6",
              "width": 0.5
             },
             "pattern": {
              "fillmode": "overlay",
              "size": 10,
              "solidity": 0.2
             }
            },
            "type": "barpolar"
           }
          ],
          "carpet": [
           {
            "aaxis": {
             "endlinecolor": "#2a3f5f",
             "gridcolor": "white",
             "linecolor": "white",
             "minorgridcolor": "white",
             "startlinecolor": "#2a3f5f"
            },
            "baxis": {
             "endlinecolor": "#2a3f5f",
             "gridcolor": "white",
             "linecolor": "white",
             "minorgridcolor": "white",
             "startlinecolor": "#2a3f5f"
            },
            "type": "carpet"
           }
          ],
          "choropleth": [
           {
            "colorbar": {
             "outlinewidth": 0,
             "ticks": ""
            },
            "type": "choropleth"
           }
          ],
          "contour": [
           {
            "colorbar": {
             "outlinewidth": 0,
             "ticks": ""
            },
            "colorscale": [
             [
              0,
              "#0d0887"
             ],
             [
              0.1111111111111111,
              "#46039f"
             ],
             [
              0.2222222222222222,
              "#7201a8"
             ],
             [
              0.3333333333333333,
              "#9c179e"
             ],
             [
              0.4444444444444444,
              "#bd3786"
             ],
             [
              0.5555555555555556,
              "#d8576b"
             ],
             [
              0.6666666666666666,
              "#ed7953"
             ],
             [
              0.7777777777777778,
              "#fb9f3a"
             ],
             [
              0.8888888888888888,
              "#fdca26"
             ],
             [
              1,
              "#f0f921"
             ]
            ],
            "type": "contour"
           }
          ],
          "contourcarpet": [
           {
            "colorbar": {
             "outlinewidth": 0,
             "ticks": ""
            },
            "type": "contourcarpet"
           }
          ],
          "heatmap": [
           {
            "colorbar": {
             "outlinewidth": 0,
             "ticks": ""
            },
            "colorscale": [
             [
              0,
              "#0d0887"
             ],
             [
              0.1111111111111111,
              "#46039f"
             ],
             [
              0.2222222222222222,
              "#7201a8"
             ],
             [
              0.3333333333333333,
              "#9c179e"
             ],
             [
              0.4444444444444444,
              "#bd3786"
             ],
             [
              0.5555555555555556,
              "#d8576b"
             ],
             [
              0.6666666666666666,
              "#ed7953"
             ],
             [
              0.7777777777777778,
              "#fb9f3a"
             ],
             [
              0.8888888888888888,
              "#fdca26"
             ],
             [
              1,
              "#f0f921"
             ]
            ],
            "type": "heatmap"
           }
          ],
          "histogram": [
           {
            "marker": {
             "pattern": {
              "fillmode": "overlay",
              "size": 10,
              "solidity": 0.2
             }
            },
            "type": "histogram"
           }
          ],
          "histogram2d": [
           {
            "colorbar": {
             "outlinewidth": 0,
             "ticks": ""
            },
            "colorscale": [
             [
              0,
              "#0d0887"
             ],
             [
              0.1111111111111111,
              "#46039f"
             ],
             [
              0.2222222222222222,
              "#7201a8"
             ],
             [
              0.3333333333333333,
              "#9c179e"
             ],
             [
              0.4444444444444444,
              "#bd3786"
             ],
             [
              0.5555555555555556,
              "#d8576b"
             ],
             [
              0.6666666666666666,
              "#ed7953"
             ],
             [
              0.7777777777777778,
              "#fb9f3a"
             ],
             [
              0.8888888888888888,
              "#fdca26"
             ],
             [
              1,
              "#f0f921"
             ]
            ],
            "type": "histogram2d"
           }
          ],
          "histogram2dcontour": [
           {
            "colorbar": {
             "outlinewidth": 0,
             "ticks": ""
            },
            "colorscale": [
             [
              0,
              "#0d0887"
             ],
             [
              0.1111111111111111,
              "#46039f"
             ],
             [
              0.2222222222222222,
              "#7201a8"
             ],
             [
              0.3333333333333333,
              "#9c179e"
             ],
             [
              0.4444444444444444,
              "#bd3786"
             ],
             [
              0.5555555555555556,
              "#d8576b"
             ],
             [
              0.6666666666666666,
              "#ed7953"
             ],
             [
              0.7777777777777778,
              "#fb9f3a"
             ],
             [
              0.8888888888888888,
              "#fdca26"
             ],
             [
              1,
              "#f0f921"
             ]
            ],
            "type": "histogram2dcontour"
           }
          ],
          "mesh3d": [
           {
            "colorbar": {
             "outlinewidth": 0,
             "ticks": ""
            },
            "type": "mesh3d"
           }
          ],
          "parcoords": [
           {
            "line": {
             "colorbar": {
              "outlinewidth": 0,
              "ticks": ""
             }
            },
            "type": "parcoords"
           }
          ],
          "pie": [
           {
            "automargin": true,
            "type": "pie"
           }
          ],
          "scatter": [
           {
            "fillpattern": {
             "fillmode": "overlay",
             "size": 10,
             "solidity": 0.2
            },
            "type": "scatter"
           }
          ],
          "scatter3d": [
           {
            "line": {
             "colorbar": {
              "outlinewidth": 0,
              "ticks": ""
             }
            },
            "marker": {
             "colorbar": {
              "outlinewidth": 0,
              "ticks": ""
             }
            },
            "type": "scatter3d"
           }
          ],
          "scattercarpet": [
           {
            "marker": {
             "colorbar": {
              "outlinewidth": 0,
              "ticks": ""
             }
            },
            "type": "scattercarpet"
           }
          ],
          "scattergeo": [
           {
            "marker": {
             "colorbar": {
              "outlinewidth": 0,
              "ticks": ""
             }
            },
            "type": "scattergeo"
           }
          ],
          "scattergl": [
           {
            "marker": {
             "colorbar": {
              "outlinewidth": 0,
              "ticks": ""
             }
            },
            "type": "scattergl"
           }
          ],
          "scattermap": [
           {
            "marker": {
             "colorbar": {
              "outlinewidth": 0,
              "ticks": ""
             }
            },
            "type": "scattermap"
           }
          ],
          "scattermapbox": [
           {
            "marker": {
             "colorbar": {
              "outlinewidth": 0,
              "ticks": ""
             }
            },
            "type": "scattermapbox"
           }
          ],
          "scatterpolar": [
           {
            "marker": {
             "colorbar": {
              "outlinewidth": 0,
              "ticks": ""
             }
            },
            "type": "scatterpolar"
           }
          ],
          "scatterpolargl": [
           {
            "marker": {
             "colorbar": {
              "outlinewidth": 0,
              "ticks": ""
             }
            },
            "type": "scatterpolargl"
           }
          ],
          "scatterternary": [
           {
            "marker": {
             "colorbar": {
              "outlinewidth": 0,
              "ticks": ""
             }
            },
            "type": "scatterternary"
           }
          ],
          "surface": [
           {
            "colorbar": {
             "outlinewidth": 0,
             "ticks": ""
            },
            "colorscale": [
             [
              0,
              "#0d0887"
             ],
             [
              0.1111111111111111,
              "#46039f"
             ],
             [
              0.2222222222222222,
              "#7201a8"
             ],
             [
              0.3333333333333333,
              "#9c179e"
             ],
             [
              0.4444444444444444,
              "#bd3786"
             ],
             [
              0.5555555555555556,
              "#d8576b"
             ],
             [
              0.6666666666666666,
              "#ed7953"
             ],
             [
              0.7777777777777778,
              "#fb9f3a"
             ],
             [
              0.8888888888888888,
              "#fdca26"
             ],
             [
              1,
              "#f0f921"
             ]
            ],
            "type": "surface"
           }
          ],
          "table": [
           {
            "cells": {
             "fill": {
              "color": "#EBF0F8"
             },
             "line": {
              "color": "white"
             }
            },
            "header": {
             "fill": {
              "color": "#C8D4E3"
             },
             "line": {
              "color": "white"
             }
            },
            "type": "table"
           }
          ]
         },
         "layout": {
          "annotationdefaults": {
           "arrowcolor": "#2a3f5f",
           "arrowhead": 0,
           "arrowwidth": 1
          },
          "autotypenumbers": "strict",
          "coloraxis": {
           "colorbar": {
            "outlinewidth": 0,
            "ticks": ""
           }
          },
          "colorscale": {
           "diverging": [
            [
             0,
             "#8e0152"
            ],
            [
             0.1,
             "#c51b7d"
            ],
            [
             0.2,
             "#de77ae"
            ],
            [
             0.3,
             "#f1b6da"
            ],
            [
             0.4,
             "#fde0ef"
            ],
            [
             0.5,
             "#f7f7f7"
            ],
            [
             0.6,
             "#e6f5d0"
            ],
            [
             0.7,
             "#b8e186"
            ],
            [
             0.8,
             "#7fbc41"
            ],
            [
             0.9,
             "#4d9221"
            ],
            [
             1,
             "#276419"
            ]
           ],
           "sequential": [
            [
             0,
             "#0d0887"
            ],
            [
             0.1111111111111111,
             "#46039f"
            ],
            [
             0.2222222222222222,
             "#7201a8"
            ],
            [
             0.3333333333333333,
             "#9c179e"
            ],
            [
             0.4444444444444444,
             "#bd3786"
            ],
            [
             0.5555555555555556,
             "#d8576b"
            ],
            [
             0.6666666666666666,
             "#ed7953"
            ],
            [
             0.7777777777777778,
             "#fb9f3a"
            ],
            [
             0.8888888888888888,
             "#fdca26"
            ],
            [
             1,
             "#f0f921"
            ]
           ],
           "sequentialminus": [
            [
             0,
             "#0d0887"
            ],
            [
             0.1111111111111111,
             "#46039f"
            ],
            [
             0.2222222222222222,
             "#7201a8"
            ],
            [
             0.3333333333333333,
             "#9c179e"
            ],
            [
             0.4444444444444444,
             "#bd3786"
            ],
            [
             0.5555555555555556,
             "#d8576b"
            ],
            [
             0.6666666666666666,
             "#ed7953"
            ],
            [
             0.7777777777777778,
             "#fb9f3a"
            ],
            [
             0.8888888888888888,
             "#fdca26"
            ],
            [
             1,
             "#f0f921"
            ]
           ]
          },
          "colorway": [
           "#636efa",
           "#EF553B",
           "#00cc96",
           "#ab63fa",
           "#FFA15A",
           "#19d3f3",
           "#FF6692",
           "#B6E880",
           "#FF97FF",
           "#FECB52"
          ],
          "font": {
           "color": "#2a3f5f"
          },
          "geo": {
           "bgcolor": "white",
           "lakecolor": "white",
           "landcolor": "#E5ECF6",
           "showlakes": true,
           "showland": true,
           "subunitcolor": "white"
          },
          "hoverlabel": {
           "align": "left"
          },
          "hovermode": "closest",
          "mapbox": {
           "style": "light"
          },
          "paper_bgcolor": "white",
          "plot_bgcolor": "#E5ECF6",
          "polar": {
           "angularaxis": {
            "gridcolor": "white",
            "linecolor": "white",
            "ticks": ""
           },
           "bgcolor": "#E5ECF6",
           "radialaxis": {
            "gridcolor": "white",
            "linecolor": "white",
            "ticks": ""
           }
          },
          "scene": {
           "xaxis": {
            "backgroundcolor": "#E5ECF6",
            "gridcolor": "white",
            "gridwidth": 2,
            "linecolor": "white",
            "showbackground": true,
            "ticks": "",
            "zerolinecolor": "white"
           },
           "yaxis": {
            "backgroundcolor": "#E5ECF6",
            "gridcolor": "white",
            "gridwidth": 2,
            "linecolor": "white",
            "showbackground": true,
            "ticks": "",
            "zerolinecolor": "white"
           },
           "zaxis": {
            "backgroundcolor": "#E5ECF6",
            "gridcolor": "white",
            "gridwidth": 2,
            "linecolor": "white",
            "showbackground": true,
            "ticks": "",
            "zerolinecolor": "white"
           }
          },
          "shapedefaults": {
           "line": {
            "color": "#2a3f5f"
           }
          },
          "ternary": {
           "aaxis": {
            "gridcolor": "white",
            "linecolor": "white",
            "ticks": ""
           },
           "baxis": {
            "gridcolor": "white",
            "linecolor": "white",
            "ticks": ""
           },
           "bgcolor": "#E5ECF6",
           "caxis": {
            "gridcolor": "white",
            "linecolor": "white",
            "ticks": ""
           }
          },
          "title": {
           "x": 0.05
          },
          "xaxis": {
           "automargin": true,
           "gridcolor": "white",
           "linecolor": "white",
           "ticks": "",
           "title": {
            "standoff": 15
           },
           "zerolinecolor": "white",
           "zerolinewidth": 2
          },
          "yaxis": {
           "automargin": true,
           "gridcolor": "white",
           "linecolor": "white",
           "ticks": "",
           "title": {
            "standoff": 15
           },
           "zerolinecolor": "white",
           "zerolinewidth": 2
          }
         }
        },
        "title": {
         "text": "Interactive Lifestyle Balance per Month"
        },
        "updatemenus": [
         {
          "active": 0,
          "buttons": [
           {
            "args": [
             {
              "visible": [
               true,
               false,
               false,
               false,
               false,
               false,
               false,
               false,
               false,
               false,
               false,
               false
              ]
             },
             {
              "title": "Lifestyle Balance - Apr"
             }
            ],
            "label": "Apr",
            "method": "update"
           },
           {
            "args": [
             {
              "visible": [
               false,
               true,
               false,
               false,
               false,
               false,
               false,
               false,
               false,
               false,
               false,
               false
              ]
             },
             {
              "title": "Lifestyle Balance - Aug"
             }
            ],
            "label": "Aug",
            "method": "update"
           },
           {
            "args": [
             {
              "visible": [
               false,
               false,
               true,
               false,
               false,
               false,
               false,
               false,
               false,
               false,
               false,
               false
              ]
             },
             {
              "title": "Lifestyle Balance - Dec"
             }
            ],
            "label": "Dec",
            "method": "update"
           },
           {
            "args": [
             {
              "visible": [
               false,
               false,
               false,
               true,
               false,
               false,
               false,
               false,
               false,
               false,
               false,
               false
              ]
             },
             {
              "title": "Lifestyle Balance - Feb"
             }
            ],
            "label": "Feb",
            "method": "update"
           },
           {
            "args": [
             {
              "visible": [
               false,
               false,
               false,
               false,
               true,
               false,
               false,
               false,
               false,
               false,
               false,
               false
              ]
             },
             {
              "title": "Lifestyle Balance - Jan"
             }
            ],
            "label": "Jan",
            "method": "update"
           },
           {
            "args": [
             {
              "visible": [
               false,
               false,
               false,
               false,
               false,
               true,
               false,
               false,
               false,
               false,
               false,
               false
              ]
             },
             {
              "title": "Lifestyle Balance - Jul"
             }
            ],
            "label": "Jul",
            "method": "update"
           },
           {
            "args": [
             {
              "visible": [
               false,
               false,
               false,
               false,
               false,
               false,
               true,
               false,
               false,
               false,
               false,
               false
              ]
             },
             {
              "title": "Lifestyle Balance - Jun"
             }
            ],
            "label": "Jun",
            "method": "update"
           },
           {
            "args": [
             {
              "visible": [
               false,
               false,
               false,
               false,
               false,
               false,
               false,
               true,
               false,
               false,
               false,
               false
              ]
             },
             {
              "title": "Lifestyle Balance - Mar"
             }
            ],
            "label": "Mar",
            "method": "update"
           },
           {
            "args": [
             {
              "visible": [
               false,
               false,
               false,
               false,
               false,
               false,
               false,
               false,
               true,
               false,
               false,
               false
              ]
             },
             {
              "title": "Lifestyle Balance - May"
             }
            ],
            "label": "May",
            "method": "update"
           },
           {
            "args": [
             {
              "visible": [
               false,
               false,
               false,
               false,
               false,
               false,
               false,
               false,
               false,
               true,
               false,
               false
              ]
             },
             {
              "title": "Lifestyle Balance - Nov"
             }
            ],
            "label": "Nov",
            "method": "update"
           },
           {
            "args": [
             {
              "visible": [
               false,
               false,
               false,
               false,
               false,
               false,
               false,
               false,
               false,
               false,
               true,
               false
              ]
             },
             {
              "title": "Lifestyle Balance - Oct"
             }
            ],
            "label": "Oct",
            "method": "update"
           },
           {
            "args": [
             {
              "visible": [
               false,
               false,
               false,
               false,
               false,
               false,
               false,
               false,
               false,
               false,
               false,
               true
              ]
             },
             {
              "title": "Lifestyle Balance - Sep"
             }
            ],
            "label": "Sep",
            "method": "update"
           }
          ],
          "x": 1.1,
          "y": 1.1
         }
        ]
       }
      }
     },
     "metadata": {},
     "output_type": "display_data"
    }
   ],
   "source": [
    "fig = go.Figure()\n",
    "\n",
    "# Add one trace per month, initially hidden except the first\n",
    "for i, row in monthly_avg.iterrows():\n",
    "    fig.add_trace(go.Scatterpolar(\n",
    "        r=row[metrics].values,\n",
    "        theta=metrics,\n",
    "        fill=\"toself\",\n",
    "        name=row[\"Month\"],\n",
    "        visible=(i == 0)  # Only first month visible\n",
    "    ))\n",
    "\n",
    "# Dropdown menu\n",
    "buttons = []\n",
    "for i, month in enumerate(monthly_avg[\"Month\"]):\n",
    "    visibility = [False] * len(monthly_avg)\n",
    "    visibility[i] = True\n",
    "    buttons.append(dict(label=month,\n",
    "                        method=\"update\",\n",
    "                        args=[{\"visible\": visibility},\n",
    "                              {\"title\": f\"Lifestyle Balance - {month}\"}]))\n",
    "\n",
    "fig.update_layout(\n",
    "    updatemenus=[dict(active=0,\n",
    "                      buttons=buttons,\n",
    "                      x=1.1, y=1.1)],\n",
    "    polar=dict(radialaxis=dict(visible=True, range=[0,1])),\n",
    "    title=\"Interactive Lifestyle Balance per Month\"\n",
    ")\n",
    "\n",
    "fig.show()"
   ]
  },
  {
   "cell_type": "markdown",
   "id": "58573894",
   "metadata": {},
   "source": [
    "### Ques --> When i am least/most active in the year?"
   ]
  },
  {
   "cell_type": "code",
   "execution_count": 58,
   "id": "251ab187",
   "metadata": {},
   "outputs": [
    {
     "data": {
      "application/vnd.plotly.v1+json": {
       "config": {
        "plotlyServerURL": "https://plot.ly"
       },
       "data": [
        {
         "coloraxis": "coloraxis",
         "histfunc": "avg",
         "hovertemplate": "Weekday=%{x}<br>Month=%{y}<br>avg of Steps=%{z}<extra></extra>",
         "name": "",
         "type": "histogram2d",
         "x": [
          "Sunday",
          "Monday",
          "Tuesday",
          "Wednesday",
          "Thursday",
          "Friday",
          "Saturday",
          "Sunday",
          "Monday",
          "Tuesday",
          "Wednesday",
          "Thursday",
          "Friday",
          "Saturday",
          "Sunday",
          "Monday",
          "Tuesday",
          "Wednesday",
          "Thursday",
          "Friday",
          "Saturday",
          "Sunday",
          "Monday",
          "Tuesday",
          "Wednesday",
          "Thursday",
          "Friday",
          "Saturday",
          "Sunday",
          "Monday",
          "Tuesday",
          "Wednesday",
          "Thursday",
          "Friday",
          "Saturday",
          "Sunday",
          "Monday",
          "Tuesday",
          "Wednesday",
          "Thursday",
          "Friday",
          "Saturday",
          "Sunday",
          "Monday",
          "Tuesday",
          "Wednesday",
          "Thursday",
          "Friday",
          "Saturday",
          "Sunday",
          "Monday",
          "Tuesday",
          "Wednesday",
          "Thursday",
          "Friday",
          "Saturday",
          "Sunday",
          "Monday",
          "Tuesday",
          "Wednesday",
          "Thursday",
          "Friday",
          "Saturday",
          "Sunday",
          "Monday",
          "Tuesday",
          "Wednesday",
          "Thursday",
          "Friday",
          "Saturday",
          "Sunday",
          "Monday",
          "Tuesday",
          "Wednesday",
          "Thursday",
          "Friday",
          "Saturday",
          "Sunday",
          "Monday",
          "Tuesday",
          "Wednesday",
          "Thursday",
          "Friday",
          "Saturday",
          "Sunday",
          "Monday",
          "Tuesday",
          "Wednesday",
          "Thursday",
          "Friday",
          "Saturday",
          "Sunday",
          "Monday",
          "Tuesday",
          "Wednesday",
          "Thursday",
          "Friday",
          "Saturday",
          "Sunday",
          "Monday",
          "Tuesday",
          "Wednesday",
          "Thursday",
          "Friday",
          "Saturday",
          "Sunday",
          "Monday",
          "Tuesday",
          "Wednesday",
          "Thursday",
          "Friday",
          "Saturday",
          "Sunday",
          "Monday",
          "Tuesday",
          "Wednesday",
          "Thursday",
          "Friday",
          "Saturday",
          "Sunday",
          "Monday",
          "Tuesday",
          "Wednesday",
          "Thursday",
          "Friday",
          "Saturday",
          "Sunday",
          "Monday",
          "Tuesday",
          "Wednesday",
          "Thursday",
          "Friday",
          "Saturday",
          "Sunday",
          "Monday",
          "Tuesday",
          "Wednesday",
          "Thursday",
          "Friday",
          "Saturday",
          "Sunday",
          "Monday",
          "Tuesday",
          "Wednesday",
          "Thursday",
          "Friday",
          "Saturday",
          "Sunday",
          "Monday",
          "Tuesday",
          "Wednesday",
          "Thursday",
          "Friday",
          "Saturday",
          "Sunday",
          "Monday",
          "Tuesday",
          "Wednesday",
          "Thursday",
          "Friday",
          "Saturday",
          "Sunday",
          "Monday",
          "Tuesday",
          "Wednesday",
          "Thursday",
          "Friday",
          "Saturday",
          "Sunday",
          "Monday",
          "Tuesday",
          "Wednesday",
          "Thursday",
          "Friday",
          "Saturday",
          "Sunday",
          "Monday",
          "Tuesday",
          "Wednesday",
          "Thursday",
          "Friday",
          "Saturday",
          "Sunday",
          "Monday",
          "Tuesday",
          "Wednesday",
          "Thursday",
          "Friday",
          "Saturday",
          "Sunday",
          "Monday",
          "Tuesday",
          "Wednesday",
          "Thursday",
          "Friday",
          "Saturday",
          "Sunday",
          "Monday",
          "Tuesday",
          "Wednesday",
          "Thursday",
          "Friday",
          "Saturday",
          "Sunday",
          "Monday",
          "Tuesday",
          "Wednesday",
          "Thursday",
          "Friday",
          "Saturday",
          "Sunday",
          "Monday",
          "Tuesday",
          "Wednesday",
          "Thursday",
          "Friday",
          "Saturday",
          "Sunday",
          "Monday",
          "Tuesday",
          "Wednesday",
          "Thursday",
          "Friday",
          "Saturday",
          "Sunday",
          "Monday",
          "Tuesday",
          "Wednesday",
          "Thursday",
          "Friday",
          "Saturday",
          "Sunday",
          "Monday",
          "Tuesday",
          "Wednesday",
          "Thursday",
          "Friday",
          "Saturday",
          "Sunday",
          "Monday",
          "Tuesday",
          "Wednesday",
          "Thursday",
          "Friday",
          "Saturday",
          "Sunday",
          "Monday",
          "Tuesday",
          "Wednesday",
          "Thursday",
          "Friday",
          "Saturday",
          "Sunday",
          "Monday",
          "Tuesday",
          "Wednesday",
          "Thursday",
          "Friday",
          "Saturday",
          "Sunday",
          "Monday",
          "Tuesday",
          "Wednesday",
          "Thursday",
          "Friday",
          "Saturday",
          "Sunday",
          "Monday",
          "Tuesday",
          "Wednesday",
          "Thursday",
          "Friday",
          "Saturday",
          "Sunday",
          "Monday",
          "Tuesday",
          "Wednesday",
          "Thursday",
          "Friday",
          "Saturday",
          "Sunday",
          "Monday",
          "Tuesday",
          "Wednesday",
          "Thursday",
          "Friday",
          "Saturday",
          "Sunday",
          "Monday",
          "Tuesday",
          "Wednesday",
          "Thursday",
          "Friday",
          "Saturday",
          "Sunday",
          "Monday",
          "Tuesday",
          "Wednesday",
          "Thursday",
          "Friday",
          "Saturday",
          "Sunday",
          "Monday",
          "Tuesday",
          "Wednesday",
          "Thursday",
          "Friday",
          "Saturday",
          "Sunday",
          "Monday",
          "Tuesday",
          "Wednesday",
          "Thursday",
          "Friday",
          "Saturday",
          "Sunday",
          "Monday",
          "Tuesday",
          "Wednesday",
          "Thursday",
          "Friday",
          "Saturday",
          "Sunday",
          "Monday",
          "Tuesday",
          "Wednesday",
          "Thursday",
          "Friday",
          "Saturday",
          "Sunday",
          "Monday",
          "Tuesday",
          "Wednesday",
          "Thursday",
          "Friday",
          "Saturday",
          "Sunday",
          "Monday",
          "Tuesday",
          "Wednesday",
          "Thursday",
          "Friday",
          "Saturday",
          "Sunday",
          "Monday",
          "Tuesday",
          "Wednesday",
          "Thursday",
          "Friday",
          "Saturday",
          "Sunday",
          "Monday",
          "Tuesday",
          "Wednesday",
          "Thursday",
          "Friday",
          "Saturday",
          "Sunday",
          "Monday",
          "Tuesday",
          "Wednesday",
          "Thursday",
          "Friday",
          "Saturday",
          "Sunday",
          "Monday",
          "Tuesday",
          "Wednesday",
          "Thursday",
          "Friday",
          "Saturday",
          "Sunday",
          "Monday",
          "Tuesday",
          "Wednesday",
          "Thursday",
          "Friday",
          "Saturday",
          "Sunday",
          "Monday",
          "Tuesday",
          "Wednesday",
          "Thursday",
          "Friday",
          "Saturday",
          "Sunday",
          "Monday",
          "Tuesday",
          "Wednesday",
          "Thursday",
          "Friday",
          "Saturday",
          "Sunday",
          "Monday",
          "Tuesday",
          "Wednesday",
          "Thursday",
          "Friday",
          "Saturday",
          "Sunday",
          "Monday",
          "Tuesday",
          "Wednesday",
          "Thursday",
          "Friday",
          "Saturday",
          "Sunday",
          "Monday",
          "Tuesday",
          "Wednesday",
          "Thursday",
          "Friday",
          "Saturday",
          "Sunday",
          "Monday",
          "Tuesday",
          "Wednesday",
          "Thursday",
          "Friday",
          "Saturday",
          "Sunday",
          "Monday",
          "Tuesday",
          "Wednesday",
          "Thursday",
          "Friday",
          "Saturday",
          "Sunday",
          "Monday",
          "Tuesday",
          "Wednesday",
          "Thursday",
          "Friday",
          "Saturday",
          "Sunday",
          "Monday",
          "Tuesday",
          "Wednesday",
          "Thursday",
          "Friday",
          "Saturday",
          "Sunday",
          "Monday",
          "Tuesday",
          "Wednesday",
          "Thursday",
          "Friday",
          "Saturday",
          "Sunday",
          "Monday",
          "Tuesday",
          "Wednesday",
          "Thursday",
          "Friday",
          "Saturday",
          "Sunday",
          "Monday",
          "Tuesday",
          "Wednesday",
          "Thursday",
          "Friday",
          "Saturday",
          "Sunday",
          "Monday",
          "Tuesday",
          "Wednesday",
          "Thursday",
          "Friday",
          "Saturday",
          "Sunday",
          "Monday",
          "Tuesday",
          "Wednesday",
          "Thursday",
          "Friday",
          "Saturday",
          "Sunday",
          "Monday",
          "Tuesday",
          "Wednesday",
          "Thursday",
          "Friday",
          "Saturday",
          "Sunday",
          "Monday",
          "Tuesday",
          "Wednesday",
          "Thursday",
          "Friday",
          "Saturday",
          "Sunday",
          "Monday",
          "Tuesday",
          "Wednesday",
          "Thursday",
          "Friday",
          "Saturday",
          "Sunday",
          "Monday",
          "Tuesday"
         ],
         "xaxis": "x",
         "xbingroup": "x",
         "y": [
          "Jan",
          "Jan",
          "Jan",
          "Jan",
          "Jan",
          "Jan",
          "Jan",
          "Jan",
          "Jan",
          "Jan",
          "Jan",
          "Jan",
          "Jan",
          "Jan",
          "Jan",
          "Jan",
          "Jan",
          "Jan",
          "Jan",
          "Jan",
          "Jan",
          "Jan",
          "Jan",
          "Jan",
          "Jan",
          "Jan",
          "Jan",
          "Jan",
          "Jan",
          "Jan",
          "Jan",
          "Feb",
          "Feb",
          "Feb",
          "Feb",
          "Feb",
          "Feb",
          "Feb",
          "Feb",
          "Feb",
          "Feb",
          "Feb",
          "Feb",
          "Feb",
          "Feb",
          "Feb",
          "Feb",
          "Feb",
          "Feb",
          "Feb",
          "Feb",
          "Feb",
          "Feb",
          "Feb",
          "Feb",
          "Feb",
          "Feb",
          "Feb",
          "Feb",
          "Mar",
          "Mar",
          "Mar",
          "Mar",
          "Mar",
          "Mar",
          "Mar",
          "Mar",
          "Mar",
          "Mar",
          "Mar",
          "Mar",
          "Mar",
          "Mar",
          "Mar",
          "Mar",
          "Mar",
          "Mar",
          "Mar",
          "Mar",
          "Mar",
          "Mar",
          "Mar",
          "Mar",
          "Mar",
          "Mar",
          "Mar",
          "Mar",
          "Mar",
          "Mar",
          "Mar",
          "Apr",
          "Apr",
          "Apr",
          "Apr",
          "Apr",
          "Apr",
          "Apr",
          "Apr",
          "Apr",
          "Apr",
          "Apr",
          "Apr",
          "Apr",
          "Apr",
          "Apr",
          "Apr",
          "Apr",
          "Apr",
          "Apr",
          "Apr",
          "Apr",
          "Apr",
          "Apr",
          "Apr",
          "Apr",
          "Apr",
          "Apr",
          "Apr",
          "Apr",
          "Apr",
          "May",
          "May",
          "May",
          "May",
          "May",
          "May",
          "May",
          "May",
          "May",
          "May",
          "May",
          "May",
          "May",
          "May",
          "May",
          "May",
          "May",
          "May",
          "May",
          "May",
          "May",
          "May",
          "May",
          "May",
          "May",
          "May",
          "May",
          "May",
          "May",
          "May",
          "May",
          "Jun",
          "Jun",
          "Jun",
          "Jun",
          "Jun",
          "Jun",
          "Jun",
          "Jun",
          "Jun",
          "Jun",
          "Jun",
          "Jun",
          "Jun",
          "Jun",
          "Jun",
          "Jun",
          "Jun",
          "Jun",
          "Jun",
          "Jun",
          "Jun",
          "Jun",
          "Jun",
          "Jun",
          "Jun",
          "Jun",
          "Jun",
          "Jun",
          "Jun",
          "Jun",
          "Jul",
          "Jul",
          "Jul",
          "Jul",
          "Jul",
          "Jul",
          "Jul",
          "Jul",
          "Jul",
          "Jul",
          "Jul",
          "Jul",
          "Jul",
          "Jul",
          "Jul",
          "Jul",
          "Jul",
          "Jul",
          "Jul",
          "Jul",
          "Jul",
          "Jul",
          "Jul",
          "Jul",
          "Jul",
          "Jul",
          "Jul",
          "Jul",
          "Jul",
          "Jul",
          "Jul",
          "Aug",
          "Aug",
          "Aug",
          "Aug",
          "Aug",
          "Aug",
          "Aug",
          "Aug",
          "Aug",
          "Aug",
          "Aug",
          "Aug",
          "Aug",
          "Aug",
          "Aug",
          "Aug",
          "Aug",
          "Aug",
          "Aug",
          "Aug",
          "Aug",
          "Aug",
          "Aug",
          "Aug",
          "Aug",
          "Aug",
          "Aug",
          "Aug",
          "Aug",
          "Aug",
          "Aug",
          "Sep",
          "Sep",
          "Sep",
          "Sep",
          "Sep",
          "Sep",
          "Sep",
          "Sep",
          "Sep",
          "Sep",
          "Sep",
          "Sep",
          "Sep",
          "Sep",
          "Sep",
          "Sep",
          "Sep",
          "Sep",
          "Sep",
          "Sep",
          "Sep",
          "Sep",
          "Sep",
          "Sep",
          "Sep",
          "Sep",
          "Sep",
          "Sep",
          "Sep",
          "Sep",
          "Oct",
          "Oct",
          "Oct",
          "Oct",
          "Oct",
          "Oct",
          "Oct",
          "Oct",
          "Oct",
          "Oct",
          "Oct",
          "Oct",
          "Oct",
          "Oct",
          "Oct",
          "Oct",
          "Oct",
          "Oct",
          "Oct",
          "Oct",
          "Oct",
          "Oct",
          "Oct",
          "Oct",
          "Oct",
          "Oct",
          "Oct",
          "Oct",
          "Oct",
          "Oct",
          "Oct",
          "Nov",
          "Nov",
          "Nov",
          "Nov",
          "Nov",
          "Nov",
          "Nov",
          "Nov",
          "Nov",
          "Nov",
          "Nov",
          "Nov",
          "Nov",
          "Nov",
          "Nov",
          "Nov",
          "Nov",
          "Nov",
          "Nov",
          "Nov",
          "Nov",
          "Nov",
          "Nov",
          "Nov",
          "Nov",
          "Nov",
          "Nov",
          "Nov",
          "Nov",
          "Nov",
          "Dec",
          "Dec",
          "Dec",
          "Dec",
          "Dec",
          "Dec",
          "Dec",
          "Dec",
          "Dec",
          "Dec",
          "Dec",
          "Dec",
          "Dec",
          "Dec",
          "Dec",
          "Dec",
          "Dec",
          "Dec",
          "Dec",
          "Dec",
          "Dec",
          "Dec",
          "Dec",
          "Dec",
          "Dec",
          "Dec",
          "Dec",
          "Dec",
          "Dec",
          "Dec",
          "Dec",
          "Jan",
          "Jan",
          "Jan",
          "Jan",
          "Jan",
          "Jan",
          "Jan",
          "Jan",
          "Jan",
          "Jan",
          "Jan",
          "Jan",
          "Jan",
          "Jan",
          "Jan",
          "Jan",
          "Jan",
          "Jan",
          "Jan",
          "Jan",
          "Jan",
          "Jan",
          "Jan",
          "Jan",
          "Jan",
          "Jan",
          "Jan",
          "Jan",
          "Jan",
          "Jan",
          "Jan",
          "Feb",
          "Feb",
          "Feb",
          "Feb",
          "Feb",
          "Feb",
          "Feb",
          "Feb",
          "Feb",
          "Feb",
          "Feb",
          "Feb",
          "Feb",
          "Feb",
          "Feb",
          "Feb",
          "Feb",
          "Feb",
          "Feb",
          "Feb",
          "Feb",
          "Feb",
          "Feb",
          "Feb",
          "Feb",
          "Feb",
          "Feb",
          "Feb",
          "Feb",
          "Mar",
          "Mar",
          "Mar",
          "Mar",
          "Mar",
          "Mar",
          "Mar",
          "Mar",
          "Mar",
          "Mar",
          "Mar",
          "Mar",
          "Mar",
          "Mar",
          "Mar",
          "Mar",
          "Mar",
          "Mar",
          "Mar",
          "Mar",
          "Mar",
          "Mar",
          "Mar",
          "Mar",
          "Mar",
          "Mar",
          "Mar",
          "Mar",
          "Mar",
          "Mar",
          "Mar",
          "Apr",
          "Apr",
          "Apr",
          "Apr",
          "Apr",
          "Apr",
          "Apr",
          "Apr",
          "Apr",
          "Apr",
          "Apr",
          "Apr",
          "Apr",
          "Apr",
          "Apr",
          "Apr",
          "Apr",
          "Apr",
          "Apr",
          "Apr",
          "Apr",
          "Apr",
          "Apr",
          "Apr",
          "Apr",
          "Apr",
          "Apr",
          "Apr",
          "Apr",
          "Apr",
          "May",
          "May",
          "May",
          "May",
          "May",
          "May",
          "May",
          "May",
          "May",
          "May",
          "May",
          "May",
          "May",
          "May"
         ],
         "yaxis": "y",
         "ybingroup": "y",
         "z": {
          "bdata": "ykb6MPIqgkoESjAYfSN/KfAlHzqYR3Una0YlL3FA3RFWORUqsky6KgFAP0fkHaYbTUj2SndHdTGSHOFHKhvtN1UxViXrK18PezgfMSpJRhcdHwBG8hZwRakZbR69I4wPvkF5Gx0iFRREN9sVUhmyH+QQxzXxIP8frT7xLDca4RqFHRkUyiQDHNNCii+JJIRDNSBTGZNLuDryLrcp8BGOOiZH5zyKFFk7ljuTIxkvXx1LRVQWcjrQEwsNQCgWGOAXgw+2SDZERSNOLN1BSTNoNkcd4S0NPuIm2Q7WLcYUMj3PTY81/w9nRH4+OhZzS59Eag9HIesTkSHcD/wVUEPaM3YSpUUzJp01hiOCM1kzKD8GHuhINjxZJRQdWjQbK/pHWDsOP1AnoSQvQIEqf0LXIvg8ChfHOXQsB05ZKGVBbjegQV0m2kr+DZozJUs4TEgYj0RQMkBJwyiFPis+OB7VOgEZCiAYJRs0GSU0JLAaSxDUItk6jDCpMB9AgDS9QygrUCudK0gX7TqsSLIfdy8RNbgqKj5PPzodSyjQP/M8nkjtR0ormza/Hl1IyCVtFWIOqTCFMN8iWTKlR1c0OB3lLeQvr0s5TFQPbB5UP4434EgFDwgrVTKmE18QThIbDv49Eh3WSAQ2+iiLRjU+niX3Mc0SnA8oFB5Hn0sUQ9Q9KywuMExDuhh6RaEy1kquNi0NtzI3Hf0UwSJ9QiEToRN+M/EXIyh6DpsVoSHXJFIwa0lxDyIduklLIHEOQD3KOmUsqEmPJ7A3xDfaROtHHQyUF3wPuSGuEtsnoRpMQf4z7R6yFpwqJSyZJw4nwg8PMLc9BE6VPhkR2BceJFYnkw8QNcQm6DU6P3k4PAzNEew9xTCUOkgMDhtiFzw+4jOpTOMwWi66NOUnITTWSlodfzLdLfYQ+yVVFfURXDlbDW0+KyENGM89NxnrLCMpOhagJzIz1zm/O/MY+CwpHe081is2DIwhRTjkQro4tRY0MMsPpQ4SOGZN6D8ISToVOTflPUgaCkfTMT0gexo0H+oMTRs+JqsykhLNIrAtDR0ASudIaTXURCIoMSh4NUMV0kGGNh4OegzMHfgSnB6WSOck6CxVSUEV6UGhPOU4Uxi4QEsYeiUeMkZNKRcmJr4ZphuWR18PcCgZDdM+5klzOKA8/i8AIiAPHC0rD084nSmYN/80/iOeRrNCERcGGSwRPBidRYwbkEnpSZQzXT5jRNML7jl8SLgxPkLuEiFFIUadIaUqfUaSLeMS1yFrFOAcZhJoKQciBU4TRuIYnUenNIkS/z9aKEM6vw4WIF85ECEYD7Anej+lQnIdVBPdFA==",
          "dtype": "i2"
         }
        }
       ],
       "layout": {
        "coloraxis": {
         "colorbar": {
          "title": {
           "text": "avg of Steps"
          }
         },
         "colorscale": [
          [
           0,
           "rgb(255,255,217)"
          ],
          [
           0.125,
           "rgb(237,248,177)"
          ],
          [
           0.25,
           "rgb(199,233,180)"
          ],
          [
           0.375,
           "rgb(127,205,187)"
          ],
          [
           0.5,
           "rgb(65,182,196)"
          ],
          [
           0.625,
           "rgb(29,145,192)"
          ],
          [
           0.75,
           "rgb(34,94,168)"
          ],
          [
           0.875,
           "rgb(37,52,148)"
          ],
          [
           1,
           "rgb(8,29,88)"
          ]
         ]
        },
        "legend": {
         "tracegroupgap": 0
        },
        "template": {
         "data": {
          "bar": [
           {
            "error_x": {
             "color": "#2a3f5f"
            },
            "error_y": {
             "color": "#2a3f5f"
            },
            "marker": {
             "line": {
              "color": "#E5ECF6",
              "width": 0.5
             },
             "pattern": {
              "fillmode": "overlay",
              "size": 10,
              "solidity": 0.2
             }
            },
            "type": "bar"
           }
          ],
          "barpolar": [
           {
            "marker": {
             "line": {
              "color": "#E5ECF6",
              "width": 0.5
             },
             "pattern": {
              "fillmode": "overlay",
              "size": 10,
              "solidity": 0.2
             }
            },
            "type": "barpolar"
           }
          ],
          "carpet": [
           {
            "aaxis": {
             "endlinecolor": "#2a3f5f",
             "gridcolor": "white",
             "linecolor": "white",
             "minorgridcolor": "white",
             "startlinecolor": "#2a3f5f"
            },
            "baxis": {
             "endlinecolor": "#2a3f5f",
             "gridcolor": "white",
             "linecolor": "white",
             "minorgridcolor": "white",
             "startlinecolor": "#2a3f5f"
            },
            "type": "carpet"
           }
          ],
          "choropleth": [
           {
            "colorbar": {
             "outlinewidth": 0,
             "ticks": ""
            },
            "type": "choropleth"
           }
          ],
          "contour": [
           {
            "colorbar": {
             "outlinewidth": 0,
             "ticks": ""
            },
            "colorscale": [
             [
              0,
              "#0d0887"
             ],
             [
              0.1111111111111111,
              "#46039f"
             ],
             [
              0.2222222222222222,
              "#7201a8"
             ],
             [
              0.3333333333333333,
              "#9c179e"
             ],
             [
              0.4444444444444444,
              "#bd3786"
             ],
             [
              0.5555555555555556,
              "#d8576b"
             ],
             [
              0.6666666666666666,
              "#ed7953"
             ],
             [
              0.7777777777777778,
              "#fb9f3a"
             ],
             [
              0.8888888888888888,
              "#fdca26"
             ],
             [
              1,
              "#f0f921"
             ]
            ],
            "type": "contour"
           }
          ],
          "contourcarpet": [
           {
            "colorbar": {
             "outlinewidth": 0,
             "ticks": ""
            },
            "type": "contourcarpet"
           }
          ],
          "heatmap": [
           {
            "colorbar": {
             "outlinewidth": 0,
             "ticks": ""
            },
            "colorscale": [
             [
              0,
              "#0d0887"
             ],
             [
              0.1111111111111111,
              "#46039f"
             ],
             [
              0.2222222222222222,
              "#7201a8"
             ],
             [
              0.3333333333333333,
              "#9c179e"
             ],
             [
              0.4444444444444444,
              "#bd3786"
             ],
             [
              0.5555555555555556,
              "#d8576b"
             ],
             [
              0.6666666666666666,
              "#ed7953"
             ],
             [
              0.7777777777777778,
              "#fb9f3a"
             ],
             [
              0.8888888888888888,
              "#fdca26"
             ],
             [
              1,
              "#f0f921"
             ]
            ],
            "type": "heatmap"
           }
          ],
          "histogram": [
           {
            "marker": {
             "pattern": {
              "fillmode": "overlay",
              "size": 10,
              "solidity": 0.2
             }
            },
            "type": "histogram"
           }
          ],
          "histogram2d": [
           {
            "colorbar": {
             "outlinewidth": 0,
             "ticks": ""
            },
            "colorscale": [
             [
              0,
              "#0d0887"
             ],
             [
              0.1111111111111111,
              "#46039f"
             ],
             [
              0.2222222222222222,
              "#7201a8"
             ],
             [
              0.3333333333333333,
              "#9c179e"
             ],
             [
              0.4444444444444444,
              "#bd3786"
             ],
             [
              0.5555555555555556,
              "#d8576b"
             ],
             [
              0.6666666666666666,
              "#ed7953"
             ],
             [
              0.7777777777777778,
              "#fb9f3a"
             ],
             [
              0.8888888888888888,
              "#fdca26"
             ],
             [
              1,
              "#f0f921"
             ]
            ],
            "type": "histogram2d"
           }
          ],
          "histogram2dcontour": [
           {
            "colorbar": {
             "outlinewidth": 0,
             "ticks": ""
            },
            "colorscale": [
             [
              0,
              "#0d0887"
             ],
             [
              0.1111111111111111,
              "#46039f"
             ],
             [
              0.2222222222222222,
              "#7201a8"
             ],
             [
              0.3333333333333333,
              "#9c179e"
             ],
             [
              0.4444444444444444,
              "#bd3786"
             ],
             [
              0.5555555555555556,
              "#d8576b"
             ],
             [
              0.6666666666666666,
              "#ed7953"
             ],
             [
              0.7777777777777778,
              "#fb9f3a"
             ],
             [
              0.8888888888888888,
              "#fdca26"
             ],
             [
              1,
              "#f0f921"
             ]
            ],
            "type": "histogram2dcontour"
           }
          ],
          "mesh3d": [
           {
            "colorbar": {
             "outlinewidth": 0,
             "ticks": ""
            },
            "type": "mesh3d"
           }
          ],
          "parcoords": [
           {
            "line": {
             "colorbar": {
              "outlinewidth": 0,
              "ticks": ""
             }
            },
            "type": "parcoords"
           }
          ],
          "pie": [
           {
            "automargin": true,
            "type": "pie"
           }
          ],
          "scatter": [
           {
            "fillpattern": {
             "fillmode": "overlay",
             "size": 10,
             "solidity": 0.2
            },
            "type": "scatter"
           }
          ],
          "scatter3d": [
           {
            "line": {
             "colorbar": {
              "outlinewidth": 0,
              "ticks": ""
             }
            },
            "marker": {
             "colorbar": {
              "outlinewidth": 0,
              "ticks": ""
             }
            },
            "type": "scatter3d"
           }
          ],
          "scattercarpet": [
           {
            "marker": {
             "colorbar": {
              "outlinewidth": 0,
              "ticks": ""
             }
            },
            "type": "scattercarpet"
           }
          ],
          "scattergeo": [
           {
            "marker": {
             "colorbar": {
              "outlinewidth": 0,
              "ticks": ""
             }
            },
            "type": "scattergeo"
           }
          ],
          "scattergl": [
           {
            "marker": {
             "colorbar": {
              "outlinewidth": 0,
              "ticks": ""
             }
            },
            "type": "scattergl"
           }
          ],
          "scattermap": [
           {
            "marker": {
             "colorbar": {
              "outlinewidth": 0,
              "ticks": ""
             }
            },
            "type": "scattermap"
           }
          ],
          "scattermapbox": [
           {
            "marker": {
             "colorbar": {
              "outlinewidth": 0,
              "ticks": ""
             }
            },
            "type": "scattermapbox"
           }
          ],
          "scatterpolar": [
           {
            "marker": {
             "colorbar": {
              "outlinewidth": 0,
              "ticks": ""
             }
            },
            "type": "scatterpolar"
           }
          ],
          "scatterpolargl": [
           {
            "marker": {
             "colorbar": {
              "outlinewidth": 0,
              "ticks": ""
             }
            },
            "type": "scatterpolargl"
           }
          ],
          "scatterternary": [
           {
            "marker": {
             "colorbar": {
              "outlinewidth": 0,
              "ticks": ""
             }
            },
            "type": "scatterternary"
           }
          ],
          "surface": [
           {
            "colorbar": {
             "outlinewidth": 0,
             "ticks": ""
            },
            "colorscale": [
             [
              0,
              "#0d0887"
             ],
             [
              0.1111111111111111,
              "#46039f"
             ],
             [
              0.2222222222222222,
              "#7201a8"
             ],
             [
              0.3333333333333333,
              "#9c179e"
             ],
             [
              0.4444444444444444,
              "#bd3786"
             ],
             [
              0.5555555555555556,
              "#d8576b"
             ],
             [
              0.6666666666666666,
              "#ed7953"
             ],
             [
              0.7777777777777778,
              "#fb9f3a"
             ],
             [
              0.8888888888888888,
              "#fdca26"
             ],
             [
              1,
              "#f0f921"
             ]
            ],
            "type": "surface"
           }
          ],
          "table": [
           {
            "cells": {
             "fill": {
              "color": "#EBF0F8"
             },
             "line": {
              "color": "white"
             }
            },
            "header": {
             "fill": {
              "color": "#C8D4E3"
             },
             "line": {
              "color": "white"
             }
            },
            "type": "table"
           }
          ]
         },
         "layout": {
          "annotationdefaults": {
           "arrowcolor": "#2a3f5f",
           "arrowhead": 0,
           "arrowwidth": 1
          },
          "autotypenumbers": "strict",
          "coloraxis": {
           "colorbar": {
            "outlinewidth": 0,
            "ticks": ""
           }
          },
          "colorscale": {
           "diverging": [
            [
             0,
             "#8e0152"
            ],
            [
             0.1,
             "#c51b7d"
            ],
            [
             0.2,
             "#de77ae"
            ],
            [
             0.3,
             "#f1b6da"
            ],
            [
             0.4,
             "#fde0ef"
            ],
            [
             0.5,
             "#f7f7f7"
            ],
            [
             0.6,
             "#e6f5d0"
            ],
            [
             0.7,
             "#b8e186"
            ],
            [
             0.8,
             "#7fbc41"
            ],
            [
             0.9,
             "#4d9221"
            ],
            [
             1,
             "#276419"
            ]
           ],
           "sequential": [
            [
             0,
             "#0d0887"
            ],
            [
             0.1111111111111111,
             "#46039f"
            ],
            [
             0.2222222222222222,
             "#7201a8"
            ],
            [
             0.3333333333333333,
             "#9c179e"
            ],
            [
             0.4444444444444444,
             "#bd3786"
            ],
            [
             0.5555555555555556,
             "#d8576b"
            ],
            [
             0.6666666666666666,
             "#ed7953"
            ],
            [
             0.7777777777777778,
             "#fb9f3a"
            ],
            [
             0.8888888888888888,
             "#fdca26"
            ],
            [
             1,
             "#f0f921"
            ]
           ],
           "sequentialminus": [
            [
             0,
             "#0d0887"
            ],
            [
             0.1111111111111111,
             "#46039f"
            ],
            [
             0.2222222222222222,
             "#7201a8"
            ],
            [
             0.3333333333333333,
             "#9c179e"
            ],
            [
             0.4444444444444444,
             "#bd3786"
            ],
            [
             0.5555555555555556,
             "#d8576b"
            ],
            [
             0.6666666666666666,
             "#ed7953"
            ],
            [
             0.7777777777777778,
             "#fb9f3a"
            ],
            [
             0.8888888888888888,
             "#fdca26"
            ],
            [
             1,
             "#f0f921"
            ]
           ]
          },
          "colorway": [
           "#636efa",
           "#EF553B",
           "#00cc96",
           "#ab63fa",
           "#FFA15A",
           "#19d3f3",
           "#FF6692",
           "#B6E880",
           "#FF97FF",
           "#FECB52"
          ],
          "font": {
           "color": "#2a3f5f"
          },
          "geo": {
           "bgcolor": "white",
           "lakecolor": "white",
           "landcolor": "#E5ECF6",
           "showlakes": true,
           "showland": true,
           "subunitcolor": "white"
          },
          "hoverlabel": {
           "align": "left"
          },
          "hovermode": "closest",
          "mapbox": {
           "style": "light"
          },
          "paper_bgcolor": "white",
          "plot_bgcolor": "#E5ECF6",
          "polar": {
           "angularaxis": {
            "gridcolor": "white",
            "linecolor": "white",
            "ticks": ""
           },
           "bgcolor": "#E5ECF6",
           "radialaxis": {
            "gridcolor": "white",
            "linecolor": "white",
            "ticks": ""
           }
          },
          "scene": {
           "xaxis": {
            "backgroundcolor": "#E5ECF6",
            "gridcolor": "white",
            "gridwidth": 2,
            "linecolor": "white",
            "showbackground": true,
            "ticks": "",
            "zerolinecolor": "white"
           },
           "yaxis": {
            "backgroundcolor": "#E5ECF6",
            "gridcolor": "white",
            "gridwidth": 2,
            "linecolor": "white",
            "showbackground": true,
            "ticks": "",
            "zerolinecolor": "white"
           },
           "zaxis": {
            "backgroundcolor": "#E5ECF6",
            "gridcolor": "white",
            "gridwidth": 2,
            "linecolor": "white",
            "showbackground": true,
            "ticks": "",
            "zerolinecolor": "white"
           }
          },
          "shapedefaults": {
           "line": {
            "color": "#2a3f5f"
           }
          },
          "ternary": {
           "aaxis": {
            "gridcolor": "white",
            "linecolor": "white",
            "ticks": ""
           },
           "baxis": {
            "gridcolor": "white",
            "linecolor": "white",
            "ticks": ""
           },
           "bgcolor": "#E5ECF6",
           "caxis": {
            "gridcolor": "white",
            "linecolor": "white",
            "ticks": ""
           }
          },
          "title": {
           "x": 0.05
          },
          "xaxis": {
           "automargin": true,
           "gridcolor": "white",
           "linecolor": "white",
           "ticks": "",
           "title": {
            "standoff": 15
           },
           "zerolinecolor": "white",
           "zerolinewidth": 2
          },
          "yaxis": {
           "automargin": true,
           "gridcolor": "white",
           "linecolor": "white",
           "ticks": "",
           "title": {
            "standoff": 15
           },
           "zerolinecolor": "white",
           "zerolinewidth": 2
          }
         }
        },
        "title": {
         "text": "Interactive Calendar Heatmap of Daily Steps"
        },
        "xaxis": {
         "anchor": "y",
         "categoryarray": [
          "Monday",
          "Tuesday",
          "Wednesday",
          "Thursday",
          "Friday",
          "Saturday",
          "Sunday"
         ],
         "categoryorder": "array",
         "domain": [
          0,
          1
         ],
         "title": {
          "text": "Weekday"
         }
        },
        "yaxis": {
         "anchor": "x",
         "categoryarray": [
          "Jan",
          "Feb",
          "Mar",
          "Apr",
          "May",
          "Jun",
          "Jul",
          "Aug",
          "Sep",
          "Oct",
          "Nov",
          "Dec"
         ],
         "categoryorder": "array",
         "domain": [
          0,
          1
         ],
         "title": {
          "text": "Month"
         }
        }
       }
      }
     },
     "metadata": {},
     "output_type": "display_data"
    }
   ],
   "source": [
    "df[\"Month\"] = df[\"Date\"].dt.strftime(\"%b\")\n",
    "df[\"Weekday\"] = df[\"Date\"].dt.day_name()\n",
    "\n",
    "fig = px.density_heatmap(\n",
    "    df,\n",
    "    x=\"Weekday\",          # Days on x-axis\n",
    "    y=\"Month\",            # Months on y-axis\n",
    "    z=\"Steps\",            # Color intensity\n",
    "    histfunc=\"avg\",       # Average steps per day\n",
    "    color_continuous_scale=\"YlGnBu\",\n",
    "    title=\"Interactive Calendar Heatmap of Daily Steps\"\n",
    ")\n",
    "\n",
    "fig.update_layout(\n",
    "    xaxis={\"categoryorder\":\"array\", \"categoryarray\":[\"Monday\",\"Tuesday\",\"Wednesday\",\"Thursday\",\"Friday\",\"Saturday\",\"Sunday\"]},\n",
    "    yaxis={\"categoryorder\":\"array\", \"categoryarray\":[\"Jan\",\"Feb\",\"Mar\",\"Apr\",\"May\",\"Jun\",\"Jul\",\"Aug\",\"Sep\",\"Oct\",\"Nov\",\"Dec\"]}\n",
    ")\n",
    "\n",
    "fig.show()"
   ]
  },
  {
   "cell_type": "markdown",
   "id": "eca350c1",
   "metadata": {},
   "source": [
    "### Ques --> Comparing different parameters on same timeline?"
   ]
  },
  {
   "cell_type": "code",
   "execution_count": 59,
   "id": "ca79b6d8",
   "metadata": {},
   "outputs": [
    {
     "data": {
      "image/png": "[encoded data removed]",
      "text/plain": [
       "<Figure size 1400x600 with 1 Axes>"
      ]
     },
     "metadata": {},
     "output_type": "display_data"
    }
   ],
   "source": [
    "df[\"Steps_Roll\"] = df[\"Steps\"].rolling(window=7).mean()\n",
    "df[\"Calories_Roll\"] = df[\"Calories\"].rolling(window=7).mean()\n",
    "\n",
    "plt.figure(figsize=(14,6))\n",
    "plt.plot(df[\"Date\"], df[\"Steps_Roll\"], label=\"Steps (7-day avg)\", linewidth=2)\n",
    "plt.plot(df[\"Date\"], df[\"Calories_Roll\"], label=\"Calories (7-day avg)\", linewidth=2, color=\"orange\")\n",
    "\n",
    "plt.title(\"Rolling 7-Day Average of Steps & Calories\")\n",
    "plt.xlabel(\"Date\")\n",
    "plt.ylabel(\"Values\")\n",
    "plt.legend()\n",
    "plt.grid(alpha=0.3)\n",
    "plt.show()"
   ]
  },
  {
   "cell_type": "code",
   "execution_count": 60,
   "id": "77f5f6c3",
   "metadata": {},
   "outputs": [
    {
     "data": {
      "application/vnd.plotly.v1+json": {
       "config": {
        "plotlyServerURL": "https://plot.ly"
       },
       "data": [
        {
         "hovertemplate": "Metric=Steps_Roll<br>Date=%{x}<br>7-Day Rolling Average=%{y}<extra></extra>",
         "legendgroup": "Steps_Roll",
         "line": {
          "color": "#636efa",
          "dash": "solid"
         },
         "marker": {
          "symbol": "circle"
         },
         "mode": "lines",
         "name": "Steps_Roll",
         "orientation": "v",
         "showlegend": true,
         "type": "scatter",
         "x": [
          "2023-01-01T00:00:00.000000000",
          "2023-01-02T00:00:00.000000000",
          "2023-01-03T00:00:00.000000000",
          "2023-01-04T00:00:00.000000000",
          "2023-01-05T00:00:00.000000000",
          "2023-01-06T00:00:00.000000000",
          "2023-01-07T00:00:00.000000000",
          "2023-01-08T00:00:00.000000000",
          "2023-01-09T00:00:00.000000000",
          "2023-01-10T00:00:00.000000000",
          "2023-01-11T00:00:00.000000000",
          "2023-01-12T00:00:00.000000000",
          "2023-01-13T00:00:00.000000000",
          "2023-01-14T00:00:00.000000000",
          "2023-01-15T00:00:00.000000000",
          "2023-01-16T00:00:00.000000000",
          "2023-01-17T00:00:00.000000000",
          "2023-01-18T00:00:00.000000000",
          "2023-01-19T00:00:00.000000000",
          "2023-01-20T00:00:00.000000000",
          "2023-01-21T00:00:00.000000000",
          "2023-01-22T00:00:00.000000000",
          "2023-01-23T00:00:00.000000000",
          "2023-01-24T00:00:00.000000000",
          "2023-01-25T00:00:00.000000000",
          "2023-01-26T00:00:00.000000000",
          "2023-01-27T00:00:00.000000000",
          "2023-01-28T00:00:00.000000000",
          "2023-01-29T00:00:00.000000000",
          "2023-01-30T00:00:00.000000000",
          "2023-01-31T00:00:00.000000000",
          "2023-02-01T00:00:00.000000000",
          "2023-02-02T00:00:00.000000000",
          "2023-02-03T00:00:00.000000000",
          "2023-02-04T00:00:00.000000000",
          "2023-02-05T00:00:00.000000000",
          "2023-02-06T00:00:00.000000000",
          "2023-02-07T00:00:00.000000000",
          "2023-02-08T00:00:00.000000000",
          "2023-02-09T00:00:00.000000000",
          "2023-02-10T00:00:00.000000000",
          "2023-02-11T00:00:00.000000000",
          "2023-02-12T00:00:00.000000000",
          "2023-02-13T00:00:00.000000000",
          "2023-02-14T00:00:00.000000000",
          "2023-02-15T00:00:00.000000000",
          "2023-02-16T00:00:00.000000000",
          "2023-02-17T00:00:00.000000000",
          "2023-02-18T00:00:00.000000000",
          "2023-02-19T00:00:00.000000000",
          "2023-02-20T00:00:00.000000000",
          "2023-02-21T00:00:00.000000000",
          "2023-02-22T00:00:00.000000000",
          "2023-02-23T00:00:00.000000000",
          "2023-02-24T00:00:00.000000000",
          "2023-02-25T00:00:00.000000000",
          "2023-02-26T00:00:00.000000000",
          "2023-02-27T00:00:00.000000000",
          "2023-02-28T00:00:00.000000000",
          "2023-03-01T00:00:00.000000000",
          "2023-03-02T00:00:00.000000000",
          "2023-03-03T00:00:00.000000000",
          "2023-03-04T00:00:00.000000000",
          "2023-03-05T00:00:00.000000000",
          "2023-03-06T00:00:00.000000000",
          "2023-03-07T00:00:00.000000000",
          "2023-03-08T00:00:00.000000000",
          "2023-03-09T00:00:00.000000000",
          "2023-03-10T00:00:00.000000000",
          "2023-03-11T00:00:00.000000000",
          "2023-03-12T00:00:00.000000000",
          "2023-03-13T00:00:00.000000000",
          "2023-03-14T00:00:00.000000000",
          "2023-03-15T00:00:00.000000000",
          "2023-03-16T00:00:00.000000000",
          "2023-03-17T00:00:00.000000000",
          "2023-03-18T00:00:00.000000000",
          "2023-03-19T00:00:00.000000000",
          "2023-03-20T00:00:00.000000000",
          "2023-03-21T00:00:00.000000000",
          "2023-03-22T00:00:00.000000000",
          "2023-03-23T00:00:00.000000000",
          "2023-03-24T00:00:00.000000000",
          "2023-03-25T00:00:00.000000000",
          "2023-03-26T00:00:00.000000000",
          "2023-03-27T00:00:00.000000000",
          "2023-03-28T00:00:00.000000000",
          "2023-03-29T00:00:00.000000000",
          "2023-03-30T00:00:00.000000000",
          "2023-03-31T00:00:00.000000000",
          "2023-04-01T00:00:00.000000000",
          "2023-04-02T00:00:00.000000000",
          "2023-04-03T00:00:00.000000000",
          "2023-04-04T00:00:00.000000000",
          "2023-04-05T00:00:00.000000000",
          "2023-04-06T00:00:00.000000000",
          "2023-04-07T00:00:00.000000000",
          "2023-04-08T00:00:00.000000000",
          "2023-04-09T00:00:00.000000000",
          "2023-04-10T00:00:00.000000000",
          "2023-04-11T00:00:00.000000000",
          "2023-04-12T00:00:00.000000000",
          "2023-04-13T00:00:00.000000000",
          "2023-04-14T00:00:00.000000000",
          "2023-04-15T00:00:00.000000000",
          "2023-04-16T00:00:00.000000000",
          "2023-04-17T00:00:00.000000000",
          "2023-04-18T00:00:00.000000000",
          "2023-04-19T00:00:00.000000000",
          "2023-04-20T00:00:00.000000000",
          "2023-04-21T00:00:00.000000000",
          "2023-04-22T00:00:00.000000000",
          "2023-04-23T00:00:00.000000000",
          "2023-04-24T00:00:00.000000000",
          "2023-04-25T00:00:00.000000000",
          "2023-04-26T00:00:00.000000000",
          "2023-04-27T00:00:00.000000000",
          "2023-04-28T00:00:00.000000000",
          "2023-04-29T00:00:00.000000000",
          "2023-04-30T00:00:00.000000000",
          "2023-05-01T00:00:00.000000000",
          "2023-05-02T00:00:00.000000000",
          "2023-05-03T00:00:00.000000000",
          "2023-05-04T00:00:00.000000000",
          "2023-05-05T00:00:00.000000000",
          "2023-05-06T00:00:00.000000000",
          "2023-05-07T00:00:00.000000000",
          "2023-05-08T00:00:00.000000000",
          "2023-05-09T00:00:00.000000000",
          "2023-05-10T00:00:00.000000000",
          "2023-05-11T00:00:00.000000000",
          "2023-05-12T00:00:00.000000000",
          "2023-05-13T00:00:00.000000000",
          "2023-05-14T00:00:00.000000000",
          "2023-05-15T00:00:00.000000000",
          "2023-05-16T00:00:00.000000000",
          "2023-05-17T00:00:00.000000000",
          "2023-05-18T00:00:00.000000000",
          "2023-05-19T00:00:00.000000000",
          "2023-05-20T00:00:00.000000000",
          "2023-05-21T00:00:00.000000000",
          "2023-05-22T00:00:00.000000000",
          "2023-05-23T00:00:00.000000000",
          "2023-05-24T00:00:00.000000000",
          "2023-05-25T00:00:00.000000000",
          "2023-05-26T00:00:00.000000000",
          "2023-05-27T00:00:00.000000000",
          "2023-05-28T00:00:00.000000000",
          "2023-05-29T00:00:00.000000000",
          "2023-05-30T00:00:00.000000000",
          "2023-05-31T00:00:00.000000000",
          "2023-06-01T00:00:00.000000000",
          "2023-06-02T00:00:00.000000000",
          "2023-06-03T00:00:00.000000000",
          "2023-06-04T00:00:00.000000000",
          "2023-06-05T00:00:00.000000000",
          "2023-06-06T00:00:00.000000000",
          "2023-06-07T00:00:00.000000000",
          "2023-06-08T00:00:00.000000000",
          "2023-06-09T00:00:00.000000000",
          "2023-06-10T00:00:00.000000000",
          "2023-06-11T00:00:00.000000000",
          "2023-06-12T00:00:00.000000000",
          "2023-06-13T00:00:00.000000000",
          "2023-06-14T00:00:00.000000000",
          "2023-06-15T00:00:00.000000000",
          "2023-06-16T00:00:00.000000000",
          "2023-06-17T00:00:00.000000000",
          "2023-06-18T00:00:00.000000000",
          "2023-06-19T00:00:00.000000000",
          "2023-06-20T00:00:00.000000000",
          "2023-06-21T00:00:00.000000000",
          "2023-06-22T00:00:00.000000000",
          "2023-06-23T00:00:00.000000000",
          "2023-06-24T00:00:00.000000000",
          "2023-06-25T00:00:00.000000000",
          "2023-06-26T00:00:00.000000000",
          "2023-06-27T00:00:00.000000000",
          "2023-06-28T00:00:00.000000000",
          "2023-06-29T00:00:00.000000000",
          "2023-06-30T00:00:00.000000000",
          "2023-07-01T00:00:00.000000000",
          "2023-07-02T00:00:00.000000000",
          "2023-07-03T00:00:00.000000000",
          "2023-07-04T00:00:00.000000000",
          "2023-07-05T00:00:00.000000000",
          "2023-07-06T00:00:00.000000000",
          "2023-07-07T00:00:00.000000000",
          "2023-07-08T00:00:00.000000000",
          "2023-07-09T00:00:00.000000000",
          "2023-07-10T00:00:00.000000000",
          "2023-07-11T00:00:00.000000000",
          "2023-07-12T00:00:00.000000000",
          "2023-07-13T00:00:00.000000000",
          "2023-07-14T00:00:00.000000000",
          "2023-07-15T00:00:00.000000000",
          "2023-07-16T00:00:00.000000000",
          "2023-07-17T00:00:00.000000000",
          "2023-07-18T00:00:00.000000000",
          "2023-07-19T00:00:00.000000000",
          "2023-07-20T00:00:00.000000000",
          "2023-07-21T00:00:00.000000000",
          "2023-07-22T00:00:00.000000000",
          "2023-07-23T00:00:00.000000000",
          "2023-07-24T00:00:00.000000000",
          "2023-07-25T00:00:00.000000000",
          "2023-07-26T00:00:00.000000000",
          "2023-07-27T00:00:00.000000000",
          "2023-07-28T00:00:00.000000000",
          "2023-07-29T00:00:00.000000000",
          "2023-07-30T00:00:00.000000000",
          "2023-07-31T00:00:00.000000000",
          "2023-08-01T00:00:00.000000000",
          "2023-08-02T00:00:00.000000000",
          "2023-08-03T00:00:00.000000000",
          "2023-08-04T00:00:00.000000000",
          "2023-08-05T00:00:00.000000000",
          "2023-08-06T00:00:00.000000000",
          "2023-08-07T00:00:00.000000000",
          "2023-08-08T00:00:00.000000000",
          "2023-08-09T00:00:00.000000000",
          "2023-08-10T00:00:00.000000000",
          "2023-08-11T00:00:00.000000000",
          "2023-08-12T00:00:00.000000000",
          "2023-08-13T00:00:00.000000000",
          "2023-08-14T00:00:00.000000000",
          "2023-08-15T00:00:00.000000000",
          "2023-08-16T00:00:00.000000000",
          "2023-08-17T00:00:00.000000000",
          "2023-08-18T00:00:00.000000000",
          "2023-08-19T00:00:00.000000000",
          "2023-08-20T00:00:00.000000000",
          "2023-08-21T00:00:00.000000000",
          "2023-08-22T00:00:00.000000000",
          "2023-08-23T00:00:00.000000000",
          "2023-08-24T00:00:00.000000000",
          "2023-08-25T00:00:00.000000000",
          "2023-08-26T00:00:00.000000000",
          "2023-08-27T00:00:00.000000000",
          "2023-08-28T00:00:00.000000000",
          "2023-08-29T00:00:00.000000000",
          "2023-08-30T00:00:00.000000000",
          "2023-08-31T00:00:00.000000000",
          "2023-09-01T00:00:00.000000000",
          "2023-09-02T00:00:00.000000000",
          "2023-09-03T00:00:00.000000000",
          "2023-09-04T00:00:00.000000000",
          "2023-09-05T00:00:00.000000000",
          "2023-09-06T00:00:00.000000000",
          "2023-09-07T00:00:00.000000000",
          "2023-09-08T00:00:00.000000000",
          "2023-09-09T00:00:00.000000000",
          "2023-09-10T00:00:00.000000000",
          "2023-09-11T00:00:00.000000000",
          "2023-09-12T00:00:00.000000000",
          "2023-09-13T00:00:00.000000000",
          "2023-09-14T00:00:00.000000000",
          "2023-09-15T00:00:00.000000000",
          "2023-09-16T00:00:00.000000000",
          "2023-09-17T00:00:00.000000000",
          "2023-09-18T00:00:00.000000000",
          "2023-09-19T00:00:00.000000000",
          "2023-09-20T00:00:00.000000000",
          "2023-09-21T00:00:00.000000000",
          "2023-09-22T00:00:00.000000000",
          "2023-09-23T00:00:00.000000000",
          "2023-09-24T00:00:00.000000000",
          "2023-09-25T00:00:00.000000000",
          "2023-09-26T00:00:00.000000000",
          "2023-09-27T00:00:00.000000000",
          "2023-09-28T00:00:00.000000000",
          "2023-09-29T00:00:00.000000000",
          "2023-09-30T00:00:00.000000000",
          "2023-10-01T00:00:00.000000000",
          "2023-10-02T00:00:00.000000000",
          "2023-10-03T00:00:00.000000000",
          "2023-10-04T00:00:00.000000000",
          "2023-10-05T00:00:00.000000000",
          "2023-10-06T00:00:00.000000000",
          "2023-10-07T00:00:00.000000000",
          "2023-10-08T00:00:00.000000000",
          "2023-10-09T00:00:00.000000000",
          "2023-10-10T00:00:00.000000000",
          "2023-10-11T00:00:00.000000000",
          "2023-10-12T00:00:00.000000000",
          "2023-10-13T00:00:00.000000000",
          "2023-10-14T00:00:00.000000000",
          "2023-10-15T00:00:00.000000000",
          "2023-10-16T00:00:00.000000000",
          "2023-10-17T00:00:00.000000000",
          "2023-10-18T00:00:00.000000000",
          "2023-10-19T00:00:00.000000000",
          "2023-10-20T00:00:00.000000000",
          "2023-10-21T00:00:00.000000000",
          "2023-10-22T00:00:00.000000000",
          "2023-10-23T00:00:00.000000000",
          "2023-10-24T00:00:00.000000000",
          "2023-10-25T00:00:00.000000000",
          "2023-10-26T00:00:00.000000000",
          "2023-10-27T00:00:00.000000000",
          "2023-10-28T00:00:00.000000000",
          "2023-10-29T00:00:00.000000000",
          "2023-10-30T00:00:00.000000000",
          "2023-10-31T00:00:00.000000000",
          "2023-11-01T00:00:00.000000000",
          "2023-11-02T00:00:00.000000000",
          "2023-11-03T00:00:00.000000000",
          "2023-11-04T00:00:00.000000000",
          "2023-11-05T00:00:00.000000000",
          "2023-11-06T00:00:00.000000000",
          "2023-11-07T00:00:00.000000000",
          "2023-11-08T00:00:00.000000000",
          "2023-11-09T00:00:00.000000000",
          "2023-11-10T00:00:00.000000000",
          "2023-11-11T00:00:00.000000000",
          "2023-11-12T00:00:00.000000000",
          "2023-11-13T00:00:00.000000000",
          "2023-11-14T00:00:00.000000000",
          "2023-11-15T00:00:00.000000000",
          "2023-11-16T00:00:00.000000000",
          "2023-11-17T00:00:00.000000000",
          "2023-11-18T00:00:00.000000000",
          "2023-11-19T00:00:00.000000000",
          "2023-11-20T00:00:00.000000000",
          "2023-11-21T00:00:00.000000000",
          "2023-11-22T00:00:00.000000000",
          "2023-11-23T00:00:00.000000000",
          "2023-11-24T00:00:00.000000000",
          "2023-11-25T00:00:00.000000000",
          "2023-11-26T00:00:00.000000000",
          "2023-11-27T00:00:00.000000000",
          "2023-11-28T00:00:00.000000000",
          "2023-11-29T00:00:00.000000000",
          "2023-11-30T00:00:00.000000000",
          "2023-12-01T00:00:00.000000000",
          "2023-12-02T00:00:00.000000000",
          "2023-12-03T00:00:00.000000000",
          "2023-12-04T00:00:00.000000000",
          "2023-12-05T00:00:00.000000000",
          "2023-12-06T00:00:00.000000000",
          "2023-12-07T00:00:00.000000000",
          "2023-12-08T00:00:00.000000000",
          "2023-12-09T00:00:00.000000000",
          "2023-12-10T00:00:00.000000000",
          "2023-12-11T00:00:00.000000000",
          "2023-12-12T00:00:00.000000000",
          "2023-12-13T00:00:00.000000000",
          "2023-12-14T00:00:00.000000000",
          "2023-12-15T00:00:00.000000000",
          "2023-12-16T00:00:00.000000000",
          "2023-12-17T00:00:00.000000000",
          "2023-12-18T00:00:00.000000000",
          "2023-12-19T00:00:00.000000000",
          "2023-12-20T00:00:00.000000000",
          "2023-12-21T00:00:00.000000000",
          "2023-12-22T00:00:00.000000000",
          "2023-12-23T00:00:00.000000000",
          "2023-12-24T00:00:00.000000000",
          "2023-12-25T00:00:00.000000000",
          "2023-12-26T00:00:00.000000000",
          "2023-12-27T00:00:00.000000000",
          "2023-12-28T00:00:00.000000000",
          "2023-12-29T00:00:00.000000000",
          "2023-12-30T00:00:00.000000000",
          "2023-12-31T00:00:00.000000000",
          "2024-01-01T00:00:00.000000000",
          "2024-01-02T00:00:00.000000000",
          "2024-01-03T00:00:00.000000000",
          "2024-01-04T00:00:00.000000000",
          "2024-01-05T00:00:00.000000000",
          "2024-01-06T00:00:00.000000000",
          "2024-01-07T00:00:00.000000000",
          "2024-01-08T00:00:00.000000000",
          "2024-01-09T00:00:00.000000000",
          "2024-01-10T00:00:00.000000000",
          "2024-01-11T00:00:00.000000000",
          "2024-01-12T00:00:00.000000000",
          "2024-01-13T00:00:00.000000000",
          "2024-01-14T00:00:00.000000000",
          "2024-01-15T00:00:00.000000000",
          "2024-01-16T00:00:00.000000000",
          "2024-01-17T00:00:00.000000000",
          "2024-01-18T00:00:00.000000000",
          "2024-01-19T00:00:00.000000000",
          "2024-01-20T00:00:00.000000000",
          "2024-01-21T00:00:00.000000000",
          "2024-01-22T00:00:00.000000000",
          "2024-01-23T00:00:00.000000000",
          "2024-01-24T00:00:00.000000000",
          "2024-01-25T00:00:00.000000000",
          "2024-01-26T00:00:00.000000000",
          "2024-01-27T00:00:00.000000000",
          "2024-01-28T00:00:00.000000000",
          "2024-01-29T00:00:00.000000000",
          "2024-01-30T00:00:00.000000000",
          "2024-01-31T00:00:00.000000000",
          "2024-02-01T00:00:00.000000000",
          "2024-02-02T00:00:00.000000000",
          "2024-02-03T00:00:00.000000000",
          "2024-02-04T00:00:00.000000000",
          "2024-02-05T00:00:00.000000000",
          "2024-02-06T00:00:00.000000000",
          "2024-02-07T00:00:00.000000000",
          "2024-02-08T00:00:00.000000000",
          "2024-02-09T00:00:00.000000000",
          "2024-02-10T00:00:00.000000000",
          "2024-02-11T00:00:00.000000000",
          "2024-02-12T00:00:00.000000000",
          "2024-02-13T00:00:00.000000000",
          "2024-02-14T00:00:00.000000000",
          "2024-02-15T00:00:00.000000000",
          "2024-02-16T00:00:00.000000000",
          "2024-02-17T00:00:00.000000000",
          "2024-02-18T00:00:00.000000000",
          "2024-02-19T00:00:00.000000000",
          "2024-02-20T00:00:00.000000000",
          "2024-02-21T00:00:00.000000000",
          "2024-02-22T00:00:00.000000000",
          "2024-02-23T00:00:00.000000000",
          "2024-02-24T00:00:00.000000000",
          "2024-02-25T00:00:00.000000000",
          "2024-02-26T00:00:00.000000000",
          "2024-02-27T00:00:00.000000000",
          "2024-02-28T00:00:00.000000000",
          "2024-02-29T00:00:00.000000000",
          "2024-03-01T00:00:00.000000000",
          "2024-03-02T00:00:00.000000000",
          "2024-03-03T00:00:00.000000000",
          "2024-03-04T00:00:00.000000000",
          "2024-03-05T00:00:00.000000000",
          "2024-03-06T00:00:00.000000000",
          "2024-03-07T00:00:00.000000000",
          "2024-03-08T00:00:00.000000000",
          "2024-03-09T00:00:00.000000000",
          "2024-03-10T00:00:00.000000000",
          "2024-03-11T00:00:00.000000000",
          "2024-03-12T00:00:00.000000000",
          "2024-03-13T00:00:00.000000000",
          "2024-03-14T00:00:00.000000000",
          "2024-03-15T00:00:00.000000000",
          "2024-03-16T00:00:00.000000000",
          "2024-03-17T00:00:00.000000000",
          "2024-03-18T00:00:00.000000000",
          "2024-03-19T00:00:00.000000000",
          "2024-03-20T00:00:00.000000000",
          "2024-03-21T00:00:00.000000000",
          "2024-03-22T00:00:00.000000000",
          "2024-03-23T00:00:00.000000000",
          "2024-03-24T00:00:00.000000000",
          "2024-03-25T00:00:00.000000000",
          "2024-03-26T00:00:00.000000000",
          "2024-03-27T00:00:00.000000000",
          "2024-03-28T00:00:00.000000000",
          "2024-03-29T00:00:00.000000000",
          "2024-03-30T00:00:00.000000000",
          "2024-03-31T00:00:00.000000000",
          "2024-04-01T00:00:00.000000000",
          "2024-04-02T00:00:00.000000000",
          "2024-04-03T00:00:00.000000000",
          "2024-04-04T00:00:00.000000000",
          "2024-04-05T00:00:00.000000000",
          "2024-04-06T00:00:00.000000000",
          "2024-04-07T00:00:00.000000000",
          "2024-04-08T00:00:00.000000000",
          "2024-04-09T00:00:00.000000000",
          "2024-04-10T00:00:00.000000000",
          "2024-04-11T00:00:00.000000000",
          "2024-04-12T00:00:00.000000000",
          "2024-04-13T00:00:00.000000000",
          "2024-04-14T00:00:00.000000000",
          "2024-04-15T00:00:00.000000000",
          "2024-04-16T00:00:00.000000000",
          "2024-04-17T00:00:00.000000000",
          "2024-04-18T00:00:00.000000000",
          "2024-04-19T00:00:00.000000000",
          "2024-04-20T00:00:00.000000000",
          "2024-04-21T00:00:00.000000000",
          "2024-04-22T00:00:00.000000000",
          "2024-04-23T00:00:00.000000000",
          "2024-04-24T00:00:00.000000000",
          "2024-04-25T00:00:00.000000000",
          "2024-04-26T00:00:00.000000000",
          "2024-04-27T00:00:00.000000000",
          "2024-04-28T00:00:00.000000000",
          "2024-04-29T00:00:00.000000000",
          "2024-04-30T00:00:00.000000000",
          "2024-05-01T00:00:00.000000000",
          "2024-05-02T00:00:00.000000000",
          "2024-05-03T00:00:00.000000000",
          "2024-05-04T00:00:00.000000000",
          "2024-05-05T00:00:00.000000000",
          "2024-05-06T00:00:00.000000000",
          "2024-05-07T00:00:00.000000000",
          "2024-05-08T00:00:00.000000000",
          "2024-05-09T00:00:00.000000000",
          "2024-05-10T00:00:00.000000000",
          "2024-05-11T00:00:00.000000000",
          "2024-05-12T00:00:00.000000000",
          "2024-05-13T00:00:00.000000000",
          "2024-05-14T00:00:00.000000000"
         ],
         "xaxis": "x",
         "y": {
          "bdata": "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",
          "dtype": "f8"
         },
         "yaxis": "y"
        },
        {
         "hovertemplate": "Metric=Calories_Roll<br>Date=%{x}<br>7-Day Rolling Average=%{y}<extra></extra>",
         "legendgroup": "Calories_Roll",
         "line": {
          "color": "#EF553B",
          "dash": "solid"
         },
         "marker": {
          "symbol": "circle"
         },
         "mode": "lines",
         "name": "Calories_Roll",
         "orientation": "v",
         "showlegend": true,
         "type": "scatter",
         "x": [
          "2023-01-01T00:00:00.000000000",
          "2023-01-02T00:00:00.000000000",
          "2023-01-03T00:00:00.000000000",
          "2023-01-04T00:00:00.000000000",
          "2023-01-05T00:00:00.000000000",
          "2023-01-06T00:00:00.000000000",
          "2023-01-07T00:00:00.000000000",
          "2023-01-08T00:00:00.000000000",
          "2023-01-09T00:00:00.000000000",
          "2023-01-10T00:00:00.000000000",
          "2023-01-11T00:00:00.000000000",
          "2023-01-12T00:00:00.000000000",
          "2023-01-13T00:00:00.000000000",
          "2023-01-14T00:00:00.000000000",
          "2023-01-15T00:00:00.000000000",
          "2023-01-16T00:00:00.000000000",
          "2023-01-17T00:00:00.000000000",
          "2023-01-18T00:00:00.000000000",
          "2023-01-19T00:00:00.000000000",
          "2023-01-20T00:00:00.000000000",
          "2023-01-21T00:00:00.000000000",
          "2023-01-22T00:00:00.000000000",
          "2023-01-23T00:00:00.000000000",
          "2023-01-24T00:00:00.000000000",
          "2023-01-25T00:00:00.000000000",
          "2023-01-26T00:00:00.000000000",
          "2023-01-27T00:00:00.000000000",
          "2023-01-28T00:00:00.000000000",
          "2023-01-29T00:00:00.000000000",
          "2023-01-30T00:00:00.000000000",
          "2023-01-31T00:00:00.000000000",
          "2023-02-01T00:00:00.000000000",
          "2023-02-02T00:00:00.000000000",
          "2023-02-03T00:00:00.000000000",
          "2023-02-04T00:00:00.000000000",
          "2023-02-05T00:00:00.000000000",
          "2023-02-06T00:00:00.000000000",
          "2023-02-07T00:00:00.000000000",
          "2023-02-08T00:00:00.000000000",
          "2023-02-09T00:00:00.000000000",
          "2023-02-10T00:00:00.000000000",
          "2023-02-11T00:00:00.000000000",
          "2023-02-12T00:00:00.000000000",
          "2023-02-13T00:00:00.000000000",
          "2023-02-14T00:00:00.000000000",
          "2023-02-15T00:00:00.000000000",
          "2023-02-16T00:00:00.000000000",
          "2023-02-17T00:00:00.000000000",
          "2023-02-18T00:00:00.000000000",
          "2023-02-19T00:00:00.000000000",
          "2023-02-20T00:00:00.000000000",
          "2023-02-21T00:00:00.000000000",
          "2023-02-22T00:00:00.000000000",
          "2023-02-23T00:00:00.000000000",
          "2023-02-24T00:00:00.000000000",
          "2023-02-25T00:00:00.000000000",
          "2023-02-26T00:00:00.000000000",
          "2023-02-27T00:00:00.000000000",
          "2023-02-28T00:00:00.000000000",
          "2023-03-01T00:00:00.000000000",
          "2023-03-02T00:00:00.000000000",
          "2023-03-03T00:00:00.000000000",
          "2023-03-04T00:00:00.000000000",
          "2023-03-05T00:00:00.000000000",
          "2023-03-06T00:00:00.000000000",
          "2023-03-07T00:00:00.000000000",
          "2023-03-08T00:00:00.000000000",
          "2023-03-09T00:00:00.000000000",
          "2023-03-10T00:00:00.000000000",
          "2023-03-11T00:00:00.000000000",
          "2023-03-12T00:00:00.000000000",
          "2023-03-13T00:00:00.000000000",
          "2023-03-14T00:00:00.000000000",
          "2023-03-15T00:00:00.000000000",
          "2023-03-16T00:00:00.000000000",
          "2023-03-17T00:00:00.000000000",
          "2023-03-18T00:00:00.000000000",
          "2023-03-19T00:00:00.000000000",
          "2023-03-20T00:00:00.000000000",
          "2023-03-21T00:00:00.000000000",
          "2023-03-22T00:00:00.000000000",
          "2023-03-23T00:00:00.000000000",
          "2023-03-24T00:00:00.000000000",
          "2023-03-25T00:00:00.000000000",
          "2023-03-26T00:00:00.000000000",
          "2023-03-27T00:00:00.000000000",
          "2023-03-28T00:00:00.000000000",
          "2023-03-29T00:00:00.000000000",
          "2023-03-30T00:00:00.000000000",
          "2023-03-31T00:00:00.000000000",
          "2023-04-01T00:00:00.000000000",
          "2023-04-02T00:00:00.000000000",
          "2023-04-03T00:00:00.000000000",
          "2023-04-04T00:00:00.000000000",
          "2023-04-05T00:00:00.000000000",
          "2023-04-06T00:00:00.000000000",
          "2023-04-07T00:00:00.000000000",
          "2023-04-08T00:00:00.000000000",
          "2023-04-09T00:00:00.000000000",
          "2023-04-10T00:00:00.000000000",
          "2023-04-11T00:00:00.000000000",
          "2023-04-12T00:00:00.000000000",
          "2023-04-13T00:00:00.000000000",
          "2023-04-14T00:00:00.000000000",
          "2023-04-15T00:00:00.000000000",
          "2023-04-16T00:00:00.000000000",
          "2023-04-17T00:00:00.000000000",
          "2023-04-18T00:00:00.000000000",
          "2023-04-19T00:00:00.000000000",
          "2023-04-20T00:00:00.000000000",
          "2023-04-21T00:00:00.000000000",
          "2023-04-22T00:00:00.000000000",
          "2023-04-23T00:00:00.000000000",
          "2023-04-24T00:00:00.000000000",
          "2023-04-25T00:00:00.000000000",
          "2023-04-26T00:00:00.000000000",
          "2023-04-27T00:00:00.000000000",
          "2023-04-28T00:00:00.000000000",
          "2023-04-29T00:00:00.000000000",
          "2023-04-30T00:00:00.000000000",
          "2023-05-01T00:00:00.000000000",
          "2023-05-02T00:00:00.000000000",
          "2023-05-03T00:00:00.000000000",
          "2023-05-04T00:00:00.000000000",
          "2023-05-05T00:00:00.000000000",
          "2023-05-06T00:00:00.000000000",
          "2023-05-07T00:00:00.000000000",
          "2023-05-08T00:00:00.000000000",
          "2023-05-09T00:00:00.000000000",
          "2023-05-10T00:00:00.000000000",
          "2023-05-11T00:00:00.000000000",
          "2023-05-12T00:00:00.000000000",
          "2023-05-13T00:00:00.000000000",
          "2023-05-14T00:00:00.000000000",
          "2023-05-15T00:00:00.000000000",
          "2023-05-16T00:00:00.000000000",
          "2023-05-17T00:00:00.000000000",
          "2023-05-18T00:00:00.000000000",
          "2023-05-19T00:00:00.000000000",
          "2023-05-20T00:00:00.000000000",
          "2023-05-21T00:00:00.000000000",
          "2023-05-22T00:00:00.000000000",
          "2023-05-23T00:00:00.000000000",
          "2023-05-24T00:00:00.000000000",
          "2023-05-25T00:00:00.000000000",
          "2023-05-26T00:00:00.000000000",
          "2023-05-27T00:00:00.000000000",
          "2023-05-28T00:00:00.000000000",
          "2023-05-29T00:00:00.000000000",
          "2023-05-30T00:00:00.000000000",
          "2023-05-31T00:00:00.000000000",
          "2023-06-01T00:00:00.000000000",
          "2023-06-02T00:00:00.000000000",
          "2023-06-03T00:00:00.000000000",
          "2023-06-04T00:00:00.000000000",
          "2023-06-05T00:00:00.000000000",
          "2023-06-06T00:00:00.000000000",
          "2023-06-07T00:00:00.000000000",
          "2023-06-08T00:00:00.000000000",
          "2023-06-09T00:00:00.000000000",
          "2023-06-10T00:00:00.000000000",
          "2023-06-11T00:00:00.000000000",
          "2023-06-12T00:00:00.000000000",
          "2023-06-13T00:00:00.000000000",
          "2023-06-14T00:00:00.000000000",
          "2023-06-15T00:00:00.000000000",
          "2023-06-16T00:00:00.000000000",
          "2023-06-17T00:00:00.000000000",
          "2023-06-18T00:00:00.000000000",
          "2023-06-19T00:00:00.000000000",
          "2023-06-20T00:00:00.000000000",
          "2023-06-21T00:00:00.000000000",
          "2023-06-22T00:00:00.000000000",
          "2023-06-23T00:00:00.000000000",
          "2023-06-24T00:00:00.000000000",
          "2023-06-25T00:00:00.000000000",
          "2023-06-26T00:00:00.000000000",
          "2023-06-27T00:00:00.000000000",
          "2023-06-28T00:00:00.000000000",
          "2023-06-29T00:00:00.000000000",
          "2023-06-30T00:00:00.000000000",
          "2023-07-01T00:00:00.000000000",
          "2023-07-02T00:00:00.000000000",
          "2023-07-03T00:00:00.000000000",
          "2023-07-04T00:00:00.000000000",
          "2023-07-05T00:00:00.000000000",
          "2023-07-06T00:00:00.000000000",
          "2023-07-07T00:00:00.000000000",
          "2023-07-08T00:00:00.000000000",
          "2023-07-09T00:00:00.000000000",
          "2023-07-10T00:00:00.000000000",
          "2023-07-11T00:00:00.000000000",
          "2023-07-12T00:00:00.000000000",
          "2023-07-13T00:00:00.000000000",
          "2023-07-14T00:00:00.000000000",
          "2023-07-15T00:00:00.000000000",
          "2023-07-16T00:00:00.000000000",
          "2023-07-17T00:00:00.000000000",
          "2023-07-18T00:00:00.000000000",
          "2023-07-19T00:00:00.000000000",
          "2023-07-20T00:00:00.000000000",
          "2023-07-21T00:00:00.000000000",
          "2023-07-22T00:00:00.000000000",
          "2023-07-23T00:00:00.000000000",
          "2023-07-24T00:00:00.000000000",
          "2023-07-25T00:00:00.000000000",
          "2023-07-26T00:00:00.000000000",
          "2023-07-27T00:00:00.000000000",
          "2023-07-28T00:00:00.000000000",
          "2023-07-29T00:00:00.000000000",
          "2023-07-30T00:00:00.000000000",
          "2023-07-31T00:00:00.000000000",
          "2023-08-01T00:00:00.000000000",
          "2023-08-02T00:00:00.000000000",
          "2023-08-03T00:00:00.000000000",
          "2023-08-04T00:00:00.000000000",
          "2023-08-05T00:00:00.000000000",
          "2023-08-06T00:00:00.000000000",
          "2023-08-07T00:00:00.000000000",
          "2023-08-08T00:00:00.000000000",
          "2023-08-09T00:00:00.000000000",
          "2023-08-10T00:00:00.000000000",
          "2023-08-11T00:00:00.000000000",
          "2023-08-12T00:00:00.000000000",
          "2023-08-13T00:00:00.000000000",
          "2023-08-14T00:00:00.000000000",
          "2023-08-15T00:00:00.000000000",
          "2023-08-16T00:00:00.000000000",
          "2023-08-17T00:00:00.000000000",
          "2023-08-18T00:00:00.000000000",
          "2023-08-19T00:00:00.000000000",
          "2023-08-20T00:00:00.000000000",
          "2023-08-21T00:00:00.000000000",
          "2023-08-22T00:00:00.000000000",
          "2023-08-23T00:00:00.000000000",
          "2023-08-24T00:00:00.000000000",
          "2023-08-25T00:00:00.000000000",
          "2023-08-26T00:00:00.000000000",
          "2023-08-27T00:00:00.000000000",
          "2023-08-28T00:00:00.000000000",
          "2023-08-29T00:00:00.000000000",
          "2023-08-30T00:00:00.000000000",
          "2023-08-31T00:00:00.000000000",
          "2023-09-01T00:00:00.000000000",
          "2023-09-02T00:00:00.000000000",
          "2023-09-03T00:00:00.000000000",
          "2023-09-04T00:00:00.000000000",
          "2023-09-05T00:00:00.000000000",
          "2023-09-06T00:00:00.000000000",
          "2023-09-07T00:00:00.000000000",
          "2023-09-08T00:00:00.000000000",
          "2023-09-09T00:00:00.000000000",
          "2023-09-10T00:00:00.000000000",
          "2023-09-11T00:00:00.000000000",
          "2023-09-12T00:00:00.000000000",
          "2023-09-13T00:00:00.000000000",
          "2023-09-14T00:00:00.000000000",
          "2023-09-15T00:00:00.000000000",
          "2023-09-16T00:00:00.000000000",
          "2023-09-17T00:00:00.000000000",
          "2023-09-18T00:00:00.000000000",
          "2023-09-19T00:00:00.000000000",
          "2023-09-20T00:00:00.000000000",
          "2023-09-21T00:00:00.000000000",
          "2023-09-22T00:00:00.000000000",
          "2023-09-23T00:00:00.000000000",
          "2023-09-24T00:00:00.000000000",
          "2023-09-25T00:00:00.000000000",
          "2023-09-26T00:00:00.000000000",
          "2023-09-27T00:00:00.000000000",
          "2023-09-28T00:00:00.000000000",
          "2023-09-29T00:00:00.000000000",
          "2023-09-30T00:00:00.000000000",
          "2023-10-01T00:00:00.000000000",
          "2023-10-02T00:00:00.000000000",
          "2023-10-03T00:00:00.000000000",
          "2023-10-04T00:00:00.000000000",
          "2023-10-05T00:00:00.000000000",
          "2023-10-06T00:00:00.000000000",
          "2023-10-07T00:00:00.000000000",
          "2023-10-08T00:00:00.000000000",
          "2023-10-09T00:00:00.000000000",
          "2023-10-10T00:00:00.000000000",
          "2023-10-11T00:00:00.000000000",
          "2023-10-12T00:00:00.000000000",
          "2023-10-13T00:00:00.000000000",
          "2023-10-14T00:00:00.000000000",
          "2023-10-15T00:00:00.000000000",
          "2023-10-16T00:00:00.000000000",
          "2023-10-17T00:00:00.000000000",
          "2023-10-18T00:00:00.000000000",
          "2023-10-19T00:00:00.000000000",
          "2023-10-20T00:00:00.000000000",
          "2023-10-21T00:00:00.000000000",
          "2023-10-22T00:00:00.000000000",
          "2023-10-23T00:00:00.000000000",
          "2023-10-24T00:00:00.000000000",
          "2023-10-25T00:00:00.000000000",
          "2023-10-26T00:00:00.000000000",
          "2023-10-27T00:00:00.000000000",
          "2023-10-28T00:00:00.000000000",
          "2023-10-29T00:00:00.000000000",
          "2023-10-30T00:00:00.000000000",
          "2023-10-31T00:00:00.000000000",
          "2023-11-01T00:00:00.000000000",
          "2023-11-02T00:00:00.000000000",
          "2023-11-03T00:00:00.000000000",
          "2023-11-04T00:00:00.000000000",
          "2023-11-05T00:00:00.000000000",
          "2023-11-06T00:00:00.000000000",
          "2023-11-07T00:00:00.000000000",
          "2023-11-08T00:00:00.000000000",
          "2023-11-09T00:00:00.000000000",
          "2023-11-10T00:00:00.000000000",
          "2023-11-11T00:00:00.000000000",
          "2023-11-12T00:00:00.000000000",
          "2023-11-13T00:00:00.000000000",
          "2023-11-14T00:00:00.000000000",
          "2023-11-15T00:00:00.000000000",
          "2023-11-16T00:00:00.000000000",
          "2023-11-17T00:00:00.000000000",
          "2023-11-18T00:00:00.000000000",
          "2023-11-19T00:00:00.000000000",
          "2023-11-20T00:00:00.000000000",
          "2023-11-21T00:00:00.000000000",
          "2023-11-22T00:00:00.000000000",
          "2023-11-23T00:00:00.000000000",
          "2023-11-24T00:00:00.000000000",
          "2023-11-25T00:00:00.000000000",
          "2023-11-26T00:00:00.000000000",
          "2023-11-27T00:00:00.000000000",
          "2023-11-28T00:00:00.000000000",
          "2023-11-29T00:00:00.000000000",
          "2023-11-30T00:00:00.000000000",
          "2023-12-01T00:00:00.000000000",
          "2023-12-02T00:00:00.000000000",
          "2023-12-03T00:00:00.000000000",
          "2023-12-04T00:00:00.000000000",
          "2023-12-05T00:00:00.000000000",
          "2023-12-06T00:00:00.000000000",
          "2023-12-07T00:00:00.000000000",
          "2023-12-08T00:00:00.000000000",
          "2023-12-09T00:00:00.000000000",
          "2023-12-10T00:00:00.000000000",
          "2023-12-11T00:00:00.000000000",
          "2023-12-12T00:00:00.000000000",
          "2023-12-13T00:00:00.000000000",
          "2023-12-14T00:00:00.000000000",
          "2023-12-15T00:00:00.000000000",
          "2023-12-16T00:00:00.000000000",
          "2023-12-17T00:00:00.000000000",
          "2023-12-18T00:00:00.000000000",
          "2023-12-19T00:00:00.000000000",
          "2023-12-20T00:00:00.000000000",
          "2023-12-21T00:00:00.000000000",
          "2023-12-22T00:00:00.000000000",
          "2023-12-23T00:00:00.000000000",
          "2023-12-24T00:00:00.000000000",
          "2023-12-25T00:00:00.000000000",
          "2023-12-26T00:00:00.000000000",
          "2023-12-27T00:00:00.000000000",
          "2023-12-28T00:00:00.000000000",
          "2023-12-29T00:00:00.000000000",
          "2023-12-30T00:00:00.000000000",
          "2023-12-31T00:00:00.000000000",
          "2024-01-01T00:00:00.000000000",
          "2024-01-02T00:00:00.000000000",
          "2024-01-03T00:00:00.000000000",
          "2024-01-04T00:00:00.000000000",
          "2024-01-05T00:00:00.000000000",
          "2024-01-06T00:00:00.000000000",
          "2024-01-07T00:00:00.000000000",
          "2024-01-08T00:00:00.000000000",
          "2024-01-09T00:00:00.000000000",
          "2024-01-10T00:00:00.000000000",
          "2024-01-11T00:00:00.000000000",
          "2024-01-12T00:00:00.000000000",
          "2024-01-13T00:00:00.000000000",
          "2024-01-14T00:00:00.000000000",
          "2024-01-15T00:00:00.000000000",
          "2024-01-16T00:00:00.000000000",
          "2024-01-17T00:00:00.000000000",
          "2024-01-18T00:00:00.000000000",
          "2024-01-19T00:00:00.000000000",
          "2024-01-20T00:00:00.000000000",
          "2024-01-21T00:00:00.000000000",
          "2024-01-22T00:00:00.000000000",
          "2024-01-23T00:00:00.000000000",
          "2024-01-24T00:00:00.000000000",
          "2024-01-25T00:00:00.000000000",
          "2024-01-26T00:00:00.000000000",
          "2024-01-27T00:00:00.000000000",
          "2024-01-28T00:00:00.000000000",
          "2024-01-29T00:00:00.000000000",
          "2024-01-30T00:00:00.000000000",
          "2024-01-31T00:00:00.000000000",
          "2024-02-01T00:00:00.000000000",
          "2024-02-02T00:00:00.000000000",
          "2024-02-03T00:00:00.000000000",
          "2024-02-04T00:00:00.000000000",
          "2024-02-05T00:00:00.000000000",
          "2024-02-06T00:00:00.000000000",
          "2024-02-07T00:00:00.000000000",
          "2024-02-08T00:00:00.000000000",
          "2024-02-09T00:00:00.000000000",
          "2024-02-10T00:00:00.000000000",
          "2024-02-11T00:00:00.000000000",
          "2024-02-12T00:00:00.000000000",
          "2024-02-13T00:00:00.000000000",
          "2024-02-14T00:00:00.000000000",
          "2024-02-15T00:00:00.000000000",
          "2024-02-16T00:00:00.000000000",
          "2024-02-17T00:00:00.000000000",
          "2024-02-18T00:00:00.000000000",
          "2024-02-19T00:00:00.000000000",
          "2024-02-20T00:00:00.000000000",
          "2024-02-21T00:00:00.000000000",
          "2024-02-22T00:00:00.000000000",
          "2024-02-23T00:00:00.000000000",
          "2024-02-24T00:00:00.000000000",
          "2024-02-25T00:00:00.000000000",
          "2024-02-26T00:00:00.000000000",
          "2024-02-27T00:00:00.000000000",
          "2024-02-28T00:00:00.000000000",
          "2024-02-29T00:00:00.000000000",
          "2024-03-01T00:00:00.000000000",
          "2024-03-02T00:00:00.000000000",
          "2024-03-03T00:00:00.000000000",
          "2024-03-04T00:00:00.000000000",
          "2024-03-05T00:00:00.000000000",
          "2024-03-06T00:00:00.000000000",
          "2024-03-07T00:00:00.000000000",
          "2024-03-08T00:00:00.000000000",
          "2024-03-09T00:00:00.000000000",
          "2024-03-10T00:00:00.000000000",
          "2024-03-11T00:00:00.000000000",
          "2024-03-12T00:00:00.000000000",
          "2024-03-13T00:00:00.000000000",
          "2024-03-14T00:00:00.000000000",
          "2024-03-15T00:00:00.000000000",
          "2024-03-16T00:00:00.000000000",
          "2024-03-17T00:00:00.000000000",
          "2024-03-18T00:00:00.000000000",
          "2024-03-19T00:00:00.000000000",
          "2024-03-20T00:00:00.000000000",
          "2024-03-21T00:00:00.000000000",
          "2024-03-22T00:00:00.000000000",
          "2024-03-23T00:00:00.000000000",
          "2024-03-24T00:00:00.000000000",
          "2024-03-25T00:00:00.000000000",
          "2024-03-26T00:00:00.000000000",
          "2024-03-27T00:00:00.000000000",
          "2024-03-28T00:00:00.000000000",
          "2024-03-29T00:00:00.000000000",
          "2024-03-30T00:00:00.000000000",
          "2024-03-31T00:00:00.000000000",
          "2024-04-01T00:00:00.000000000",
          "2024-04-02T00:00:00.000000000",
          "2024-04-03T00:00:00.000000000",
          "2024-04-04T00:00:00.000000000",
          "2024-04-05T00:00:00.000000000",
          "2024-04-06T00:00:00.000000000",
          "2024-04-07T00:00:00.000000000",
          "2024-04-08T00:00:00.000000000",
          "2024-04-09T00:00:00.000000000",
          "2024-04-10T00:00:00.000000000",
          "2024-04-11T00:00:00.000000000",
          "2024-04-12T00:00:00.000000000",
          "2024-04-13T00:00:00.000000000",
          "2024-04-14T00:00:00.000000000",
          "2024-04-15T00:00:00.000000000",
          "2024-04-16T00:00:00.000000000",
          "2024-04-17T00:00:00.000000000",
          "2024-04-18T00:00:00.000000000",
          "2024-04-19T00:00:00.000000000",
          "2024-04-20T00:00:00.000000000",
          "2024-04-21T00:00:00.000000000",
          "2024-04-22T00:00:00.000000000",
          "2024-04-23T00:00:00.000000000",
          "2024-04-24T00:00:00.000000000",
          "2024-04-25T00:00:00.000000000",
          "2024-04-26T00:00:00.000000000",
          "2024-04-27T00:00:00.000000000",
          "2024-04-28T00:00:00.000000000",
          "2024-04-29T00:00:00.000000000",
          "2024-04-30T00:00:00.000000000",
          "2024-05-01T00:00:00.000000000",
          "2024-05-02T00:00:00.000000000",
          "2024-05-03T00:00:00.000000000",
          "2024-05-04T00:00:00.000000000",
          "2024-05-05T00:00:00.000000000",
          "2024-05-06T00:00:00.000000000",
          "2024-05-07T00:00:00.000000000",
          "2024-05-08T00:00:00.000000000",
          "2024-05-09T00:00:00.000000000",
          "2024-05-10T00:00:00.000000000",
          "2024-05-11T00:00:00.000000000",
          "2024-05-12T00:00:00.000000000",
          "2024-05-13T00:00:00.000000000",
          "2024-05-14T00:00:00.000000000"
         ],
         "xaxis": "x",
         "y": {
          "bdata": "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",
          "dtype": "f8"
         },
         "yaxis": "y"
        }
       ],
       "layout": {
        "hovermode": "x unified",
        "legend": {
         "title": {
          "text": "Metric"
         },
         "tracegroupgap": 0
        },
        "template": {
         "data": {
          "bar": [
           {
            "error_x": {
             "color": "#2a3f5f"
            },
            "error_y": {
             "color": "#2a3f5f"
            },
            "marker": {
             "line": {
              "color": "#E5ECF6",
              "width": 0.5
             },
             "pattern": {
              "fillmode": "overlay",
              "size": 10,
              "solidity": 0.2
             }
            },
            "type": "bar"
           }
          ],
          "barpolar": [
           {
            "marker": {
             "line": {
              "color": "#E5ECF6",
              "width": 0.5
             },
             "pattern": {
              "fillmode": "overlay",
              "size": 10,
              "solidity": 0.2
             }
            },
            "type": "barpolar"
           }
          ],
          "carpet": [
           {
            "aaxis": {
             "endlinecolor": "#2a3f5f",
             "gridcolor": "white",
             "linecolor": "white",
             "minorgridcolor": "white",
             "startlinecolor": "#2a3f5f"
            },
            "baxis": {
             "endlinecolor": "#2a3f5f",
             "gridcolor": "white",
             "linecolor": "white",
             "minorgridcolor": "white",
             "startlinecolor": "#2a3f5f"
            },
            "type": "carpet"
           }
          ],
          "choropleth": [
           {
            "colorbar": {
             "outlinewidth": 0,
             "ticks": ""
            },
            "type": "choropleth"
           }
          ],
          "contour": [
           {
            "colorbar": {
             "outlinewidth": 0,
             "ticks": ""
            },
            "colorscale": [
             [
              0,
              "#0d0887"
             ],
             [
              0.1111111111111111,
              "#46039f"
             ],
             [
              0.2222222222222222,
              "#7201a8"
             ],
             [
              0.3333333333333333,
              "#9c179e"
             ],
             [
              0.4444444444444444,
              "#bd3786"
             ],
             [
              0.5555555555555556,
              "#d8576b"
             ],
             [
              0.6666666666666666,
              "#ed7953"
             ],
             [
              0.7777777777777778,
              "#fb9f3a"
             ],
             [
              0.8888888888888888,
              "#fdca26"
             ],
             [
              1,
              "#f0f921"
             ]
            ],
            "type": "contour"
           }
          ],
          "contourcarpet": [
           {
            "colorbar": {
             "outlinewidth": 0,
             "ticks": ""
            },
            "type": "contourcarpet"
           }
          ],
          "heatmap": [
           {
            "colorbar": {
             "outlinewidth": 0,
             "ticks": ""
            },
            "colorscale": [
             [
              0,
              "#0d0887"
             ],
             [
              0.1111111111111111,
              "#46039f"
             ],
             [
              0.2222222222222222,
              "#7201a8"
             ],
             [
              0.3333333333333333,
              "#9c179e"
             ],
             [
              0.4444444444444444,
              "#bd3786"
             ],
             [
              0.5555555555555556,
              "#d8576b"
             ],
             [
              0.6666666666666666,
              "#ed7953"
             ],
             [
              0.7777777777777778,
              "#fb9f3a"
             ],
             [
              0.8888888888888888,
              "#fdca26"
             ],
             [
              1,
              "#f0f921"
             ]
            ],
            "type": "heatmap"
           }
          ],
          "histogram": [
           {
            "marker": {
             "pattern": {
              "fillmode": "overlay",
              "size": 10,
              "solidity": 0.2
             }
            },
            "type": "histogram"
           }
          ],
          "histogram2d": [
           {
            "colorbar": {
             "outlinewidth": 0,
             "ticks": ""
            },
            "colorscale": [
             [
              0,
              "#0d0887"
             ],
             [
              0.1111111111111111,
              "#46039f"
             ],
             [
              0.2222222222222222,
              "#7201a8"
             ],
             [
              0.3333333333333333,
              "#9c179e"
             ],
             [
              0.4444444444444444,
              "#bd3786"
             ],
             [
              0.5555555555555556,
              "#d8576b"
             ],
             [
              0.6666666666666666,
              "#ed7953"
             ],
             [
              0.7777777777777778,
              "#fb9f3a"
             ],
             [
              0.8888888888888888,
              "#fdca26"
             ],
             [
              1,
              "#f0f921"
             ]
            ],
            "type": "histogram2d"
           }
          ],
          "histogram2dcontour": [
           {
            "colorbar": {
             "outlinewidth": 0,
             "ticks": ""
            },
            "colorscale": [
             [
              0,
              "#0d0887"
             ],
             [
              0.1111111111111111,
              "#46039f"
             ],
             [
              0.2222222222222222,
              "#7201a8"
             ],
             [
              0.3333333333333333,
              "#9c179e"
             ],
             [
              0.4444444444444444,
              "#bd3786"
             ],
             [
              0.5555555555555556,
              "#d8576b"
             ],
             [
              0.6666666666666666,
              "#ed7953"
             ],
             [
              0.7777777777777778,
              "#fb9f3a"
             ],
             [
              0.8888888888888888,
              "#fdca26"
             ],
             [
              1,
              "#f0f921"
             ]
            ],
            "type": "histogram2dcontour"
           }
          ],
          "mesh3d": [
           {
            "colorbar": {
             "outlinewidth": 0,
             "ticks": ""
            },
            "type": "mesh3d"
           }
          ],
          "parcoords": [
           {
            "line": {
             "colorbar": {
              "outlinewidth": 0,
              "ticks": ""
             }
            },
            "type": "parcoords"
           }
          ],
          "pie": [
           {
            "automargin": true,
            "type": "pie"
           }
          ],
          "scatter": [
           {
            "fillpattern": {
             "fillmode": "overlay",
             "size": 10,
             "solidity": 0.2
            },
            "type": "scatter"
           }
          ],
          "scatter3d": [
           {
            "line": {
             "colorbar": {
              "outlinewidth": 0,
              "ticks": ""
             }
            },
            "marker": {
             "colorbar": {
              "outlinewidth": 0,
              "ticks": ""
             }
            },
            "type": "scatter3d"
           }
          ],
          "scattercarpet": [
           {
            "marker": {
             "colorbar": {
              "outlinewidth": 0,
              "ticks": ""
             }
            },
            "type": "scattercarpet"
           }
          ],
          "scattergeo": [
           {
            "marker": {
             "colorbar": {
              "outlinewidth": 0,
              "ticks": ""
             }
            },
            "type": "scattergeo"
           }
          ],
          "scattergl": [
           {
            "marker": {
             "colorbar": {
              "outlinewidth": 0,
              "ticks": ""
             }
            },
            "type": "scattergl"
           }
          ],
          "scattermap": [
           {
            "marker": {
             "colorbar": {
              "outlinewidth": 0,
              "ticks": ""
             }
            },
            "type": "scattermap"
           }
          ],
          "scattermapbox": [
           {
            "marker": {
             "colorbar": {
              "outlinewidth": 0,
              "ticks": ""
             }
            },
            "type": "scattermapbox"
           }
          ],
          "scatterpolar": [
           {
            "marker": {
             "colorbar": {
              "outlinewidth": 0,
              "ticks": ""
             }
            },
            "type": "scatterpolar"
           }
          ],
          "scatterpolargl": [
           {
            "marker": {
             "colorbar": {
              "outlinewidth": 0,
              "ticks": ""
             }
            },
            "type": "scatterpolargl"
           }
          ],
          "scatterternary": [
           {
            "marker": {
             "colorbar": {
              "outlinewidth": 0,
              "ticks": ""
             }
            },
            "type": "scatterternary"
           }
          ],
          "surface": [
           {
            "colorbar": {
             "outlinewidth": 0,
             "ticks": ""
            },
            "colorscale": [
             [
              0,
              "#0d0887"
             ],
             [
              0.1111111111111111,
              "#46039f"
             ],
             [
              0.2222222222222222,
              "#7201a8"
             ],
             [
              0.3333333333333333,
              "#9c179e"
             ],
             [
              0.4444444444444444,
              "#bd3786"
             ],
             [
              0.5555555555555556,
              "#d8576b"
             ],
             [
              0.6666666666666666,
              "#ed7953"
             ],
             [
              0.7777777777777778,
              "#fb9f3a"
             ],
             [
              0.8888888888888888,
              "#fdca26"
             ],
             [
              1,
              "#f0f921"
             ]
            ],
            "type": "surface"
           }
          ],
          "table": [
           {
            "cells": {
             "fill": {
              "color": "#EBF0F8"
             },
             "line": {
              "color": "white"
             }
            },
            "header": {
             "fill": {
              "color": "#C8D4E3"
             },
             "line": {
              "color": "white"
             }
            },
            "type": "table"
           }
          ]
         },
         "layout": {
          "annotationdefaults": {
           "arrowcolor": "#2a3f5f",
           "arrowhead": 0,
           "arrowwidth": 1
          },
          "autotypenumbers": "strict",
          "coloraxis": {
           "colorbar": {
            "outlinewidth": 0,
            "ticks": ""
           }
          },
          "colorscale": {
           "diverging": [
            [
             0,
             "#8e0152"
            ],
            [
             0.1,
             "#c51b7d"
            ],
            [
             0.2,
             "#de77ae"
            ],
            [
             0.3,
             "#f1b6da"
            ],
            [
             0.4,
             "#fde0ef"
            ],
            [
             0.5,
             "#f7f7f7"
            ],
            [
             0.6,
             "#e6f5d0"
            ],
            [
             0.7,
             "#b8e186"
            ],
            [
             0.8,
             "#7fbc41"
            ],
            [
             0.9,
             "#4d9221"
            ],
            [
             1,
             "#276419"
            ]
           ],
           "sequential": [
            [
             0,
             "#0d0887"
            ],
            [
             0.1111111111111111,
             "#46039f"
            ],
            [
             0.2222222222222222,
             "#7201a8"
            ],
            [
             0.3333333333333333,
             "#9c179e"
            ],
            [
             0.4444444444444444,
             "#bd3786"
            ],
            [
             0.5555555555555556,
             "#d8576b"
            ],
            [
             0.6666666666666666,
             "#ed7953"
            ],
            [
             0.7777777777777778,
             "#fb9f3a"
            ],
            [
             0.8888888888888888,
             "#fdca26"
            ],
            [
             1,
             "#f0f921"
            ]
           ],
           "sequentialminus": [
            [
             0,
             "#0d0887"
            ],
            [
             0.1111111111111111,
             "#46039f"
            ],
            [
             0.2222222222222222,
             "#7201a8"
            ],
            [
             0.3333333333333333,
             "#9c179e"
            ],
            [
             0.4444444444444444,
             "#bd3786"
            ],
            [
             0.5555555555555556,
             "#d8576b"
            ],
            [
             0.6666666666666666,
             "#ed7953"
            ],
            [
             0.7777777777777778,
             "#fb9f3a"
            ],
            [
             0.8888888888888888,
             "#fdca26"
            ],
            [
             1,
             "#f0f921"
            ]
           ]
          },
          "colorway": [
           "#636efa",
           "#EF553B",
           "#00cc96",
           "#ab63fa",
           "#FFA15A",
           "#19d3f3",
           "#FF6692",
           "#B6E880",
           "#FF97FF",
           "#FECB52"
          ],
          "font": {
           "color": "#2a3f5f"
          },
          "geo": {
           "bgcolor": "white",
           "lakecolor": "white",
           "landcolor": "#E5ECF6",
           "showlakes": true,
           "showland": true,
           "subunitcolor": "white"
          },
          "hoverlabel": {
           "align": "left"
          },
          "hovermode": "closest",
          "mapbox": {
           "style": "light"
          },
          "paper_bgcolor": "white",
          "plot_bgcolor": "#E5ECF6",
          "polar": {
           "angularaxis": {
            "gridcolor": "white",
            "linecolor": "white",
            "ticks": ""
           },
           "bgcolor": "#E5ECF6",
           "radialaxis": {
            "gridcolor": "white",
            "linecolor": "white",
            "ticks": ""
           }
          },
          "scene": {
           "xaxis": {
            "backgroundcolor": "#E5ECF6",
            "gridcolor": "white",
            "gridwidth": 2,
            "linecolor": "white",
            "showbackground": true,
            "ticks": "",
            "zerolinecolor": "white"
           },
           "yaxis": {
            "backgroundcolor": "#E5ECF6",
            "gridcolor": "white",
            "gridwidth": 2,
            "linecolor": "white",
            "showbackground": true,
            "ticks": "",
            "zerolinecolor": "white"
           },
           "zaxis": {
            "backgroundcolor": "#E5ECF6",
            "gridcolor": "white",
            "gridwidth": 2,
            "linecolor": "white",
            "showbackground": true,
            "ticks": "",
            "zerolinecolor": "white"
           }
          },
          "shapedefaults": {
           "line": {
            "color": "#2a3f5f"
           }
          },
          "ternary": {
           "aaxis": {
            "gridcolor": "white",
            "linecolor": "white",
            "ticks": ""
           },
           "baxis": {
            "gridcolor": "white",
            "linecolor": "white",
            "ticks": ""
           },
           "bgcolor": "#E5ECF6",
           "caxis": {
            "gridcolor": "white",
            "linecolor": "white",
            "ticks": ""
           }
          },
          "title": {
           "x": 0.05
          },
          "xaxis": {
           "automargin": true,
           "gridcolor": "white",
           "linecolor": "white",
           "ticks": "",
           "title": {
            "standoff": 15
           },
           "zerolinecolor": "white",
           "zerolinewidth": 2
          },
          "yaxis": {
           "automargin": true,
           "gridcolor": "white",
           "linecolor": "white",
           "ticks": "",
           "title": {
            "standoff": 15
           },
           "zerolinecolor": "white",
           "zerolinewidth": 2
          }
         }
        },
        "title": {
         "text": "Interactive 7-Day Rolling Average of Steps & Calories"
        },
        "xaxis": {
         "anchor": "y",
         "domain": [
          0,
          1
         ],
         "rangeslider": {
          "visible": true
         },
         "title": {
          "text": "Date"
         }
        },
        "yaxis": {
         "anchor": "x",
         "domain": [
          0,
          1
         ],
         "title": {
          "text": "7-Day Rolling Average"
         }
        }
       }
      }
     },
     "metadata": {},
     "output_type": "display_data"
    }
   ],
   "source": [
    "df_long = df.melt(\n",
    "    id_vars=\"Date\",\n",
    "    value_vars=[\"Steps_Roll\", \"Calories_Roll\"],\n",
    "    var_name=\"Metric\",\n",
    "    value_name=\"Value\"\n",
    ")\n",
    "\n",
    "# Interactive line chart\n",
    "fig = px.line(\n",
    "    df_long,\n",
    "    x=\"Date\",\n",
    "    y=\"Value\",\n",
    "    color=\"Metric\",\n",
    "    title=\"Interactive 7-Day Rolling Average of Steps & Calories\",\n",
    "    labels={\"Value\": \"7-Day Rolling Average\"}\n",
    ")\n",
    "\n",
    "fig.update_layout(\n",
    "    hovermode=\"x unified\",\n",
    "    legend_title=\"Metric\",\n",
    "    xaxis=dict(rangeslider=dict(visible=True)) \n",
    ")\n",
    "\n",
    "fig.show()"
   ]
  }
 ],
 "metadata": {
  "kernelspec": {
   "display_name": ".venv",
   "language": "python",
   "name": "python3"
  },
  "language_info": {
   "codemirror_mode": {
    "name": "ipython",
    "version": 3
   },
   "file_extension": ".py",
   "mimetype": "text/x-python",
   "name": "python",
   "nbconvert_exporter": "python",
   "pygments_lexer": "ipython3",
   "version": "3.13.5"
  }
 },
 "nbformat": 4,
 "nbformat_minor": 5
}
